{
 "cells": [
  {
   "cell_type": "markdown",
   "metadata": {},
   "source": [
    "# 1. Introduction"
   ]
  },
  {
   "cell_type": "markdown",
   "metadata": {},
   "source": [
    "Dataset : https://archive.ics.uci.edu/dataset/544/estimation+of+obesity+levels+based+on+eating+habits+and+physical+condition\n",
    "\n",
    "Objective    : Membuat sebuah model Classification yang dapat melakukan prediksi untuk mengetahui Tipe Berat badan, apakah seseorang tersebut insufficient_weight, normal, Obesity_Type_I, Obesity_Type_II, Obesity_Type_III, Overweight_Level_I atau Overweight_Level_II "
   ]
  },
  {
   "cell_type": "markdown",
   "metadata": {},
   "source": [
    "## **Latar Belakang**"
   ]
  },
  {
   "cell_type": "markdown",
   "metadata": {},
   "source": [
    "Seiring berjalannya waktu, gaya hidup modern telah memengaruhi pola makan dan aktivitas fisik di seluruh dunia, yang telah berkontribusi pada peningkatan masalah obesitas.\n",
    "\n",
    "Data mencakup informasi tentang kebiasaan makan, kondisi fisik, usia, jenis kelamin, dan karakteristik individu lainnya.\n",
    "\n",
    "Data yang dikumpulkan kemudian diolah dan diberi label untuk menciptakan variabel kelas NObesity, yang mencerminkan tingkat obesitas individu. Ini dilakukan dengan merujuk pada panduan dari Organisasi Kesehatan Dunia (WHO). Hasil dari penelitian ini akan memberikan wawasan berharga tentang faktor-faktor yang mempengaruhi obesitas dan dapat membantu dalam pengembangan program-program pencegahan dan pengelolaan obesitas."
   ]
  },
  {
   "cell_type": "markdown",
   "metadata": {},
   "source": [
    "# 2. Import Libraries "
   ]
  },
  {
   "cell_type": "markdown",
   "metadata": {},
   "source": [
    "Cell pertama pada notebook harus berisi dan hanya berisi semua library yang digunakan dalam project."
   ]
  },
  {
   "cell_type": "code",
   "execution_count": 583,
   "metadata": {},
   "outputs": [],
   "source": [
    "import pandas as pd\n",
    "import numpy as np\n",
    "import seaborn as sns\n",
    "import matplotlib.pyplot as plt\n",
    "from scipy import stats\n",
    "from scipy.stats import kendalltau\n",
    "import pickle\n",
    "import plotly.express  as px\n",
    "\n",
    "\n",
    "# preprocessing\n",
    "from sklearn.model_selection import train_test_split\n",
    "from sklearn.preprocessing import StandardScaler\n",
    "from feature_engine.outliers import Winsorizer , OutlierTrimmer\n",
    "from statsmodels.stats.outliers_influence import variance_inflation_factor\n",
    "from imblearn.over_sampling import SMOTENC\n",
    "from sklearn.decomposition import PCA\n",
    "from sklearn.preprocessing import MinMaxScaler\n",
    "\n",
    "#model\n",
    "from sklearn.cluster import KMeans\n",
    "\n",
    "# Untuk membuat Silhouette Plot\n",
    "import matplotlib.cm as cm\n",
    "from sklearn.metrics import silhouette_score,silhouette_samples\n",
    "\n",
    "#Untuk mengabaikan fitur peringatan\n",
    "import warnings\n",
    "warnings.filterwarnings('ignore')"
   ]
  },
  {
   "cell_type": "markdown",
   "metadata": {},
   "source": [
    "# 3. Data Loading"
   ]
  },
  {
   "cell_type": "markdown",
   "metadata": {},
   "source": [
    "Bagian ini berisi proses penyiapan data sebelum dilakukan eksplorasi data lebih lanjut. Proses Data Loading dapat berupa memberi nama baru untuk setiap kolom, mengecek ukuran dataset, dll."
   ]
  },
  {
   "cell_type": "code",
   "execution_count": 584,
   "metadata": {},
   "outputs": [
    {
     "data": {
      "text/html": [
       "<div>\n",
       "<style scoped>\n",
       "    .dataframe tbody tr th:only-of-type {\n",
       "        vertical-align: middle;\n",
       "    }\n",
       "\n",
       "    .dataframe tbody tr th {\n",
       "        vertical-align: top;\n",
       "    }\n",
       "\n",
       "    .dataframe thead th {\n",
       "        text-align: right;\n",
       "    }\n",
       "</style>\n",
       "<table border=\"1\" class=\"dataframe\">\n",
       "  <thead>\n",
       "    <tr style=\"text-align: right;\">\n",
       "      <th></th>\n",
       "      <th>Gender</th>\n",
       "      <th>Age</th>\n",
       "      <th>Height</th>\n",
       "      <th>Weight</th>\n",
       "      <th>family_history_with_overweight</th>\n",
       "      <th>FAVC</th>\n",
       "      <th>FCVC</th>\n",
       "      <th>NCP</th>\n",
       "      <th>CAEC</th>\n",
       "      <th>SMOKE</th>\n",
       "      <th>CH2O</th>\n",
       "      <th>SCC</th>\n",
       "      <th>FAF</th>\n",
       "      <th>TUE</th>\n",
       "      <th>CALC</th>\n",
       "      <th>MTRANS</th>\n",
       "      <th>NObeyesdad</th>\n",
       "    </tr>\n",
       "  </thead>\n",
       "  <tbody>\n",
       "    <tr>\n",
       "      <th>0</th>\n",
       "      <td>Female</td>\n",
       "      <td>21.000000</td>\n",
       "      <td>1.620000</td>\n",
       "      <td>64.000000</td>\n",
       "      <td>yes</td>\n",
       "      <td>no</td>\n",
       "      <td>2.0</td>\n",
       "      <td>3.0</td>\n",
       "      <td>Sometimes</td>\n",
       "      <td>no</td>\n",
       "      <td>2.000000</td>\n",
       "      <td>no</td>\n",
       "      <td>0.000000</td>\n",
       "      <td>1.000000</td>\n",
       "      <td>no</td>\n",
       "      <td>Public_Transportation</td>\n",
       "      <td>Normal_Weight</td>\n",
       "    </tr>\n",
       "    <tr>\n",
       "      <th>1</th>\n",
       "      <td>Female</td>\n",
       "      <td>21.000000</td>\n",
       "      <td>1.520000</td>\n",
       "      <td>56.000000</td>\n",
       "      <td>yes</td>\n",
       "      <td>no</td>\n",
       "      <td>3.0</td>\n",
       "      <td>3.0</td>\n",
       "      <td>Sometimes</td>\n",
       "      <td>yes</td>\n",
       "      <td>3.000000</td>\n",
       "      <td>yes</td>\n",
       "      <td>3.000000</td>\n",
       "      <td>0.000000</td>\n",
       "      <td>Sometimes</td>\n",
       "      <td>Public_Transportation</td>\n",
       "      <td>Normal_Weight</td>\n",
       "    </tr>\n",
       "    <tr>\n",
       "      <th>2</th>\n",
       "      <td>Male</td>\n",
       "      <td>23.000000</td>\n",
       "      <td>1.800000</td>\n",
       "      <td>77.000000</td>\n",
       "      <td>yes</td>\n",
       "      <td>no</td>\n",
       "      <td>2.0</td>\n",
       "      <td>3.0</td>\n",
       "      <td>Sometimes</td>\n",
       "      <td>no</td>\n",
       "      <td>2.000000</td>\n",
       "      <td>no</td>\n",
       "      <td>2.000000</td>\n",
       "      <td>1.000000</td>\n",
       "      <td>Frequently</td>\n",
       "      <td>Public_Transportation</td>\n",
       "      <td>Normal_Weight</td>\n",
       "    </tr>\n",
       "    <tr>\n",
       "      <th>3</th>\n",
       "      <td>Male</td>\n",
       "      <td>27.000000</td>\n",
       "      <td>1.800000</td>\n",
       "      <td>87.000000</td>\n",
       "      <td>no</td>\n",
       "      <td>no</td>\n",
       "      <td>3.0</td>\n",
       "      <td>3.0</td>\n",
       "      <td>Sometimes</td>\n",
       "      <td>no</td>\n",
       "      <td>2.000000</td>\n",
       "      <td>no</td>\n",
       "      <td>2.000000</td>\n",
       "      <td>0.000000</td>\n",
       "      <td>Frequently</td>\n",
       "      <td>Walking</td>\n",
       "      <td>Overweight_Level_I</td>\n",
       "    </tr>\n",
       "    <tr>\n",
       "      <th>4</th>\n",
       "      <td>Male</td>\n",
       "      <td>22.000000</td>\n",
       "      <td>1.780000</td>\n",
       "      <td>89.800000</td>\n",
       "      <td>no</td>\n",
       "      <td>no</td>\n",
       "      <td>2.0</td>\n",
       "      <td>1.0</td>\n",
       "      <td>Sometimes</td>\n",
       "      <td>no</td>\n",
       "      <td>2.000000</td>\n",
       "      <td>no</td>\n",
       "      <td>0.000000</td>\n",
       "      <td>0.000000</td>\n",
       "      <td>Sometimes</td>\n",
       "      <td>Public_Transportation</td>\n",
       "      <td>Overweight_Level_II</td>\n",
       "    </tr>\n",
       "    <tr>\n",
       "      <th>...</th>\n",
       "      <td>...</td>\n",
       "      <td>...</td>\n",
       "      <td>...</td>\n",
       "      <td>...</td>\n",
       "      <td>...</td>\n",
       "      <td>...</td>\n",
       "      <td>...</td>\n",
       "      <td>...</td>\n",
       "      <td>...</td>\n",
       "      <td>...</td>\n",
       "      <td>...</td>\n",
       "      <td>...</td>\n",
       "      <td>...</td>\n",
       "      <td>...</td>\n",
       "      <td>...</td>\n",
       "      <td>...</td>\n",
       "      <td>...</td>\n",
       "    </tr>\n",
       "    <tr>\n",
       "      <th>2106</th>\n",
       "      <td>Female</td>\n",
       "      <td>20.976842</td>\n",
       "      <td>1.710730</td>\n",
       "      <td>131.408528</td>\n",
       "      <td>yes</td>\n",
       "      <td>yes</td>\n",
       "      <td>3.0</td>\n",
       "      <td>3.0</td>\n",
       "      <td>Sometimes</td>\n",
       "      <td>no</td>\n",
       "      <td>1.728139</td>\n",
       "      <td>no</td>\n",
       "      <td>1.676269</td>\n",
       "      <td>0.906247</td>\n",
       "      <td>Sometimes</td>\n",
       "      <td>Public_Transportation</td>\n",
       "      <td>Obesity_Type_III</td>\n",
       "    </tr>\n",
       "    <tr>\n",
       "      <th>2107</th>\n",
       "      <td>Female</td>\n",
       "      <td>21.982942</td>\n",
       "      <td>1.748584</td>\n",
       "      <td>133.742943</td>\n",
       "      <td>yes</td>\n",
       "      <td>yes</td>\n",
       "      <td>3.0</td>\n",
       "      <td>3.0</td>\n",
       "      <td>Sometimes</td>\n",
       "      <td>no</td>\n",
       "      <td>2.005130</td>\n",
       "      <td>no</td>\n",
       "      <td>1.341390</td>\n",
       "      <td>0.599270</td>\n",
       "      <td>Sometimes</td>\n",
       "      <td>Public_Transportation</td>\n",
       "      <td>Obesity_Type_III</td>\n",
       "    </tr>\n",
       "    <tr>\n",
       "      <th>2108</th>\n",
       "      <td>Female</td>\n",
       "      <td>22.524036</td>\n",
       "      <td>1.752206</td>\n",
       "      <td>133.689352</td>\n",
       "      <td>yes</td>\n",
       "      <td>yes</td>\n",
       "      <td>3.0</td>\n",
       "      <td>3.0</td>\n",
       "      <td>Sometimes</td>\n",
       "      <td>no</td>\n",
       "      <td>2.054193</td>\n",
       "      <td>no</td>\n",
       "      <td>1.414209</td>\n",
       "      <td>0.646288</td>\n",
       "      <td>Sometimes</td>\n",
       "      <td>Public_Transportation</td>\n",
       "      <td>Obesity_Type_III</td>\n",
       "    </tr>\n",
       "    <tr>\n",
       "      <th>2109</th>\n",
       "      <td>Female</td>\n",
       "      <td>24.361936</td>\n",
       "      <td>1.739450</td>\n",
       "      <td>133.346641</td>\n",
       "      <td>yes</td>\n",
       "      <td>yes</td>\n",
       "      <td>3.0</td>\n",
       "      <td>3.0</td>\n",
       "      <td>Sometimes</td>\n",
       "      <td>no</td>\n",
       "      <td>2.852339</td>\n",
       "      <td>no</td>\n",
       "      <td>1.139107</td>\n",
       "      <td>0.586035</td>\n",
       "      <td>Sometimes</td>\n",
       "      <td>Public_Transportation</td>\n",
       "      <td>Obesity_Type_III</td>\n",
       "    </tr>\n",
       "    <tr>\n",
       "      <th>2110</th>\n",
       "      <td>Female</td>\n",
       "      <td>23.664709</td>\n",
       "      <td>1.738836</td>\n",
       "      <td>133.472641</td>\n",
       "      <td>yes</td>\n",
       "      <td>yes</td>\n",
       "      <td>3.0</td>\n",
       "      <td>3.0</td>\n",
       "      <td>Sometimes</td>\n",
       "      <td>no</td>\n",
       "      <td>2.863513</td>\n",
       "      <td>no</td>\n",
       "      <td>1.026452</td>\n",
       "      <td>0.714137</td>\n",
       "      <td>Sometimes</td>\n",
       "      <td>Public_Transportation</td>\n",
       "      <td>Obesity_Type_III</td>\n",
       "    </tr>\n",
       "  </tbody>\n",
       "</table>\n",
       "<p>2111 rows × 17 columns</p>\n",
       "</div>"
      ],
      "text/plain": [
       "      Gender        Age    Height      Weight family_history_with_overweight  \\\n",
       "0     Female  21.000000  1.620000   64.000000                            yes   \n",
       "1     Female  21.000000  1.520000   56.000000                            yes   \n",
       "2       Male  23.000000  1.800000   77.000000                            yes   \n",
       "3       Male  27.000000  1.800000   87.000000                             no   \n",
       "4       Male  22.000000  1.780000   89.800000                             no   \n",
       "...      ...        ...       ...         ...                            ...   \n",
       "2106  Female  20.976842  1.710730  131.408528                            yes   \n",
       "2107  Female  21.982942  1.748584  133.742943                            yes   \n",
       "2108  Female  22.524036  1.752206  133.689352                            yes   \n",
       "2109  Female  24.361936  1.739450  133.346641                            yes   \n",
       "2110  Female  23.664709  1.738836  133.472641                            yes   \n",
       "\n",
       "     FAVC  FCVC  NCP       CAEC SMOKE      CH2O  SCC       FAF       TUE  \\\n",
       "0      no   2.0  3.0  Sometimes    no  2.000000   no  0.000000  1.000000   \n",
       "1      no   3.0  3.0  Sometimes   yes  3.000000  yes  3.000000  0.000000   \n",
       "2      no   2.0  3.0  Sometimes    no  2.000000   no  2.000000  1.000000   \n",
       "3      no   3.0  3.0  Sometimes    no  2.000000   no  2.000000  0.000000   \n",
       "4      no   2.0  1.0  Sometimes    no  2.000000   no  0.000000  0.000000   \n",
       "...   ...   ...  ...        ...   ...       ...  ...       ...       ...   \n",
       "2106  yes   3.0  3.0  Sometimes    no  1.728139   no  1.676269  0.906247   \n",
       "2107  yes   3.0  3.0  Sometimes    no  2.005130   no  1.341390  0.599270   \n",
       "2108  yes   3.0  3.0  Sometimes    no  2.054193   no  1.414209  0.646288   \n",
       "2109  yes   3.0  3.0  Sometimes    no  2.852339   no  1.139107  0.586035   \n",
       "2110  yes   3.0  3.0  Sometimes    no  2.863513   no  1.026452  0.714137   \n",
       "\n",
       "            CALC                 MTRANS           NObeyesdad  \n",
       "0             no  Public_Transportation        Normal_Weight  \n",
       "1      Sometimes  Public_Transportation        Normal_Weight  \n",
       "2     Frequently  Public_Transportation        Normal_Weight  \n",
       "3     Frequently                Walking   Overweight_Level_I  \n",
       "4      Sometimes  Public_Transportation  Overweight_Level_II  \n",
       "...          ...                    ...                  ...  \n",
       "2106   Sometimes  Public_Transportation     Obesity_Type_III  \n",
       "2107   Sometimes  Public_Transportation     Obesity_Type_III  \n",
       "2108   Sometimes  Public_Transportation     Obesity_Type_III  \n",
       "2109   Sometimes  Public_Transportation     Obesity_Type_III  \n",
       "2110   Sometimes  Public_Transportation     Obesity_Type_III  \n",
       "\n",
       "[2111 rows x 17 columns]"
      ]
     },
     "execution_count": 584,
     "metadata": {},
     "output_type": "execute_result"
    }
   ],
   "source": [
    "df = pd.read_csv('ObesityDataSet_raw_and_data_sinthetic.csv')\n",
    "\n",
    "df"
   ]
  },
  {
   "cell_type": "markdown",
   "metadata": {},
   "source": [
    "| Nama Kolom                   | Keterangan                         |\n",
    "|-----------------------------|-----------------------------------|\n",
    "| Gender                      | Jenis Kelamin                     |\n",
    "| Age                         | Umur                              |\n",
    "| Height                      | Tinggi Badan                      |\n",
    "| Weight                      | Berat Badan                        |\n",
    "| family_history_with_overweight | Riwayat Keluarga dengan Berat Badan Lebih |\n",
    "| FAVC                        | Frekuensi makan berkalori tinggi  |\n",
    "| FCVC                        | Frekuensi makan sayur              |\n",
    "| NCP                         | Frekuensi makan makanan berat      |\n",
    "| CAEC                        | Frekuensi makan makanan ringan di antara makan berat |\n",
    "| SMOKE                       | Perokok atau bukan                 |\n",
    "| CH2O                        | Frekuensi konsumsi air setiap harinya |\n",
    "| SCC                         | Memantau konsumsi kalori           |\n",
    "| FAF                         | Frekuensi aktivitas fisik         |\n",
    "| TUE                         | Waktu menggunakan gadget           |\n",
    "| CALC                        | Frekuensi konsumsi alkohol         |\n",
    "| MTRANS                      | Transportasi yang dinaiki          |\n",
    "| NObeyesdad                  | Tipe Berat Badan                   |\n"
   ]
  },
  {
   "cell_type": "code",
   "execution_count": 585,
   "metadata": {},
   "outputs": [
    {
     "name": "stdout",
     "output_type": "stream",
     "text": [
      "<class 'pandas.core.frame.DataFrame'>\n",
      "RangeIndex: 2111 entries, 0 to 2110\n",
      "Data columns (total 17 columns):\n",
      " #   Column                          Non-Null Count  Dtype  \n",
      "---  ------                          --------------  -----  \n",
      " 0   Gender                          2111 non-null   object \n",
      " 1   Age                             2111 non-null   float64\n",
      " 2   Height                          2111 non-null   float64\n",
      " 3   Weight                          2111 non-null   float64\n",
      " 4   family_history_with_overweight  2111 non-null   object \n",
      " 5   FAVC                            2111 non-null   object \n",
      " 6   FCVC                            2111 non-null   float64\n",
      " 7   NCP                             2111 non-null   float64\n",
      " 8   CAEC                            2111 non-null   object \n",
      " 9   SMOKE                           2111 non-null   object \n",
      " 10  CH2O                            2111 non-null   float64\n",
      " 11  SCC                             2111 non-null   object \n",
      " 12  FAF                             2111 non-null   float64\n",
      " 13  TUE                             2111 non-null   float64\n",
      " 14  CALC                            2111 non-null   object \n",
      " 15  MTRANS                          2111 non-null   object \n",
      " 16  NObeyesdad                      2111 non-null   object \n",
      "dtypes: float64(8), object(9)\n",
      "memory usage: 280.5+ KB\n"
     ]
    }
   ],
   "source": [
    "df.info()"
   ]
  },
  {
   "cell_type": "code",
   "execution_count": 586,
   "metadata": {},
   "outputs": [
    {
     "data": {
      "text/plain": [
       "Gender                             object\n",
       "Age                               float64\n",
       "Height                            float64\n",
       "Weight                            float64\n",
       "family_history_with_overweight     object\n",
       "FAVC                               object\n",
       "FCVC                              float64\n",
       "NCP                               float64\n",
       "CAEC                               object\n",
       "SMOKE                              object\n",
       "CH2O                              float64\n",
       "SCC                                object\n",
       "FAF                               float64\n",
       "TUE                               float64\n",
       "CALC                               object\n",
       "MTRANS                             object\n",
       "NObeyesdad                         object\n",
       "dtype: object"
      ]
     },
     "execution_count": 586,
     "metadata": {},
     "output_type": "execute_result"
    }
   ],
   "source": [
    "df.dtypes"
   ]
  },
  {
   "cell_type": "code",
   "execution_count": 587,
   "metadata": {},
   "outputs": [],
   "source": [
    "# Mengganti nilai dalam kolom berdasarkan kondisi\n",
    "df['FCVC'] = df['FCVC'].apply(lambda x: 1 if x >= 3 else (2 if x >= 2 else 3))"
   ]
  },
  {
   "cell_type": "code",
   "execution_count": 588,
   "metadata": {},
   "outputs": [],
   "source": [
    "# Mengganti nilai dalam beberapa kolom berdasarkan kondisi\n",
    "columns_to_modify = ['FCVC', 'NCP', 'CH2O', 'FAF', 'TUE']\n",
    "\n",
    "for col in columns_to_modify:\n",
    "    df[col] = df[col].apply(lambda x: 1 if x >= 3 else (2 if x >= 2 else 3))"
   ]
  },
  {
   "cell_type": "code",
   "execution_count": 589,
   "metadata": {},
   "outputs": [],
   "source": [
    "# Mengganti type data Age dan Weight menjadi int\n",
    "df['Age'] = df['Age'].astype(int)\n",
    "df['Weight'] = df['Weight'].astype(int)"
   ]
  },
  {
   "cell_type": "code",
   "execution_count": 590,
   "metadata": {},
   "outputs": [],
   "source": [
    "# Meghapus angka dibelakang koma dan membulatkanya\n",
    "df['Height'] = df['Height'].apply(lambda x: round(x, 1))"
   ]
  },
  {
   "cell_type": "code",
   "execution_count": 591,
   "metadata": {},
   "outputs": [
    {
     "data": {
      "text/html": [
       "<div>\n",
       "<style scoped>\n",
       "    .dataframe tbody tr th:only-of-type {\n",
       "        vertical-align: middle;\n",
       "    }\n",
       "\n",
       "    .dataframe tbody tr th {\n",
       "        vertical-align: top;\n",
       "    }\n",
       "\n",
       "    .dataframe thead th {\n",
       "        text-align: right;\n",
       "    }\n",
       "</style>\n",
       "<table border=\"1\" class=\"dataframe\">\n",
       "  <thead>\n",
       "    <tr style=\"text-align: right;\">\n",
       "      <th></th>\n",
       "      <th>Gender</th>\n",
       "      <th>Age</th>\n",
       "      <th>Height</th>\n",
       "      <th>Weight</th>\n",
       "      <th>family_history_with_overweight</th>\n",
       "      <th>FAVC</th>\n",
       "      <th>FCVC</th>\n",
       "      <th>NCP</th>\n",
       "      <th>CAEC</th>\n",
       "      <th>SMOKE</th>\n",
       "      <th>CH2O</th>\n",
       "      <th>SCC</th>\n",
       "      <th>FAF</th>\n",
       "      <th>TUE</th>\n",
       "      <th>CALC</th>\n",
       "      <th>MTRANS</th>\n",
       "      <th>NObeyesdad</th>\n",
       "    </tr>\n",
       "  </thead>\n",
       "  <tbody>\n",
       "    <tr>\n",
       "      <th>0</th>\n",
       "      <td>Female</td>\n",
       "      <td>21</td>\n",
       "      <td>1.6</td>\n",
       "      <td>64</td>\n",
       "      <td>yes</td>\n",
       "      <td>no</td>\n",
       "      <td>2</td>\n",
       "      <td>1</td>\n",
       "      <td>Sometimes</td>\n",
       "      <td>no</td>\n",
       "      <td>2</td>\n",
       "      <td>no</td>\n",
       "      <td>3</td>\n",
       "      <td>3</td>\n",
       "      <td>no</td>\n",
       "      <td>Public_Transportation</td>\n",
       "      <td>Normal_Weight</td>\n",
       "    </tr>\n",
       "    <tr>\n",
       "      <th>1</th>\n",
       "      <td>Female</td>\n",
       "      <td>21</td>\n",
       "      <td>1.5</td>\n",
       "      <td>56</td>\n",
       "      <td>yes</td>\n",
       "      <td>no</td>\n",
       "      <td>3</td>\n",
       "      <td>1</td>\n",
       "      <td>Sometimes</td>\n",
       "      <td>yes</td>\n",
       "      <td>1</td>\n",
       "      <td>yes</td>\n",
       "      <td>1</td>\n",
       "      <td>3</td>\n",
       "      <td>Sometimes</td>\n",
       "      <td>Public_Transportation</td>\n",
       "      <td>Normal_Weight</td>\n",
       "    </tr>\n",
       "    <tr>\n",
       "      <th>2</th>\n",
       "      <td>Male</td>\n",
       "      <td>23</td>\n",
       "      <td>1.8</td>\n",
       "      <td>77</td>\n",
       "      <td>yes</td>\n",
       "      <td>no</td>\n",
       "      <td>2</td>\n",
       "      <td>1</td>\n",
       "      <td>Sometimes</td>\n",
       "      <td>no</td>\n",
       "      <td>2</td>\n",
       "      <td>no</td>\n",
       "      <td>2</td>\n",
       "      <td>3</td>\n",
       "      <td>Frequently</td>\n",
       "      <td>Public_Transportation</td>\n",
       "      <td>Normal_Weight</td>\n",
       "    </tr>\n",
       "    <tr>\n",
       "      <th>3</th>\n",
       "      <td>Male</td>\n",
       "      <td>27</td>\n",
       "      <td>1.8</td>\n",
       "      <td>87</td>\n",
       "      <td>no</td>\n",
       "      <td>no</td>\n",
       "      <td>3</td>\n",
       "      <td>1</td>\n",
       "      <td>Sometimes</td>\n",
       "      <td>no</td>\n",
       "      <td>2</td>\n",
       "      <td>no</td>\n",
       "      <td>2</td>\n",
       "      <td>3</td>\n",
       "      <td>Frequently</td>\n",
       "      <td>Walking</td>\n",
       "      <td>Overweight_Level_I</td>\n",
       "    </tr>\n",
       "    <tr>\n",
       "      <th>4</th>\n",
       "      <td>Male</td>\n",
       "      <td>22</td>\n",
       "      <td>1.8</td>\n",
       "      <td>89</td>\n",
       "      <td>no</td>\n",
       "      <td>no</td>\n",
       "      <td>2</td>\n",
       "      <td>3</td>\n",
       "      <td>Sometimes</td>\n",
       "      <td>no</td>\n",
       "      <td>2</td>\n",
       "      <td>no</td>\n",
       "      <td>3</td>\n",
       "      <td>3</td>\n",
       "      <td>Sometimes</td>\n",
       "      <td>Public_Transportation</td>\n",
       "      <td>Overweight_Level_II</td>\n",
       "    </tr>\n",
       "    <tr>\n",
       "      <th>5</th>\n",
       "      <td>Male</td>\n",
       "      <td>29</td>\n",
       "      <td>1.6</td>\n",
       "      <td>53</td>\n",
       "      <td>no</td>\n",
       "      <td>yes</td>\n",
       "      <td>2</td>\n",
       "      <td>1</td>\n",
       "      <td>Sometimes</td>\n",
       "      <td>no</td>\n",
       "      <td>2</td>\n",
       "      <td>no</td>\n",
       "      <td>3</td>\n",
       "      <td>3</td>\n",
       "      <td>Sometimes</td>\n",
       "      <td>Automobile</td>\n",
       "      <td>Normal_Weight</td>\n",
       "    </tr>\n",
       "    <tr>\n",
       "      <th>6</th>\n",
       "      <td>Female</td>\n",
       "      <td>23</td>\n",
       "      <td>1.5</td>\n",
       "      <td>55</td>\n",
       "      <td>yes</td>\n",
       "      <td>yes</td>\n",
       "      <td>3</td>\n",
       "      <td>1</td>\n",
       "      <td>Sometimes</td>\n",
       "      <td>no</td>\n",
       "      <td>2</td>\n",
       "      <td>no</td>\n",
       "      <td>3</td>\n",
       "      <td>3</td>\n",
       "      <td>Sometimes</td>\n",
       "      <td>Motorbike</td>\n",
       "      <td>Normal_Weight</td>\n",
       "    </tr>\n",
       "    <tr>\n",
       "      <th>7</th>\n",
       "      <td>Male</td>\n",
       "      <td>22</td>\n",
       "      <td>1.6</td>\n",
       "      <td>53</td>\n",
       "      <td>no</td>\n",
       "      <td>no</td>\n",
       "      <td>2</td>\n",
       "      <td>1</td>\n",
       "      <td>Sometimes</td>\n",
       "      <td>no</td>\n",
       "      <td>2</td>\n",
       "      <td>no</td>\n",
       "      <td>1</td>\n",
       "      <td>3</td>\n",
       "      <td>Sometimes</td>\n",
       "      <td>Public_Transportation</td>\n",
       "      <td>Normal_Weight</td>\n",
       "    </tr>\n",
       "    <tr>\n",
       "      <th>8</th>\n",
       "      <td>Male</td>\n",
       "      <td>24</td>\n",
       "      <td>1.8</td>\n",
       "      <td>64</td>\n",
       "      <td>yes</td>\n",
       "      <td>yes</td>\n",
       "      <td>3</td>\n",
       "      <td>1</td>\n",
       "      <td>Sometimes</td>\n",
       "      <td>no</td>\n",
       "      <td>2</td>\n",
       "      <td>no</td>\n",
       "      <td>3</td>\n",
       "      <td>3</td>\n",
       "      <td>Frequently</td>\n",
       "      <td>Public_Transportation</td>\n",
       "      <td>Normal_Weight</td>\n",
       "    </tr>\n",
       "    <tr>\n",
       "      <th>9</th>\n",
       "      <td>Male</td>\n",
       "      <td>22</td>\n",
       "      <td>1.7</td>\n",
       "      <td>68</td>\n",
       "      <td>yes</td>\n",
       "      <td>yes</td>\n",
       "      <td>2</td>\n",
       "      <td>1</td>\n",
       "      <td>Sometimes</td>\n",
       "      <td>no</td>\n",
       "      <td>2</td>\n",
       "      <td>no</td>\n",
       "      <td>3</td>\n",
       "      <td>3</td>\n",
       "      <td>no</td>\n",
       "      <td>Public_Transportation</td>\n",
       "      <td>Normal_Weight</td>\n",
       "    </tr>\n",
       "  </tbody>\n",
       "</table>\n",
       "</div>"
      ],
      "text/plain": [
       "   Gender  Age  Height  Weight family_history_with_overweight FAVC  FCVC  NCP  \\\n",
       "0  Female   21     1.6      64                            yes   no     2    1   \n",
       "1  Female   21     1.5      56                            yes   no     3    1   \n",
       "2    Male   23     1.8      77                            yes   no     2    1   \n",
       "3    Male   27     1.8      87                             no   no     3    1   \n",
       "4    Male   22     1.8      89                             no   no     2    3   \n",
       "5    Male   29     1.6      53                             no  yes     2    1   \n",
       "6  Female   23     1.5      55                            yes  yes     3    1   \n",
       "7    Male   22     1.6      53                             no   no     2    1   \n",
       "8    Male   24     1.8      64                            yes  yes     3    1   \n",
       "9    Male   22     1.7      68                            yes  yes     2    1   \n",
       "\n",
       "        CAEC SMOKE  CH2O  SCC  FAF  TUE        CALC                 MTRANS  \\\n",
       "0  Sometimes    no     2   no    3    3          no  Public_Transportation   \n",
       "1  Sometimes   yes     1  yes    1    3   Sometimes  Public_Transportation   \n",
       "2  Sometimes    no     2   no    2    3  Frequently  Public_Transportation   \n",
       "3  Sometimes    no     2   no    2    3  Frequently                Walking   \n",
       "4  Sometimes    no     2   no    3    3   Sometimes  Public_Transportation   \n",
       "5  Sometimes    no     2   no    3    3   Sometimes             Automobile   \n",
       "6  Sometimes    no     2   no    3    3   Sometimes              Motorbike   \n",
       "7  Sometimes    no     2   no    1    3   Sometimes  Public_Transportation   \n",
       "8  Sometimes    no     2   no    3    3  Frequently  Public_Transportation   \n",
       "9  Sometimes    no     2   no    3    3          no  Public_Transportation   \n",
       "\n",
       "            NObeyesdad  \n",
       "0        Normal_Weight  \n",
       "1        Normal_Weight  \n",
       "2        Normal_Weight  \n",
       "3   Overweight_Level_I  \n",
       "4  Overweight_Level_II  \n",
       "5        Normal_Weight  \n",
       "6        Normal_Weight  \n",
       "7        Normal_Weight  \n",
       "8        Normal_Weight  \n",
       "9        Normal_Weight  "
      ]
     },
     "execution_count": 591,
     "metadata": {},
     "output_type": "execute_result"
    }
   ],
   "source": [
    "df.head(10)"
   ]
  },
  {
   "cell_type": "code",
   "execution_count": 592,
   "metadata": {},
   "outputs": [
    {
     "data": {
      "text/html": [
       "<div>\n",
       "<style scoped>\n",
       "    .dataframe tbody tr th:only-of-type {\n",
       "        vertical-align: middle;\n",
       "    }\n",
       "\n",
       "    .dataframe tbody tr th {\n",
       "        vertical-align: top;\n",
       "    }\n",
       "\n",
       "    .dataframe thead th {\n",
       "        text-align: right;\n",
       "    }\n",
       "</style>\n",
       "<table border=\"1\" class=\"dataframe\">\n",
       "  <thead>\n",
       "    <tr style=\"text-align: right;\">\n",
       "      <th></th>\n",
       "      <th>Gender</th>\n",
       "      <th>Age</th>\n",
       "      <th>Height</th>\n",
       "      <th>Weight</th>\n",
       "      <th>family_history_with_overweight</th>\n",
       "      <th>FAVC</th>\n",
       "      <th>FCVC</th>\n",
       "      <th>NCP</th>\n",
       "      <th>CAEC</th>\n",
       "      <th>SMOKE</th>\n",
       "      <th>CH2O</th>\n",
       "      <th>SCC</th>\n",
       "      <th>FAF</th>\n",
       "      <th>TUE</th>\n",
       "      <th>CALC</th>\n",
       "      <th>MTRANS</th>\n",
       "      <th>NObeyesdad</th>\n",
       "    </tr>\n",
       "  </thead>\n",
       "  <tbody>\n",
       "    <tr>\n",
       "      <th>2101</th>\n",
       "      <td>Female</td>\n",
       "      <td>25</td>\n",
       "      <td>1.6</td>\n",
       "      <td>107</td>\n",
       "      <td>yes</td>\n",
       "      <td>yes</td>\n",
       "      <td>3</td>\n",
       "      <td>1</td>\n",
       "      <td>Sometimes</td>\n",
       "      <td>no</td>\n",
       "      <td>2</td>\n",
       "      <td>no</td>\n",
       "      <td>3</td>\n",
       "      <td>3</td>\n",
       "      <td>Sometimes</td>\n",
       "      <td>Public_Transportation</td>\n",
       "      <td>Obesity_Type_III</td>\n",
       "    </tr>\n",
       "    <tr>\n",
       "      <th>2102</th>\n",
       "      <td>Female</td>\n",
       "      <td>25</td>\n",
       "      <td>1.6</td>\n",
       "      <td>108</td>\n",
       "      <td>yes</td>\n",
       "      <td>yes</td>\n",
       "      <td>3</td>\n",
       "      <td>1</td>\n",
       "      <td>Sometimes</td>\n",
       "      <td>no</td>\n",
       "      <td>2</td>\n",
       "      <td>no</td>\n",
       "      <td>3</td>\n",
       "      <td>3</td>\n",
       "      <td>Sometimes</td>\n",
       "      <td>Public_Transportation</td>\n",
       "      <td>Obesity_Type_III</td>\n",
       "    </tr>\n",
       "    <tr>\n",
       "      <th>2103</th>\n",
       "      <td>Female</td>\n",
       "      <td>21</td>\n",
       "      <td>1.7</td>\n",
       "      <td>133</td>\n",
       "      <td>yes</td>\n",
       "      <td>yes</td>\n",
       "      <td>3</td>\n",
       "      <td>1</td>\n",
       "      <td>Sometimes</td>\n",
       "      <td>no</td>\n",
       "      <td>3</td>\n",
       "      <td>no</td>\n",
       "      <td>3</td>\n",
       "      <td>3</td>\n",
       "      <td>Sometimes</td>\n",
       "      <td>Public_Transportation</td>\n",
       "      <td>Obesity_Type_III</td>\n",
       "    </tr>\n",
       "    <tr>\n",
       "      <th>2104</th>\n",
       "      <td>Female</td>\n",
       "      <td>21</td>\n",
       "      <td>1.7</td>\n",
       "      <td>133</td>\n",
       "      <td>yes</td>\n",
       "      <td>yes</td>\n",
       "      <td>3</td>\n",
       "      <td>1</td>\n",
       "      <td>Sometimes</td>\n",
       "      <td>no</td>\n",
       "      <td>3</td>\n",
       "      <td>no</td>\n",
       "      <td>3</td>\n",
       "      <td>3</td>\n",
       "      <td>Sometimes</td>\n",
       "      <td>Public_Transportation</td>\n",
       "      <td>Obesity_Type_III</td>\n",
       "    </tr>\n",
       "    <tr>\n",
       "      <th>2105</th>\n",
       "      <td>Female</td>\n",
       "      <td>21</td>\n",
       "      <td>1.7</td>\n",
       "      <td>131</td>\n",
       "      <td>yes</td>\n",
       "      <td>yes</td>\n",
       "      <td>3</td>\n",
       "      <td>1</td>\n",
       "      <td>Sometimes</td>\n",
       "      <td>no</td>\n",
       "      <td>3</td>\n",
       "      <td>no</td>\n",
       "      <td>3</td>\n",
       "      <td>3</td>\n",
       "      <td>Sometimes</td>\n",
       "      <td>Public_Transportation</td>\n",
       "      <td>Obesity_Type_III</td>\n",
       "    </tr>\n",
       "    <tr>\n",
       "      <th>2106</th>\n",
       "      <td>Female</td>\n",
       "      <td>20</td>\n",
       "      <td>1.7</td>\n",
       "      <td>131</td>\n",
       "      <td>yes</td>\n",
       "      <td>yes</td>\n",
       "      <td>3</td>\n",
       "      <td>1</td>\n",
       "      <td>Sometimes</td>\n",
       "      <td>no</td>\n",
       "      <td>3</td>\n",
       "      <td>no</td>\n",
       "      <td>3</td>\n",
       "      <td>3</td>\n",
       "      <td>Sometimes</td>\n",
       "      <td>Public_Transportation</td>\n",
       "      <td>Obesity_Type_III</td>\n",
       "    </tr>\n",
       "    <tr>\n",
       "      <th>2107</th>\n",
       "      <td>Female</td>\n",
       "      <td>21</td>\n",
       "      <td>1.7</td>\n",
       "      <td>133</td>\n",
       "      <td>yes</td>\n",
       "      <td>yes</td>\n",
       "      <td>3</td>\n",
       "      <td>1</td>\n",
       "      <td>Sometimes</td>\n",
       "      <td>no</td>\n",
       "      <td>2</td>\n",
       "      <td>no</td>\n",
       "      <td>3</td>\n",
       "      <td>3</td>\n",
       "      <td>Sometimes</td>\n",
       "      <td>Public_Transportation</td>\n",
       "      <td>Obesity_Type_III</td>\n",
       "    </tr>\n",
       "    <tr>\n",
       "      <th>2108</th>\n",
       "      <td>Female</td>\n",
       "      <td>22</td>\n",
       "      <td>1.8</td>\n",
       "      <td>133</td>\n",
       "      <td>yes</td>\n",
       "      <td>yes</td>\n",
       "      <td>3</td>\n",
       "      <td>1</td>\n",
       "      <td>Sometimes</td>\n",
       "      <td>no</td>\n",
       "      <td>2</td>\n",
       "      <td>no</td>\n",
       "      <td>3</td>\n",
       "      <td>3</td>\n",
       "      <td>Sometimes</td>\n",
       "      <td>Public_Transportation</td>\n",
       "      <td>Obesity_Type_III</td>\n",
       "    </tr>\n",
       "    <tr>\n",
       "      <th>2109</th>\n",
       "      <td>Female</td>\n",
       "      <td>24</td>\n",
       "      <td>1.7</td>\n",
       "      <td>133</td>\n",
       "      <td>yes</td>\n",
       "      <td>yes</td>\n",
       "      <td>3</td>\n",
       "      <td>1</td>\n",
       "      <td>Sometimes</td>\n",
       "      <td>no</td>\n",
       "      <td>2</td>\n",
       "      <td>no</td>\n",
       "      <td>3</td>\n",
       "      <td>3</td>\n",
       "      <td>Sometimes</td>\n",
       "      <td>Public_Transportation</td>\n",
       "      <td>Obesity_Type_III</td>\n",
       "    </tr>\n",
       "    <tr>\n",
       "      <th>2110</th>\n",
       "      <td>Female</td>\n",
       "      <td>23</td>\n",
       "      <td>1.7</td>\n",
       "      <td>133</td>\n",
       "      <td>yes</td>\n",
       "      <td>yes</td>\n",
       "      <td>3</td>\n",
       "      <td>1</td>\n",
       "      <td>Sometimes</td>\n",
       "      <td>no</td>\n",
       "      <td>2</td>\n",
       "      <td>no</td>\n",
       "      <td>3</td>\n",
       "      <td>3</td>\n",
       "      <td>Sometimes</td>\n",
       "      <td>Public_Transportation</td>\n",
       "      <td>Obesity_Type_III</td>\n",
       "    </tr>\n",
       "  </tbody>\n",
       "</table>\n",
       "</div>"
      ],
      "text/plain": [
       "      Gender  Age  Height  Weight family_history_with_overweight FAVC  FCVC  \\\n",
       "2101  Female   25     1.6     107                            yes  yes     3   \n",
       "2102  Female   25     1.6     108                            yes  yes     3   \n",
       "2103  Female   21     1.7     133                            yes  yes     3   \n",
       "2104  Female   21     1.7     133                            yes  yes     3   \n",
       "2105  Female   21     1.7     131                            yes  yes     3   \n",
       "2106  Female   20     1.7     131                            yes  yes     3   \n",
       "2107  Female   21     1.7     133                            yes  yes     3   \n",
       "2108  Female   22     1.8     133                            yes  yes     3   \n",
       "2109  Female   24     1.7     133                            yes  yes     3   \n",
       "2110  Female   23     1.7     133                            yes  yes     3   \n",
       "\n",
       "      NCP       CAEC SMOKE  CH2O SCC  FAF  TUE       CALC  \\\n",
       "2101    1  Sometimes    no     2  no    3    3  Sometimes   \n",
       "2102    1  Sometimes    no     2  no    3    3  Sometimes   \n",
       "2103    1  Sometimes    no     3  no    3    3  Sometimes   \n",
       "2104    1  Sometimes    no     3  no    3    3  Sometimes   \n",
       "2105    1  Sometimes    no     3  no    3    3  Sometimes   \n",
       "2106    1  Sometimes    no     3  no    3    3  Sometimes   \n",
       "2107    1  Sometimes    no     2  no    3    3  Sometimes   \n",
       "2108    1  Sometimes    no     2  no    3    3  Sometimes   \n",
       "2109    1  Sometimes    no     2  no    3    3  Sometimes   \n",
       "2110    1  Sometimes    no     2  no    3    3  Sometimes   \n",
       "\n",
       "                     MTRANS        NObeyesdad  \n",
       "2101  Public_Transportation  Obesity_Type_III  \n",
       "2102  Public_Transportation  Obesity_Type_III  \n",
       "2103  Public_Transportation  Obesity_Type_III  \n",
       "2104  Public_Transportation  Obesity_Type_III  \n",
       "2105  Public_Transportation  Obesity_Type_III  \n",
       "2106  Public_Transportation  Obesity_Type_III  \n",
       "2107  Public_Transportation  Obesity_Type_III  \n",
       "2108  Public_Transportation  Obesity_Type_III  \n",
       "2109  Public_Transportation  Obesity_Type_III  \n",
       "2110  Public_Transportation  Obesity_Type_III  "
      ]
     },
     "execution_count": 592,
     "metadata": {},
     "output_type": "execute_result"
    }
   ],
   "source": [
    "df.tail(10)"
   ]
  },
  {
   "cell_type": "code",
   "execution_count": 593,
   "metadata": {},
   "outputs": [],
   "source": [
    "data_duplicated = df.copy()"
   ]
  },
  {
   "cell_type": "code",
   "execution_count": 594,
   "metadata": {},
   "outputs": [
    {
     "data": {
      "text/plain": [
       "Gender                            0\n",
       "Age                               0\n",
       "Height                            0\n",
       "Weight                            0\n",
       "family_history_with_overweight    0\n",
       "FAVC                              0\n",
       "FCVC                              0\n",
       "NCP                               0\n",
       "CAEC                              0\n",
       "SMOKE                             0\n",
       "CH2O                              0\n",
       "SCC                               0\n",
       "FAF                               0\n",
       "TUE                               0\n",
       "CALC                              0\n",
       "MTRANS                            0\n",
       "NObeyesdad                        0\n",
       "dtype: int64"
      ]
     },
     "execution_count": 594,
     "metadata": {},
     "output_type": "execute_result"
    }
   ],
   "source": [
    "# Melihat Missing Values pada dataset\n",
    "df.isna().sum()"
   ]
  },
  {
   "cell_type": "markdown",
   "metadata": {},
   "source": [
    "Tidak ada terdapat missing values"
   ]
  },
  {
   "cell_type": "markdown",
   "metadata": {},
   "source": [
    "# 4. Exploratory Data Analysis (EDA)"
   ]
  },
  {
   "cell_type": "markdown",
   "metadata": {},
   "source": [
    "Bagian ini berisi explorasi data pada dataset diatas dengan menggunakan query, grouping, visualisasi sederhana, dan lain sebagainya."
   ]
  },
  {
   "cell_type": "markdown",
   "metadata": {},
   "source": [
    "#### Melihat Distribusi Tipe Berat Badan"
   ]
  },
  {
   "cell_type": "code",
   "execution_count": 595,
   "metadata": {},
   "outputs": [
    {
     "data": {
      "application/vnd.plotly.v1+json": {
       "config": {
        "plotlyServerURL": "https://plot.ly"
       },
       "data": [
        {
         "domain": {
          "x": [
           0,
           1
          ],
          "y": [
           0,
           1
          ]
         },
         "hovertemplate": "NObeyesdad=%{label}<br>Count=%{value}<extra></extra>",
         "labels": [
          "Obesity_Type_I",
          "Obesity_Type_III",
          "Obesity_Type_II",
          "Overweight_Level_I",
          "Overweight_Level_II",
          "Normal_Weight",
          "Insufficient_Weight"
         ],
         "legendgroup": "",
         "name": "",
         "showlegend": true,
         "type": "pie",
         "values": [
          351,
          324,
          297,
          290,
          290,
          287,
          272
         ]
        }
       ],
       "layout": {
        "legend": {
         "tracegroupgap": 0
        },
        "template": {
         "data": {
          "bar": [
           {
            "error_x": {
             "color": "#2a3f5f"
            },
            "error_y": {
             "color": "#2a3f5f"
            },
            "marker": {
             "line": {
              "color": "#E5ECF6",
              "width": 0.5
             },
             "pattern": {
              "fillmode": "overlay",
              "size": 10,
              "solidity": 0.2
             }
            },
            "type": "bar"
           }
          ],
          "barpolar": [
           {
            "marker": {
             "line": {
              "color": "#E5ECF6",
              "width": 0.5
             },
             "pattern": {
              "fillmode": "overlay",
              "size": 10,
              "solidity": 0.2
             }
            },
            "type": "barpolar"
           }
          ],
          "carpet": [
           {
            "aaxis": {
             "endlinecolor": "#2a3f5f",
             "gridcolor": "white",
             "linecolor": "white",
             "minorgridcolor": "white",
             "startlinecolor": "#2a3f5f"
            },
            "baxis": {
             "endlinecolor": "#2a3f5f",
             "gridcolor": "white",
             "linecolor": "white",
             "minorgridcolor": "white",
             "startlinecolor": "#2a3f5f"
            },
            "type": "carpet"
           }
          ],
          "choropleth": [
           {
            "colorbar": {
             "outlinewidth": 0,
             "ticks": ""
            },
            "type": "choropleth"
           }
          ],
          "contour": [
           {
            "colorbar": {
             "outlinewidth": 0,
             "ticks": ""
            },
            "colorscale": [
             [
              0,
              "#0d0887"
             ],
             [
              0.1111111111111111,
              "#46039f"
             ],
             [
              0.2222222222222222,
              "#7201a8"
             ],
             [
              0.3333333333333333,
              "#9c179e"
             ],
             [
              0.4444444444444444,
              "#bd3786"
             ],
             [
              0.5555555555555556,
              "#d8576b"
             ],
             [
              0.6666666666666666,
              "#ed7953"
             ],
             [
              0.7777777777777778,
              "#fb9f3a"
             ],
             [
              0.8888888888888888,
              "#fdca26"
             ],
             [
              1,
              "#f0f921"
             ]
            ],
            "type": "contour"
           }
          ],
          "contourcarpet": [
           {
            "colorbar": {
             "outlinewidth": 0,
             "ticks": ""
            },
            "type": "contourcarpet"
           }
          ],
          "heatmap": [
           {
            "colorbar": {
             "outlinewidth": 0,
             "ticks": ""
            },
            "colorscale": [
             [
              0,
              "#0d0887"
             ],
             [
              0.1111111111111111,
              "#46039f"
             ],
             [
              0.2222222222222222,
              "#7201a8"
             ],
             [
              0.3333333333333333,
              "#9c179e"
             ],
             [
              0.4444444444444444,
              "#bd3786"
             ],
             [
              0.5555555555555556,
              "#d8576b"
             ],
             [
              0.6666666666666666,
              "#ed7953"
             ],
             [
              0.7777777777777778,
              "#fb9f3a"
             ],
             [
              0.8888888888888888,
              "#fdca26"
             ],
             [
              1,
              "#f0f921"
             ]
            ],
            "type": "heatmap"
           }
          ],
          "heatmapgl": [
           {
            "colorbar": {
             "outlinewidth": 0,
             "ticks": ""
            },
            "colorscale": [
             [
              0,
              "#0d0887"
             ],
             [
              0.1111111111111111,
              "#46039f"
             ],
             [
              0.2222222222222222,
              "#7201a8"
             ],
             [
              0.3333333333333333,
              "#9c179e"
             ],
             [
              0.4444444444444444,
              "#bd3786"
             ],
             [
              0.5555555555555556,
              "#d8576b"
             ],
             [
              0.6666666666666666,
              "#ed7953"
             ],
             [
              0.7777777777777778,
              "#fb9f3a"
             ],
             [
              0.8888888888888888,
              "#fdca26"
             ],
             [
              1,
              "#f0f921"
             ]
            ],
            "type": "heatmapgl"
           }
          ],
          "histogram": [
           {
            "marker": {
             "pattern": {
              "fillmode": "overlay",
              "size": 10,
              "solidity": 0.2
             }
            },
            "type": "histogram"
           }
          ],
          "histogram2d": [
           {
            "colorbar": {
             "outlinewidth": 0,
             "ticks": ""
            },
            "colorscale": [
             [
              0,
              "#0d0887"
             ],
             [
              0.1111111111111111,
              "#46039f"
             ],
             [
              0.2222222222222222,
              "#7201a8"
             ],
             [
              0.3333333333333333,
              "#9c179e"
             ],
             [
              0.4444444444444444,
              "#bd3786"
             ],
             [
              0.5555555555555556,
              "#d8576b"
             ],
             [
              0.6666666666666666,
              "#ed7953"
             ],
             [
              0.7777777777777778,
              "#fb9f3a"
             ],
             [
              0.8888888888888888,
              "#fdca26"
             ],
             [
              1,
              "#f0f921"
             ]
            ],
            "type": "histogram2d"
           }
          ],
          "histogram2dcontour": [
           {
            "colorbar": {
             "outlinewidth": 0,
             "ticks": ""
            },
            "colorscale": [
             [
              0,
              "#0d0887"
             ],
             [
              0.1111111111111111,
              "#46039f"
             ],
             [
              0.2222222222222222,
              "#7201a8"
             ],
             [
              0.3333333333333333,
              "#9c179e"
             ],
             [
              0.4444444444444444,
              "#bd3786"
             ],
             [
              0.5555555555555556,
              "#d8576b"
             ],
             [
              0.6666666666666666,
              "#ed7953"
             ],
             [
              0.7777777777777778,
              "#fb9f3a"
             ],
             [
              0.8888888888888888,
              "#fdca26"
             ],
             [
              1,
              "#f0f921"
             ]
            ],
            "type": "histogram2dcontour"
           }
          ],
          "mesh3d": [
           {
            "colorbar": {
             "outlinewidth": 0,
             "ticks": ""
            },
            "type": "mesh3d"
           }
          ],
          "parcoords": [
           {
            "line": {
             "colorbar": {
              "outlinewidth": 0,
              "ticks": ""
             }
            },
            "type": "parcoords"
           }
          ],
          "pie": [
           {
            "automargin": true,
            "type": "pie"
           }
          ],
          "scatter": [
           {
            "fillpattern": {
             "fillmode": "overlay",
             "size": 10,
             "solidity": 0.2
            },
            "type": "scatter"
           }
          ],
          "scatter3d": [
           {
            "line": {
             "colorbar": {
              "outlinewidth": 0,
              "ticks": ""
             }
            },
            "marker": {
             "colorbar": {
              "outlinewidth": 0,
              "ticks": ""
             }
            },
            "type": "scatter3d"
           }
          ],
          "scattercarpet": [
           {
            "marker": {
             "colorbar": {
              "outlinewidth": 0,
              "ticks": ""
             }
            },
            "type": "scattercarpet"
           }
          ],
          "scattergeo": [
           {
            "marker": {
             "colorbar": {
              "outlinewidth": 0,
              "ticks": ""
             }
            },
            "type": "scattergeo"
           }
          ],
          "scattergl": [
           {
            "marker": {
             "colorbar": {
              "outlinewidth": 0,
              "ticks": ""
             }
            },
            "type": "scattergl"
           }
          ],
          "scattermapbox": [
           {
            "marker": {
             "colorbar": {
              "outlinewidth": 0,
              "ticks": ""
             }
            },
            "type": "scattermapbox"
           }
          ],
          "scatterpolar": [
           {
            "marker": {
             "colorbar": {
              "outlinewidth": 0,
              "ticks": ""
             }
            },
            "type": "scatterpolar"
           }
          ],
          "scatterpolargl": [
           {
            "marker": {
             "colorbar": {
              "outlinewidth": 0,
              "ticks": ""
             }
            },
            "type": "scatterpolargl"
           }
          ],
          "scatterternary": [
           {
            "marker": {
             "colorbar": {
              "outlinewidth": 0,
              "ticks": ""
             }
            },
            "type": "scatterternary"
           }
          ],
          "surface": [
           {
            "colorbar": {
             "outlinewidth": 0,
             "ticks": ""
            },
            "colorscale": [
             [
              0,
              "#0d0887"
             ],
             [
              0.1111111111111111,
              "#46039f"
             ],
             [
              0.2222222222222222,
              "#7201a8"
             ],
             [
              0.3333333333333333,
              "#9c179e"
             ],
             [
              0.4444444444444444,
              "#bd3786"
             ],
             [
              0.5555555555555556,
              "#d8576b"
             ],
             [
              0.6666666666666666,
              "#ed7953"
             ],
             [
              0.7777777777777778,
              "#fb9f3a"
             ],
             [
              0.8888888888888888,
              "#fdca26"
             ],
             [
              1,
              "#f0f921"
             ]
            ],
            "type": "surface"
           }
          ],
          "table": [
           {
            "cells": {
             "fill": {
              "color": "#EBF0F8"
             },
             "line": {
              "color": "white"
             }
            },
            "header": {
             "fill": {
              "color": "#C8D4E3"
             },
             "line": {
              "color": "white"
             }
            },
            "type": "table"
           }
          ]
         },
         "layout": {
          "annotationdefaults": {
           "arrowcolor": "#2a3f5f",
           "arrowhead": 0,
           "arrowwidth": 1
          },
          "autotypenumbers": "strict",
          "coloraxis": {
           "colorbar": {
            "outlinewidth": 0,
            "ticks": ""
           }
          },
          "colorscale": {
           "diverging": [
            [
             0,
             "#8e0152"
            ],
            [
             0.1,
             "#c51b7d"
            ],
            [
             0.2,
             "#de77ae"
            ],
            [
             0.3,
             "#f1b6da"
            ],
            [
             0.4,
             "#fde0ef"
            ],
            [
             0.5,
             "#f7f7f7"
            ],
            [
             0.6,
             "#e6f5d0"
            ],
            [
             0.7,
             "#b8e186"
            ],
            [
             0.8,
             "#7fbc41"
            ],
            [
             0.9,
             "#4d9221"
            ],
            [
             1,
             "#276419"
            ]
           ],
           "sequential": [
            [
             0,
             "#0d0887"
            ],
            [
             0.1111111111111111,
             "#46039f"
            ],
            [
             0.2222222222222222,
             "#7201a8"
            ],
            [
             0.3333333333333333,
             "#9c179e"
            ],
            [
             0.4444444444444444,
             "#bd3786"
            ],
            [
             0.5555555555555556,
             "#d8576b"
            ],
            [
             0.6666666666666666,
             "#ed7953"
            ],
            [
             0.7777777777777778,
             "#fb9f3a"
            ],
            [
             0.8888888888888888,
             "#fdca26"
            ],
            [
             1,
             "#f0f921"
            ]
           ],
           "sequentialminus": [
            [
             0,
             "#0d0887"
            ],
            [
             0.1111111111111111,
             "#46039f"
            ],
            [
             0.2222222222222222,
             "#7201a8"
            ],
            [
             0.3333333333333333,
             "#9c179e"
            ],
            [
             0.4444444444444444,
             "#bd3786"
            ],
            [
             0.5555555555555556,
             "#d8576b"
            ],
            [
             0.6666666666666666,
             "#ed7953"
            ],
            [
             0.7777777777777778,
             "#fb9f3a"
            ],
            [
             0.8888888888888888,
             "#fdca26"
            ],
            [
             1,
             "#f0f921"
            ]
           ]
          },
          "colorway": [
           "#636efa",
           "#EF553B",
           "#00cc96",
           "#ab63fa",
           "#FFA15A",
           "#19d3f3",
           "#FF6692",
           "#B6E880",
           "#FF97FF",
           "#FECB52"
          ],
          "font": {
           "color": "#2a3f5f"
          },
          "geo": {
           "bgcolor": "white",
           "lakecolor": "white",
           "landcolor": "#E5ECF6",
           "showlakes": true,
           "showland": true,
           "subunitcolor": "white"
          },
          "hoverlabel": {
           "align": "left"
          },
          "hovermode": "closest",
          "mapbox": {
           "style": "light"
          },
          "paper_bgcolor": "white",
          "plot_bgcolor": "#E5ECF6",
          "polar": {
           "angularaxis": {
            "gridcolor": "white",
            "linecolor": "white",
            "ticks": ""
           },
           "bgcolor": "#E5ECF6",
           "radialaxis": {
            "gridcolor": "white",
            "linecolor": "white",
            "ticks": ""
           }
          },
          "scene": {
           "xaxis": {
            "backgroundcolor": "#E5ECF6",
            "gridcolor": "white",
            "gridwidth": 2,
            "linecolor": "white",
            "showbackground": true,
            "ticks": "",
            "zerolinecolor": "white"
           },
           "yaxis": {
            "backgroundcolor": "#E5ECF6",
            "gridcolor": "white",
            "gridwidth": 2,
            "linecolor": "white",
            "showbackground": true,
            "ticks": "",
            "zerolinecolor": "white"
           },
           "zaxis": {
            "backgroundcolor": "#E5ECF6",
            "gridcolor": "white",
            "gridwidth": 2,
            "linecolor": "white",
            "showbackground": true,
            "ticks": "",
            "zerolinecolor": "white"
           }
          },
          "shapedefaults": {
           "line": {
            "color": "#2a3f5f"
           }
          },
          "ternary": {
           "aaxis": {
            "gridcolor": "white",
            "linecolor": "white",
            "ticks": ""
           },
           "baxis": {
            "gridcolor": "white",
            "linecolor": "white",
            "ticks": ""
           },
           "bgcolor": "#E5ECF6",
           "caxis": {
            "gridcolor": "white",
            "linecolor": "white",
            "ticks": ""
           }
          },
          "title": {
           "x": 0.05
          },
          "xaxis": {
           "automargin": true,
           "gridcolor": "white",
           "linecolor": "white",
           "ticks": "",
           "title": {
            "standoff": 15
           },
           "zerolinecolor": "white",
           "zerolinewidth": 2
          },
          "yaxis": {
           "automargin": true,
           "gridcolor": "white",
           "linecolor": "white",
           "ticks": "",
           "title": {
            "standoff": 15
           },
           "zerolinecolor": "white",
           "zerolinewidth": 2
          }
         }
        },
        "title": {
         "text": "Sebaran NObeyesdad"
        }
       }
      }
     },
     "metadata": {},
     "output_type": "display_data"
    }
   ],
   "source": [
    "# Hitung jumlah masing-masing nilai pada kolom 'NObeyesdad'\n",
    "value_counts = data_duplicated['NObeyesdad'].value_counts()\n",
    "\n",
    "# Buat DataFrame untuk pie chart\n",
    "df_pie = pd.DataFrame({'NObeyesdad': value_counts.index, 'Count': value_counts.values})\n",
    "\n",
    "# Buat pie chart dengan Plotly Express\n",
    "fig = px.pie(df_pie, names='NObeyesdad', values='Count', title='Sebaran NObeyesdad')\n",
    "fig.show()"
   ]
  },
  {
   "cell_type": "markdown",
   "metadata": {},
   "source": [
    "Insight : \n",
    "- Insufficient_Weight memiliki pesebaran paling sedikit\n",
    "- Obesity_Type_I memiliki pesebaran paling banyak\n",
    "\n",
    "Dari data ini dapat disimpulkan bahwa sudah banyak orang yang bertipe berat badan Obesitas dikarenakan pesebaran data Insufficient_weight (Berat badan kurang) dan Normal_Weight memiliki pesebaran yang paling sedikit dan sisanya sudah masuk tipe berat badan yang tidak baik atau obesitas."
   ]
  },
  {
   "cell_type": "markdown",
   "metadata": {},
   "source": [
    "#### Melihat di umur berapa yang paling banyak tipe berat badan Obesity_Type_III"
   ]
  },
  {
   "cell_type": "code",
   "execution_count": 596,
   "metadata": {},
   "outputs": [
    {
     "data": {
      "image/png": "[encoded data removed]",
      "text/plain": [
       "<Figure size 800x600 with 1 Axes>"
      ]
     },
     "metadata": {},
     "output_type": "display_data"
    }
   ],
   "source": [
    "# filter data untuk melihat overweight\n",
    "filtered_data = data_duplicated[data_duplicated['NObeyesdad']== 'Obesity_Type_III']\n",
    "\n",
    "value_counts = filtered_data.groupby(['Age', 'NObeyesdad']).size()\n",
    "\n",
    "# Menghitung jumlah data pada setiap nilai umur\n",
    "age_counts = filtered_data['Age'].value_counts().sort_index()\n",
    "\n",
    "# Menyiapkan data untuk plot\n",
    "x = age_counts.index\n",
    "y = age_counts.values\n",
    "\n",
    "# Membuat line chart\n",
    "plt.figure(figsize=(8, 6))  # Mengatur ukuran grafik\n",
    "plt.plot(x, y, marker='', linestyle='-', color='b', label='Obesity_Type_III')  # Membuat garis\n",
    "plt.title('Line Chart: Jumlah Overweight_Level_II Berdasarkan Umur')  # Memberikan judul grafik\n",
    "plt.xlabel('Umur')  # Memberikan label pada sumbu X\n",
    "plt.ylabel('Jumlah')  # Memberikan label pada sumbu Y\n",
    "plt.legend()  # Menampilkan legenda\n",
    "plt.grid(True)  # Menampilkan grid\n",
    "plt.show()  # Menampilkan grafik"
   ]
  },
  {
   "cell_type": "markdown",
   "metadata": {},
   "source": [
    "Insight :\n",
    "\n",
    "Tipe Berat badan Obesity_Type_III paling banyak dialami oleh umur diatas 20 tahun, dapat disimpulkan bahwa pada range umur ini banyak orang yang melakukan pola hidup tidak sehat yang mengakibatkan obesitas "
   ]
  },
  {
   "cell_type": "markdown",
   "metadata": {},
   "source": [
    "#### Melihat rata - rata usia berdasarkan tipe berat badannya"
   ]
  },
  {
   "cell_type": "code",
   "execution_count": 597,
   "metadata": {},
   "outputs": [
    {
     "data": {
      "image/png": "[encoded data removed]",
      "text/plain": [
       "<Figure size 1200x600 with 1 Axes>"
      ]
     },
     "metadata": {},
     "output_type": "display_data"
    }
   ],
   "source": [
    "# Menghitung rata-rata usia berdasarkan Nobeyesdad\n",
    "bar_data = data_duplicated.groupby(data_duplicated['NObeyesdad'])['Age'].mean()\n",
    "\n",
    "# Create a bar chart from the data\n",
    "plt.figure(figsize=(12, 6))\n",
    "bar_data.plot(kind='bar', color='skyblue')\n",
    "plt.xlabel('NObeyesdad')\n",
    "plt.ylabel('Rata - rata usia')\n",
    "plt.title('Rata - Rata usia berdasarkan NObeyesdad')\n",
    "plt.xticks(rotation=0)  # Set rotation to 0 if you don't want to rotate x-axis labels\n",
    "plt.show()"
   ]
  },
  {
   "cell_type": "markdown",
   "metadata": {},
   "source": [
    "Insight :\n",
    "\n",
    "- Rata - rata dari tipe berat badan berada pada umur 20 tahun keatas\n",
    "- Obesity_Type_II memiliki rata - rata usia paling tinggi\n",
    "- Insufficient_Weight memiliki rata - rata usia paling rendah\n",
    "\n",
    "Dari data ini dapat disimpulkan bahwa rata - rata orang mulai masuk ke tipe berat badan obesitas pada usia muda yang bisa disebabkan karena pola hidup tidak sehat."
   ]
  },
  {
   "cell_type": "markdown",
   "metadata": {},
   "source": [
    "#### Melihat Distribusi Tipe berat badan berdasarkan Gender"
   ]
  },
  {
   "cell_type": "code",
   "execution_count": 598,
   "metadata": {},
   "outputs": [
    {
     "data": {
      "image/png": "[encoded data removed]",
      "text/plain": [
       "<Figure size 1000x600 with 1 Axes>"
      ]
     },
     "metadata": {},
     "output_type": "display_data"
    }
   ],
   "source": [
    "# Visualisasi Gender berdasarkan NObeyesdad\n",
    "plt.figure(figsize=(10, 6))\n",
    "sns.countplot(data=data_duplicated, x='Gender', hue='NObeyesdad')\n",
    "plt.title('Sebaran Gender berdasarkan NObeyesdad')\n",
    "plt.xlabel('Gender')\n",
    "plt.ylabel('Jumlah')\n",
    "plt.legend(title='NObeyesdad')\n",
    "\n",
    "plt.show()"
   ]
  },
  {
   "cell_type": "markdown",
   "metadata": {},
   "source": [
    "Insight :\n",
    "\n",
    "- Perempuan memiliki jumlah terbanyak di Obesity_Type_III\n",
    "- Laki - laki memiliki jumlah terbanyak di Obesity_Type_II\n",
    "\n",
    "Berdasarkan data ini dapat dilihat bahwa Obesitas tidak mengenal gender, semua bisa terkena obesitas jika tidak melakukan pola hidup sehat."
   ]
  },
  {
   "cell_type": "markdown",
   "metadata": {},
   "source": [
    "#### Melihat Distribusi Tipe Berat Badan berdasarkan Umur"
   ]
  },
  {
   "cell_type": "code",
   "execution_count": 599,
   "metadata": {},
   "outputs": [
    {
     "data": {
      "image/png": "[encoded data removed]",
      "text/plain": [
       "<Figure size 1000x600 with 1 Axes>"
      ]
     },
     "metadata": {},
     "output_type": "display_data"
    }
   ],
   "source": [
    "plt.figure(figsize=(10, 6))\n",
    "sns.swarmplot(data=data_duplicated, x='NObeyesdad', y='Age')\n",
    "plt.title('Swarm Plot NObeyesdad vs. Age')\n",
    "plt.xlabel('NObeyesdad')\n",
    "plt.ylabel('Age')\n",
    "plt.xticks(rotation=45)\n",
    "plt.show()"
   ]
  },
  {
   "cell_type": "markdown",
   "metadata": {},
   "source": [
    "Insight :\n",
    "\n",
    "- Semua tipe berat badan berada di range umur 20 - 30 tahun\n",
    "- Obesity_Type_I dan Overweight_Level_II memiliki data paling banyak\n",
    "- Titik-titik yang jauh dari gugusan utama dapat dianggap sebagai outlier. Di \"Normal_Weight,\"dapat dilihat beberapa titik yang jauh lebih tinggi dari gugusan utama, menunjukkan beberapa individu yang lebih tua dalam kategori ini dibandingkan dengan mayoritas\n",
    "\n",
    "Dari data tersebut dapat dilihat bahwa range umur pada distribusi ini terbanyak ada di range umur 20 - 30. Dari range umur tersebut dapat dilihat bahwa banyak yang sudah obesitas dan berat badan kurang."
   ]
  },
  {
   "cell_type": "markdown",
   "metadata": {},
   "source": [
    "#### Melihat persentasi banyaknya perokok yang mempunyai tipe berat badan Overweight_Level_II"
   ]
  },
  {
   "cell_type": "code",
   "execution_count": 600,
   "metadata": {},
   "outputs": [
    {
     "data": {
      "application/vnd.plotly.v1+json": {
       "config": {
        "plotlyServerURL": "https://plot.ly"
       },
       "data": [
        {
         "domain": {
          "x": [
           0,
           1
          ],
          "y": [
           0,
           1
          ]
         },
         "hovertemplate": "SMOKE=%{label}<br>Count=%{value}<extra></extra>",
         "labels": [
          "no",
          "yes"
         ],
         "legendgroup": "",
         "name": "",
         "showlegend": true,
         "type": "pie",
         "values": [
          285,
          5
         ]
        }
       ],
       "layout": {
        "legend": {
         "tracegroupgap": 0
        },
        "template": {
         "data": {
          "bar": [
           {
            "error_x": {
             "color": "#2a3f5f"
            },
            "error_y": {
             "color": "#2a3f5f"
            },
            "marker": {
             "line": {
              "color": "#E5ECF6",
              "width": 0.5
             },
             "pattern": {
              "fillmode": "overlay",
              "size": 10,
              "solidity": 0.2
             }
            },
            "type": "bar"
           }
          ],
          "barpolar": [
           {
            "marker": {
             "line": {
              "color": "#E5ECF6",
              "width": 0.5
             },
             "pattern": {
              "fillmode": "overlay",
              "size": 10,
              "solidity": 0.2
             }
            },
            "type": "barpolar"
           }
          ],
          "carpet": [
           {
            "aaxis": {
             "endlinecolor": "#2a3f5f",
             "gridcolor": "white",
             "linecolor": "white",
             "minorgridcolor": "white",
             "startlinecolor": "#2a3f5f"
            },
            "baxis": {
             "endlinecolor": "#2a3f5f",
             "gridcolor": "white",
             "linecolor": "white",
             "minorgridcolor": "white",
             "startlinecolor": "#2a3f5f"
            },
            "type": "carpet"
           }
          ],
          "choropleth": [
           {
            "colorbar": {
             "outlinewidth": 0,
             "ticks": ""
            },
            "type": "choropleth"
           }
          ],
          "contour": [
           {
            "colorbar": {
             "outlinewidth": 0,
             "ticks": ""
            },
            "colorscale": [
             [
              0,
              "#0d0887"
             ],
             [
              0.1111111111111111,
              "#46039f"
             ],
             [
              0.2222222222222222,
              "#7201a8"
             ],
             [
              0.3333333333333333,
              "#9c179e"
             ],
             [
              0.4444444444444444,
              "#bd3786"
             ],
             [
              0.5555555555555556,
              "#d8576b"
             ],
             [
              0.6666666666666666,
              "#ed7953"
             ],
             [
              0.7777777777777778,
              "#fb9f3a"
             ],
             [
              0.8888888888888888,
              "#fdca26"
             ],
             [
              1,
              "#f0f921"
             ]
            ],
            "type": "contour"
           }
          ],
          "contourcarpet": [
           {
            "colorbar": {
             "outlinewidth": 0,
             "ticks": ""
            },
            "type": "contourcarpet"
           }
          ],
          "heatmap": [
           {
            "colorbar": {
             "outlinewidth": 0,
             "ticks": ""
            },
            "colorscale": [
             [
              0,
              "#0d0887"
             ],
             [
              0.1111111111111111,
              "#46039f"
             ],
             [
              0.2222222222222222,
              "#7201a8"
             ],
             [
              0.3333333333333333,
              "#9c179e"
             ],
             [
              0.4444444444444444,
              "#bd3786"
             ],
             [
              0.5555555555555556,
              "#d8576b"
             ],
             [
              0.6666666666666666,
              "#ed7953"
             ],
             [
              0.7777777777777778,
              "#fb9f3a"
             ],
             [
              0.8888888888888888,
              "#fdca26"
             ],
             [
              1,
              "#f0f921"
             ]
            ],
            "type": "heatmap"
           }
          ],
          "heatmapgl": [
           {
            "colorbar": {
             "outlinewidth": 0,
             "ticks": ""
            },
            "colorscale": [
             [
              0,
              "#0d0887"
             ],
             [
              0.1111111111111111,
              "#46039f"
             ],
             [
              0.2222222222222222,
              "#7201a8"
             ],
             [
              0.3333333333333333,
              "#9c179e"
             ],
             [
              0.4444444444444444,
              "#bd3786"
             ],
             [
              0.5555555555555556,
              "#d8576b"
             ],
             [
              0.6666666666666666,
              "#ed7953"
             ],
             [
              0.7777777777777778,
              "#fb9f3a"
             ],
             [
              0.8888888888888888,
              "#fdca26"
             ],
             [
              1,
              "#f0f921"
             ]
            ],
            "type": "heatmapgl"
           }
          ],
          "histogram": [
           {
            "marker": {
             "pattern": {
              "fillmode": "overlay",
              "size": 10,
              "solidity": 0.2
             }
            },
            "type": "histogram"
           }
          ],
          "histogram2d": [
           {
            "colorbar": {
             "outlinewidth": 0,
             "ticks": ""
            },
            "colorscale": [
             [
              0,
              "#0d0887"
             ],
             [
              0.1111111111111111,
              "#46039f"
             ],
             [
              0.2222222222222222,
              "#7201a8"
             ],
             [
              0.3333333333333333,
              "#9c179e"
             ],
             [
              0.4444444444444444,
              "#bd3786"
             ],
             [
              0.5555555555555556,
              "#d8576b"
             ],
             [
              0.6666666666666666,
              "#ed7953"
             ],
             [
              0.7777777777777778,
              "#fb9f3a"
             ],
             [
              0.8888888888888888,
              "#fdca26"
             ],
             [
              1,
              "#f0f921"
             ]
            ],
            "type": "histogram2d"
           }
          ],
          "histogram2dcontour": [
           {
            "colorbar": {
             "outlinewidth": 0,
             "ticks": ""
            },
            "colorscale": [
             [
              0,
              "#0d0887"
             ],
             [
              0.1111111111111111,
              "#46039f"
             ],
             [
              0.2222222222222222,
              "#7201a8"
             ],
             [
              0.3333333333333333,
              "#9c179e"
             ],
             [
              0.4444444444444444,
              "#bd3786"
             ],
             [
              0.5555555555555556,
              "#d8576b"
             ],
             [
              0.6666666666666666,
              "#ed7953"
             ],
             [
              0.7777777777777778,
              "#fb9f3a"
             ],
             [
              0.8888888888888888,
              "#fdca26"
             ],
             [
              1,
              "#f0f921"
             ]
            ],
            "type": "histogram2dcontour"
           }
          ],
          "mesh3d": [
           {
            "colorbar": {
             "outlinewidth": 0,
             "ticks": ""
            },
            "type": "mesh3d"
           }
          ],
          "parcoords": [
           {
            "line": {
             "colorbar": {
              "outlinewidth": 0,
              "ticks": ""
             }
            },
            "type": "parcoords"
           }
          ],
          "pie": [
           {
            "automargin": true,
            "type": "pie"
           }
          ],
          "scatter": [
           {
            "fillpattern": {
             "fillmode": "overlay",
             "size": 10,
             "solidity": 0.2
            },
            "type": "scatter"
           }
          ],
          "scatter3d": [
           {
            "line": {
             "colorbar": {
              "outlinewidth": 0,
              "ticks": ""
             }
            },
            "marker": {
             "colorbar": {
              "outlinewidth": 0,
              "ticks": ""
             }
            },
            "type": "scatter3d"
           }
          ],
          "scattercarpet": [
           {
            "marker": {
             "colorbar": {
              "outlinewidth": 0,
              "ticks": ""
             }
            },
            "type": "scattercarpet"
           }
          ],
          "scattergeo": [
           {
            "marker": {
             "colorbar": {
              "outlinewidth": 0,
              "ticks": ""
             }
            },
            "type": "scattergeo"
           }
          ],
          "scattergl": [
           {
            "marker": {
             "colorbar": {
              "outlinewidth": 0,
              "ticks": ""
             }
            },
            "type": "scattergl"
           }
          ],
          "scattermapbox": [
           {
            "marker": {
             "colorbar": {
              "outlinewidth": 0,
              "ticks": ""
             }
            },
            "type": "scattermapbox"
           }
          ],
          "scatterpolar": [
           {
            "marker": {
             "colorbar": {
              "outlinewidth": 0,
              "ticks": ""
             }
            },
            "type": "scatterpolar"
           }
          ],
          "scatterpolargl": [
           {
            "marker": {
             "colorbar": {
              "outlinewidth": 0,
              "ticks": ""
             }
            },
            "type": "scatterpolargl"
           }
          ],
          "scatterternary": [
           {
            "marker": {
             "colorbar": {
              "outlinewidth": 0,
              "ticks": ""
             }
            },
            "type": "scatterternary"
           }
          ],
          "surface": [
           {
            "colorbar": {
             "outlinewidth": 0,
             "ticks": ""
            },
            "colorscale": [
             [
              0,
              "#0d0887"
             ],
             [
              0.1111111111111111,
              "#46039f"
             ],
             [
              0.2222222222222222,
              "#7201a8"
             ],
             [
              0.3333333333333333,
              "#9c179e"
             ],
             [
              0.4444444444444444,
              "#bd3786"
             ],
             [
              0.5555555555555556,
              "#d8576b"
             ],
             [
              0.6666666666666666,
              "#ed7953"
             ],
             [
              0.7777777777777778,
              "#fb9f3a"
             ],
             [
              0.8888888888888888,
              "#fdca26"
             ],
             [
              1,
              "#f0f921"
             ]
            ],
            "type": "surface"
           }
          ],
          "table": [
           {
            "cells": {
             "fill": {
              "color": "#EBF0F8"
             },
             "line": {
              "color": "white"
             }
            },
            "header": {
             "fill": {
              "color": "#C8D4E3"
             },
             "line": {
              "color": "white"
             }
            },
            "type": "table"
           }
          ]
         },
         "layout": {
          "annotationdefaults": {
           "arrowcolor": "#2a3f5f",
           "arrowhead": 0,
           "arrowwidth": 1
          },
          "autotypenumbers": "strict",
          "coloraxis": {
           "colorbar": {
            "outlinewidth": 0,
            "ticks": ""
           }
          },
          "colorscale": {
           "diverging": [
            [
             0,
             "#8e0152"
            ],
            [
             0.1,
             "#c51b7d"
            ],
            [
             0.2,
             "#de77ae"
            ],
            [
             0.3,
             "#f1b6da"
            ],
            [
             0.4,
             "#fde0ef"
            ],
            [
             0.5,
             "#f7f7f7"
            ],
            [
             0.6,
             "#e6f5d0"
            ],
            [
             0.7,
             "#b8e186"
            ],
            [
             0.8,
             "#7fbc41"
            ],
            [
             0.9,
             "#4d9221"
            ],
            [
             1,
             "#276419"
            ]
           ],
           "sequential": [
            [
             0,
             "#0d0887"
            ],
            [
             0.1111111111111111,
             "#46039f"
            ],
            [
             0.2222222222222222,
             "#7201a8"
            ],
            [
             0.3333333333333333,
             "#9c179e"
            ],
            [
             0.4444444444444444,
             "#bd3786"
            ],
            [
             0.5555555555555556,
             "#d8576b"
            ],
            [
             0.6666666666666666,
             "#ed7953"
            ],
            [
             0.7777777777777778,
             "#fb9f3a"
            ],
            [
             0.8888888888888888,
             "#fdca26"
            ],
            [
             1,
             "#f0f921"
            ]
           ],
           "sequentialminus": [
            [
             0,
             "#0d0887"
            ],
            [
             0.1111111111111111,
             "#46039f"
            ],
            [
             0.2222222222222222,
             "#7201a8"
            ],
            [
             0.3333333333333333,
             "#9c179e"
            ],
            [
             0.4444444444444444,
             "#bd3786"
            ],
            [
             0.5555555555555556,
             "#d8576b"
            ],
            [
             0.6666666666666666,
             "#ed7953"
            ],
            [
             0.7777777777777778,
             "#fb9f3a"
            ],
            [
             0.8888888888888888,
             "#fdca26"
            ],
            [
             1,
             "#f0f921"
            ]
           ]
          },
          "colorway": [
           "#636efa",
           "#EF553B",
           "#00cc96",
           "#ab63fa",
           "#FFA15A",
           "#19d3f3",
           "#FF6692",
           "#B6E880",
           "#FF97FF",
           "#FECB52"
          ],
          "font": {
           "color": "#2a3f5f"
          },
          "geo": {
           "bgcolor": "white",
           "lakecolor": "white",
           "landcolor": "#E5ECF6",
           "showlakes": true,
           "showland": true,
           "subunitcolor": "white"
          },
          "hoverlabel": {
           "align": "left"
          },
          "hovermode": "closest",
          "mapbox": {
           "style": "light"
          },
          "paper_bgcolor": "white",
          "plot_bgcolor": "#E5ECF6",
          "polar": {
           "angularaxis": {
            "gridcolor": "white",
            "linecolor": "white",
            "ticks": ""
           },
           "bgcolor": "#E5ECF6",
           "radialaxis": {
            "gridcolor": "white",
            "linecolor": "white",
            "ticks": ""
           }
          },
          "scene": {
           "xaxis": {
            "backgroundcolor": "#E5ECF6",
            "gridcolor": "white",
            "gridwidth": 2,
            "linecolor": "white",
            "showbackground": true,
            "ticks": "",
            "zerolinecolor": "white"
           },
           "yaxis": {
            "backgroundcolor": "#E5ECF6",
            "gridcolor": "white",
            "gridwidth": 2,
            "linecolor": "white",
            "showbackground": true,
            "ticks": "",
            "zerolinecolor": "white"
           },
           "zaxis": {
            "backgroundcolor": "#E5ECF6",
            "gridcolor": "white",
            "gridwidth": 2,
            "linecolor": "white",
            "showbackground": true,
            "ticks": "",
            "zerolinecolor": "white"
           }
          },
          "shapedefaults": {
           "line": {
            "color": "#2a3f5f"
           }
          },
          "ternary": {
           "aaxis": {
            "gridcolor": "white",
            "linecolor": "white",
            "ticks": ""
           },
           "baxis": {
            "gridcolor": "white",
            "linecolor": "white",
            "ticks": ""
           },
           "bgcolor": "#E5ECF6",
           "caxis": {
            "gridcolor": "white",
            "linecolor": "white",
            "ticks": ""
           }
          },
          "title": {
           "x": 0.05
          },
          "xaxis": {
           "automargin": true,
           "gridcolor": "white",
           "linecolor": "white",
           "ticks": "",
           "title": {
            "standoff": 15
           },
           "zerolinecolor": "white",
           "zerolinewidth": 2
          },
          "yaxis": {
           "automargin": true,
           "gridcolor": "white",
           "linecolor": "white",
           "ticks": "",
           "title": {
            "standoff": 15
           },
           "zerolinecolor": "white",
           "zerolinewidth": 2
          }
         }
        },
        "title": {
         "text": "Perbandingan SMOKE dengan NObeyesdad"
        }
       }
      }
     },
     "metadata": {},
     "output_type": "display_data"
    }
   ],
   "source": [
    "# Filter data untuk melihat overweight\n",
    "filtered_data = data_duplicated[data_duplicated['NObeyesdad'] == 'Overweight_Level_II']\n",
    "\n",
    "# Hitung jumlah masing-masing nilai pada kolom 'SMOKE'\n",
    "value_counts = filtered_data['SMOKE'].value_counts()\n",
    "\n",
    "# Buat DataFrame untuk pie chart\n",
    "df_pie = pd.DataFrame({'SMOKE': value_counts.index, 'Count': value_counts.values})\n",
    "\n",
    "# Buat pie chart dengan Plotly Express\n",
    "fig = px.pie(df_pie, names='SMOKE', values='Count', title=\"Perbandingan SMOKE dengan NObeyesdad\")\n",
    "fig.show()"
   ]
  },
  {
   "cell_type": "markdown",
   "metadata": {},
   "source": [
    "Insight :\n",
    "\n",
    "Tipe berat badan Overweight_Level_II mayoritas bukan perokok, jadi merokok bukan salah satu faktor pasti untuk orang menjadi obesitas"
   ]
  },
  {
   "cell_type": "markdown",
   "metadata": {},
   "source": [
    "#### Melihat apakah memiliki riwayat keturunan merupakan salah satu faktor terkena obesitas"
   ]
  },
  {
   "cell_type": "code",
   "execution_count": 601,
   "metadata": {},
   "outputs": [
    {
     "data": {
      "application/vnd.plotly.v1+json": {
       "config": {
        "plotlyServerURL": "https://plot.ly"
       },
       "data": [
        {
         "domain": {
          "x": [
           0,
           1
          ],
          "y": [
           0,
           1
          ]
         },
         "hovertemplate": "family_history_with_overweight=%{label}<br>Count=%{value}<extra></extra>",
         "labels": [
          "yes",
          "no"
         ],
         "legendgroup": "",
         "name": "",
         "showlegend": true,
         "type": "pie",
         "values": [
          964,
          8
         ]
        }
       ],
       "layout": {
        "legend": {
         "tracegroupgap": 0
        },
        "template": {
         "data": {
          "bar": [
           {
            "error_x": {
             "color": "#2a3f5f"
            },
            "error_y": {
             "color": "#2a3f5f"
            },
            "marker": {
             "line": {
              "color": "#E5ECF6",
              "width": 0.5
             },
             "pattern": {
              "fillmode": "overlay",
              "size": 10,
              "solidity": 0.2
             }
            },
            "type": "bar"
           }
          ],
          "barpolar": [
           {
            "marker": {
             "line": {
              "color": "#E5ECF6",
              "width": 0.5
             },
             "pattern": {
              "fillmode": "overlay",
              "size": 10,
              "solidity": 0.2
             }
            },
            "type": "barpolar"
           }
          ],
          "carpet": [
           {
            "aaxis": {
             "endlinecolor": "#2a3f5f",
             "gridcolor": "white",
             "linecolor": "white",
             "minorgridcolor": "white",
             "startlinecolor": "#2a3f5f"
            },
            "baxis": {
             "endlinecolor": "#2a3f5f",
             "gridcolor": "white",
             "linecolor": "white",
             "minorgridcolor": "white",
             "startlinecolor": "#2a3f5f"
            },
            "type": "carpet"
           }
          ],
          "choropleth": [
           {
            "colorbar": {
             "outlinewidth": 0,
             "ticks": ""
            },
            "type": "choropleth"
           }
          ],
          "contour": [
           {
            "colorbar": {
             "outlinewidth": 0,
             "ticks": ""
            },
            "colorscale": [
             [
              0,
              "#0d0887"
             ],
             [
              0.1111111111111111,
              "#46039f"
             ],
             [
              0.2222222222222222,
              "#7201a8"
             ],
             [
              0.3333333333333333,
              "#9c179e"
             ],
             [
              0.4444444444444444,
              "#bd3786"
             ],
             [
              0.5555555555555556,
              "#d8576b"
             ],
             [
              0.6666666666666666,
              "#ed7953"
             ],
             [
              0.7777777777777778,
              "#fb9f3a"
             ],
             [
              0.8888888888888888,
              "#fdca26"
             ],
             [
              1,
              "#f0f921"
             ]
            ],
            "type": "contour"
           }
          ],
          "contourcarpet": [
           {
            "colorbar": {
             "outlinewidth": 0,
             "ticks": ""
            },
            "type": "contourcarpet"
           }
          ],
          "heatmap": [
           {
            "colorbar": {
             "outlinewidth": 0,
             "ticks": ""
            },
            "colorscale": [
             [
              0,
              "#0d0887"
             ],
             [
              0.1111111111111111,
              "#46039f"
             ],
             [
              0.2222222222222222,
              "#7201a8"
             ],
             [
              0.3333333333333333,
              "#9c179e"
             ],
             [
              0.4444444444444444,
              "#bd3786"
             ],
             [
              0.5555555555555556,
              "#d8576b"
             ],
             [
              0.6666666666666666,
              "#ed7953"
             ],
             [
              0.7777777777777778,
              "#fb9f3a"
             ],
             [
              0.8888888888888888,
              "#fdca26"
             ],
             [
              1,
              "#f0f921"
             ]
            ],
            "type": "heatmap"
           }
          ],
          "heatmapgl": [
           {
            "colorbar": {
             "outlinewidth": 0,
             "ticks": ""
            },
            "colorscale": [
             [
              0,
              "#0d0887"
             ],
             [
              0.1111111111111111,
              "#46039f"
             ],
             [
              0.2222222222222222,
              "#7201a8"
             ],
             [
              0.3333333333333333,
              "#9c179e"
             ],
             [
              0.4444444444444444,
              "#bd3786"
             ],
             [
              0.5555555555555556,
              "#d8576b"
             ],
             [
              0.6666666666666666,
              "#ed7953"
             ],
             [
              0.7777777777777778,
              "#fb9f3a"
             ],
             [
              0.8888888888888888,
              "#fdca26"
             ],
             [
              1,
              "#f0f921"
             ]
            ],
            "type": "heatmapgl"
           }
          ],
          "histogram": [
           {
            "marker": {
             "pattern": {
              "fillmode": "overlay",
              "size": 10,
              "solidity": 0.2
             }
            },
            "type": "histogram"
           }
          ],
          "histogram2d": [
           {
            "colorbar": {
             "outlinewidth": 0,
             "ticks": ""
            },
            "colorscale": [
             [
              0,
              "#0d0887"
             ],
             [
              0.1111111111111111,
              "#46039f"
             ],
             [
              0.2222222222222222,
              "#7201a8"
             ],
             [
              0.3333333333333333,
              "#9c179e"
             ],
             [
              0.4444444444444444,
              "#bd3786"
             ],
             [
              0.5555555555555556,
              "#d8576b"
             ],
             [
              0.6666666666666666,
              "#ed7953"
             ],
             [
              0.7777777777777778,
              "#fb9f3a"
             ],
             [
              0.8888888888888888,
              "#fdca26"
             ],
             [
              1,
              "#f0f921"
             ]
            ],
            "type": "histogram2d"
           }
          ],
          "histogram2dcontour": [
           {
            "colorbar": {
             "outlinewidth": 0,
             "ticks": ""
            },
            "colorscale": [
             [
              0,
              "#0d0887"
             ],
             [
              0.1111111111111111,
              "#46039f"
             ],
             [
              0.2222222222222222,
              "#7201a8"
             ],
             [
              0.3333333333333333,
              "#9c179e"
             ],
             [
              0.4444444444444444,
              "#bd3786"
             ],
             [
              0.5555555555555556,
              "#d8576b"
             ],
             [
              0.6666666666666666,
              "#ed7953"
             ],
             [
              0.7777777777777778,
              "#fb9f3a"
             ],
             [
              0.8888888888888888,
              "#fdca26"
             ],
             [
              1,
              "#f0f921"
             ]
            ],
            "type": "histogram2dcontour"
           }
          ],
          "mesh3d": [
           {
            "colorbar": {
             "outlinewidth": 0,
             "ticks": ""
            },
            "type": "mesh3d"
           }
          ],
          "parcoords": [
           {
            "line": {
             "colorbar": {
              "outlinewidth": 0,
              "ticks": ""
             }
            },
            "type": "parcoords"
           }
          ],
          "pie": [
           {
            "automargin": true,
            "type": "pie"
           }
          ],
          "scatter": [
           {
            "fillpattern": {
             "fillmode": "overlay",
             "size": 10,
             "solidity": 0.2
            },
            "type": "scatter"
           }
          ],
          "scatter3d": [
           {
            "line": {
             "colorbar": {
              "outlinewidth": 0,
              "ticks": ""
             }
            },
            "marker": {
             "colorbar": {
              "outlinewidth": 0,
              "ticks": ""
             }
            },
            "type": "scatter3d"
           }
          ],
          "scattercarpet": [
           {
            "marker": {
             "colorbar": {
              "outlinewidth": 0,
              "ticks": ""
             }
            },
            "type": "scattercarpet"
           }
          ],
          "scattergeo": [
           {
            "marker": {
             "colorbar": {
              "outlinewidth": 0,
              "ticks": ""
             }
            },
            "type": "scattergeo"
           }
          ],
          "scattergl": [
           {
            "marker": {
             "colorbar": {
              "outlinewidth": 0,
              "ticks": ""
             }
            },
            "type": "scattergl"
           }
          ],
          "scattermapbox": [
           {
            "marker": {
             "colorbar": {
              "outlinewidth": 0,
              "ticks": ""
             }
            },
            "type": "scattermapbox"
           }
          ],
          "scatterpolar": [
           {
            "marker": {
             "colorbar": {
              "outlinewidth": 0,
              "ticks": ""
             }
            },
            "type": "scatterpolar"
           }
          ],
          "scatterpolargl": [
           {
            "marker": {
             "colorbar": {
              "outlinewidth": 0,
              "ticks": ""
             }
            },
            "type": "scatterpolargl"
           }
          ],
          "scatterternary": [
           {
            "marker": {
             "colorbar": {
              "outlinewidth": 0,
              "ticks": ""
             }
            },
            "type": "scatterternary"
           }
          ],
          "surface": [
           {
            "colorbar": {
             "outlinewidth": 0,
             "ticks": ""
            },
            "colorscale": [
             [
              0,
              "#0d0887"
             ],
             [
              0.1111111111111111,
              "#46039f"
             ],
             [
              0.2222222222222222,
              "#7201a8"
             ],
             [
              0.3333333333333333,
              "#9c179e"
             ],
             [
              0.4444444444444444,
              "#bd3786"
             ],
             [
              0.5555555555555556,
              "#d8576b"
             ],
             [
              0.6666666666666666,
              "#ed7953"
             ],
             [
              0.7777777777777778,
              "#fb9f3a"
             ],
             [
              0.8888888888888888,
              "#fdca26"
             ],
             [
              1,
              "#f0f921"
             ]
            ],
            "type": "surface"
           }
          ],
          "table": [
           {
            "cells": {
             "fill": {
              "color": "#EBF0F8"
             },
             "line": {
              "color": "white"
             }
            },
            "header": {
             "fill": {
              "color": "#C8D4E3"
             },
             "line": {
              "color": "white"
             }
            },
            "type": "table"
           }
          ]
         },
         "layout": {
          "annotationdefaults": {
           "arrowcolor": "#2a3f5f",
           "arrowhead": 0,
           "arrowwidth": 1
          },
          "autotypenumbers": "strict",
          "coloraxis": {
           "colorbar": {
            "outlinewidth": 0,
            "ticks": ""
           }
          },
          "colorscale": {
           "diverging": [
            [
             0,
             "#8e0152"
            ],
            [
             0.1,
             "#c51b7d"
            ],
            [
             0.2,
             "#de77ae"
            ],
            [
             0.3,
             "#f1b6da"
            ],
            [
             0.4,
             "#fde0ef"
            ],
            [
             0.5,
             "#f7f7f7"
            ],
            [
             0.6,
             "#e6f5d0"
            ],
            [
             0.7,
             "#b8e186"
            ],
            [
             0.8,
             "#7fbc41"
            ],
            [
             0.9,
             "#4d9221"
            ],
            [
             1,
             "#276419"
            ]
           ],
           "sequential": [
            [
             0,
             "#0d0887"
            ],
            [
             0.1111111111111111,
             "#46039f"
            ],
            [
             0.2222222222222222,
             "#7201a8"
            ],
            [
             0.3333333333333333,
             "#9c179e"
            ],
            [
             0.4444444444444444,
             "#bd3786"
            ],
            [
             0.5555555555555556,
             "#d8576b"
            ],
            [
             0.6666666666666666,
             "#ed7953"
            ],
            [
             0.7777777777777778,
             "#fb9f3a"
            ],
            [
             0.8888888888888888,
             "#fdca26"
            ],
            [
             1,
             "#f0f921"
            ]
           ],
           "sequentialminus": [
            [
             0,
             "#0d0887"
            ],
            [
             0.1111111111111111,
             "#46039f"
            ],
            [
             0.2222222222222222,
             "#7201a8"
            ],
            [
             0.3333333333333333,
             "#9c179e"
            ],
            [
             0.4444444444444444,
             "#bd3786"
            ],
            [
             0.5555555555555556,
             "#d8576b"
            ],
            [
             0.6666666666666666,
             "#ed7953"
            ],
            [
             0.7777777777777778,
             "#fb9f3a"
            ],
            [
             0.8888888888888888,
             "#fdca26"
            ],
            [
             1,
             "#f0f921"
            ]
           ]
          },
          "colorway": [
           "#636efa",
           "#EF553B",
           "#00cc96",
           "#ab63fa",
           "#FFA15A",
           "#19d3f3",
           "#FF6692",
           "#B6E880",
           "#FF97FF",
           "#FECB52"
          ],
          "font": {
           "color": "#2a3f5f"
          },
          "geo": {
           "bgcolor": "white",
           "lakecolor": "white",
           "landcolor": "#E5ECF6",
           "showlakes": true,
           "showland": true,
           "subunitcolor": "white"
          },
          "hoverlabel": {
           "align": "left"
          },
          "hovermode": "closest",
          "mapbox": {
           "style": "light"
          },
          "paper_bgcolor": "white",
          "plot_bgcolor": "#E5ECF6",
          "polar": {
           "angularaxis": {
            "gridcolor": "white",
            "linecolor": "white",
            "ticks": ""
           },
           "bgcolor": "#E5ECF6",
           "radialaxis": {
            "gridcolor": "white",
            "linecolor": "white",
            "ticks": ""
           }
          },
          "scene": {
           "xaxis": {
            "backgroundcolor": "#E5ECF6",
            "gridcolor": "white",
            "gridwidth": 2,
            "linecolor": "white",
            "showbackground": true,
            "ticks": "",
            "zerolinecolor": "white"
           },
           "yaxis": {
            "backgroundcolor": "#E5ECF6",
            "gridcolor": "white",
            "gridwidth": 2,
            "linecolor": "white",
            "showbackground": true,
            "ticks": "",
            "zerolinecolor": "white"
           },
           "zaxis": {
            "backgroundcolor": "#E5ECF6",
            "gridcolor": "white",
            "gridwidth": 2,
            "linecolor": "white",
            "showbackground": true,
            "ticks": "",
            "zerolinecolor": "white"
           }
          },
          "shapedefaults": {
           "line": {
            "color": "#2a3f5f"
           }
          },
          "ternary": {
           "aaxis": {
            "gridcolor": "white",
            "linecolor": "white",
            "ticks": ""
           },
           "baxis": {
            "gridcolor": "white",
            "linecolor": "white",
            "ticks": ""
           },
           "bgcolor": "#E5ECF6",
           "caxis": {
            "gridcolor": "white",
            "linecolor": "white",
            "ticks": ""
           }
          },
          "title": {
           "x": 0.05
          },
          "xaxis": {
           "automargin": true,
           "gridcolor": "white",
           "linecolor": "white",
           "ticks": "",
           "title": {
            "standoff": 15
           },
           "zerolinecolor": "white",
           "zerolinewidth": 2
          },
          "yaxis": {
           "automargin": true,
           "gridcolor": "white",
           "linecolor": "white",
           "ticks": "",
           "title": {
            "standoff": 15
           },
           "zerolinecolor": "white",
           "zerolinewidth": 2
          }
         }
        },
        "title": {
         "text": "Perbandingan family_history_with_overweight dengan NObeyesdad"
        }
       }
      }
     },
     "metadata": {},
     "output_type": "display_data"
    }
   ],
   "source": [
    "# Filter data untuk kategori NObeyesdad yang diinginkan\n",
    "filtered_data = data_duplicated[data_duplicated['NObeyesdad'].isin(['Obesity_Type_III', 'Obesity_Type_II', 'Obesity_Type_I'])]\n",
    "\n",
    "# Hitung jumlah masing-masing nilai pada kolom 'family_history_with_overweight'\n",
    "value_counts = filtered_data['family_history_with_overweight'].value_counts().reset_index()\n",
    "\n",
    "# Buat DataFrame untuk pie chart\n",
    "df_pie = pd.DataFrame({'family_history_with_overweight': value_counts['index'], 'Count': value_counts['family_history_with_overweight']})\n",
    "\n",
    "# Buat pie chart dengan Plotly Express\n",
    "fig = px.pie(df_pie, names='family_history_with_overweight', values='Count', title=\"Perbandingan family_history_with_overweight dengan NObeyesdad\")\n",
    "fig.show()"
   ]
  },
  {
   "cell_type": "markdown",
   "metadata": {},
   "source": [
    "Insight :\n",
    "\n",
    "Dari data ini dapat disimpulkan bahwa jika memiliki riwayat obesitas merupakan salah satu faktor terbesar orang tersebut juga dapat obesitas"
   ]
  },
  {
   "cell_type": "markdown",
   "metadata": {},
   "source": [
    "#### Apakah konsumsi kalori tinggi jadi faktor terkena obesitas"
   ]
  },
  {
   "cell_type": "code",
   "execution_count": 602,
   "metadata": {},
   "outputs": [
    {
     "data": {
      "image/png": "[encoded data removed]",
      "text/plain": [
       "<Figure size 1200x600 with 1 Axes>"
      ]
     },
     "metadata": {},
     "output_type": "display_data"
    }
   ],
   "source": [
    "# Filter data berdasarkan FAVC\n",
    "filtered_data = data_duplicated[data_duplicated['FAVC'] == 'yes']\n",
    "\n",
    "# Buat bar chart\n",
    "plt.figure(figsize=(12, 6))\n",
    "sns.countplot(data=filtered_data, x='NObeyesdad', palette='Set1')\n",
    "plt.xlabel('Kategori NObeyesdad')\n",
    "plt.ylabel('Jumlah Data')\n",
    "plt.title('Bar Chart untuk Kategori NObeyesdad dengan Filter FAVC')\n",
    "plt.xticks(rotation=45)  # Untuk memutar label sumbu x agar lebih mudah dibaca\n",
    "plt.show()"
   ]
  },
  {
   "cell_type": "markdown",
   "metadata": {},
   "source": [
    "Dari data ini dapat dilihat bahwa pengkonsumsi kalori tinggi terbanyak ada di Obesity_Type_I yang berarti adalah makanan dengan kalori tinggi merupakan salah satu faktor pendukung untuk seseorang dapat bertipe obesitas jika dibarengi dengan pola hidup tidak sehat."
   ]
  },
  {
   "cell_type": "markdown",
   "metadata": {},
   "source": [
    "# 5. Feature Engineering"
   ]
  },
  {
   "cell_type": "markdown",
   "metadata": {},
   "source": [
    "Bagian ini berisi proses penyiapan data untuk proses pelatihan model, seperti pembagian data menjadi train-test, transformasi data (normalisasi, encoding, dll.), dan proses-proses lain yang dibutuhkan."
   ]
  },
  {
   "cell_type": "markdown",
   "metadata": {},
   "source": [
    "## Handling Missing Values"
   ]
  },
  {
   "cell_type": "code",
   "execution_count": 603,
   "metadata": {},
   "outputs": [
    {
     "data": {
      "text/plain": [
       "Gender                            0\n",
       "Age                               0\n",
       "Height                            0\n",
       "Weight                            0\n",
       "family_history_with_overweight    0\n",
       "FAVC                              0\n",
       "FCVC                              0\n",
       "NCP                               0\n",
       "CAEC                              0\n",
       "SMOKE                             0\n",
       "CH2O                              0\n",
       "SCC                               0\n",
       "FAF                               0\n",
       "TUE                               0\n",
       "CALC                              0\n",
       "MTRANS                            0\n",
       "NObeyesdad                        0\n",
       "dtype: int64"
      ]
     },
     "execution_count": 603,
     "metadata": {},
     "output_type": "execute_result"
    }
   ],
   "source": [
    "df.isna().sum()"
   ]
  },
  {
   "cell_type": "markdown",
   "metadata": {},
   "source": [
    "Handling Missing Values tidak dilakukan karena dataset tidak memiliki Missing Values"
   ]
  },
  {
   "cell_type": "markdown",
   "metadata": {},
   "source": [
    "## Check Cardinality"
   ]
  },
  {
   "cell_type": "markdown",
   "metadata": {},
   "source": [
    "#### Check Cardinality Numerical"
   ]
  },
  {
   "cell_type": "code",
   "execution_count": 604,
   "metadata": {},
   "outputs": [
    {
     "name": "stdout",
     "output_type": "stream",
     "text": [
      "   Column  Cardinality\n",
      "0     Age           40\n",
      "1  Height            7\n",
      "2  Weight          115\n",
      "3    FCVC            3\n",
      "4     NCP            3\n",
      "5    CH2O            3\n",
      "6     FAF            3\n",
      "7     TUE            2\n"
     ]
    }
   ],
   "source": [
    "card_num = ['Age','Height', 'Weight', 'FCVC', 'NCP', 'CH2O', 'FAF', 'TUE']\n",
    "\n",
    "cardinality_df = pd.DataFrame({'Column': card_num, 'Cardinality': [data_duplicated[col].nunique() for col in card_num]})\n",
    "\n",
    "print(cardinality_df)"
   ]
  },
  {
   "cell_type": "markdown",
   "metadata": {},
   "source": [
    "Column 'Age' dan 'Weight' memiliki high cardinality"
   ]
  },
  {
   "cell_type": "markdown",
   "metadata": {},
   "source": [
    "#### Check Cardinality Categorical"
   ]
  },
  {
   "cell_type": "code",
   "execution_count": 605,
   "metadata": {},
   "outputs": [
    {
     "name": "stdout",
     "output_type": "stream",
     "text": [
      "                           Column  Cardinality\n",
      "0                          Gender            2\n",
      "1  family_history_with_overweight            2\n",
      "2                            CAEC            4\n",
      "3                           SMOKE            2\n",
      "4                             SCC            2\n",
      "5                            CALC            4\n",
      "6                          MTRANS            5\n",
      "7                      NObeyesdad            7\n"
     ]
    }
   ],
   "source": [
    "card_cat = ['Gender','family_history_with_overweight', 'CAEC', 'SMOKE', 'SCC', 'CALC', 'MTRANS', 'NObeyesdad']\n",
    "\n",
    "cardinality_df = pd.DataFrame({'Column': card_cat, 'Cardinality': [data_duplicated[col].nunique() for col in card_cat]})\n",
    "\n",
    "print(cardinality_df)"
   ]
  },
  {
   "cell_type": "markdown",
   "metadata": {},
   "source": [
    "Column categorical tidak ada yang memiliki high cardinality"
   ]
  },
  {
   "cell_type": "markdown",
   "metadata": {},
   "source": [
    "# Check VIF"
   ]
  },
  {
   "cell_type": "code",
   "execution_count": 606,
   "metadata": {},
   "outputs": [
    {
     "name": "stdout",
     "output_type": "stream",
     "text": [
      "  Variable         VIF\n",
      "0      Age   16.223028\n",
      "1   Height  131.054740\n",
      "2   Weight   16.075925\n",
      "3     FCVC   14.696087\n",
      "4      NCP    4.893886\n",
      "5     CH2O   16.953454\n",
      "6      FAF   37.785461\n",
      "7      TUE  150.703667\n"
     ]
    }
   ],
   "source": [
    "X = df[['Age', 'Height', 'Weight', 'FCVC', 'NCP', 'CH2O', 'FAF', 'TUE']]\n",
    "\n",
    "# Menghitung VIF\n",
    "vif_data = pd.DataFrame()\n",
    "vif_data[\"Variable\"] = X.columns\n",
    "vif_data[\"VIF\"] = [variance_inflation_factor(X.values, i) for i in range(X.shape[1])]\n",
    "\n",
    "print(vif_data)"
   ]
  },
  {
   "cell_type": "markdown",
   "metadata": {},
   "source": [
    "Dari semua column, hanya column 'NCP' yang memiliki nilai VIF yang relatif rendah yang berarti menunjukan multikolinearitas yang lebih rendah dengan variabel lain."
   ]
  },
  {
   "cell_type": "markdown",
   "metadata": {},
   "source": [
    "## Split X(Features) dengan y(target)"
   ]
  },
  {
   "cell_type": "code",
   "execution_count": 607,
   "metadata": {},
   "outputs": [
    {
     "data": {
      "text/html": [
       "<div>\n",
       "<style scoped>\n",
       "    .dataframe tbody tr th:only-of-type {\n",
       "        vertical-align: middle;\n",
       "    }\n",
       "\n",
       "    .dataframe tbody tr th {\n",
       "        vertical-align: top;\n",
       "    }\n",
       "\n",
       "    .dataframe thead th {\n",
       "        text-align: right;\n",
       "    }\n",
       "</style>\n",
       "<table border=\"1\" class=\"dataframe\">\n",
       "  <thead>\n",
       "    <tr style=\"text-align: right;\">\n",
       "      <th></th>\n",
       "      <th>Gender</th>\n",
       "      <th>Age</th>\n",
       "      <th>Height</th>\n",
       "      <th>Weight</th>\n",
       "      <th>family_history_with_overweight</th>\n",
       "      <th>FAVC</th>\n",
       "      <th>FCVC</th>\n",
       "      <th>NCP</th>\n",
       "      <th>CAEC</th>\n",
       "      <th>SMOKE</th>\n",
       "      <th>CH2O</th>\n",
       "      <th>SCC</th>\n",
       "      <th>FAF</th>\n",
       "      <th>TUE</th>\n",
       "      <th>CALC</th>\n",
       "      <th>MTRANS</th>\n",
       "    </tr>\n",
       "  </thead>\n",
       "  <tbody>\n",
       "    <tr>\n",
       "      <th>0</th>\n",
       "      <td>Female</td>\n",
       "      <td>21</td>\n",
       "      <td>1.6</td>\n",
       "      <td>64</td>\n",
       "      <td>yes</td>\n",
       "      <td>no</td>\n",
       "      <td>2</td>\n",
       "      <td>1</td>\n",
       "      <td>Sometimes</td>\n",
       "      <td>no</td>\n",
       "      <td>2</td>\n",
       "      <td>no</td>\n",
       "      <td>3</td>\n",
       "      <td>3</td>\n",
       "      <td>no</td>\n",
       "      <td>Public_Transportation</td>\n",
       "    </tr>\n",
       "    <tr>\n",
       "      <th>1</th>\n",
       "      <td>Female</td>\n",
       "      <td>21</td>\n",
       "      <td>1.5</td>\n",
       "      <td>56</td>\n",
       "      <td>yes</td>\n",
       "      <td>no</td>\n",
       "      <td>3</td>\n",
       "      <td>1</td>\n",
       "      <td>Sometimes</td>\n",
       "      <td>yes</td>\n",
       "      <td>1</td>\n",
       "      <td>yes</td>\n",
       "      <td>1</td>\n",
       "      <td>3</td>\n",
       "      <td>Sometimes</td>\n",
       "      <td>Public_Transportation</td>\n",
       "    </tr>\n",
       "    <tr>\n",
       "      <th>2</th>\n",
       "      <td>Male</td>\n",
       "      <td>23</td>\n",
       "      <td>1.8</td>\n",
       "      <td>77</td>\n",
       "      <td>yes</td>\n",
       "      <td>no</td>\n",
       "      <td>2</td>\n",
       "      <td>1</td>\n",
       "      <td>Sometimes</td>\n",
       "      <td>no</td>\n",
       "      <td>2</td>\n",
       "      <td>no</td>\n",
       "      <td>2</td>\n",
       "      <td>3</td>\n",
       "      <td>Frequently</td>\n",
       "      <td>Public_Transportation</td>\n",
       "    </tr>\n",
       "    <tr>\n",
       "      <th>3</th>\n",
       "      <td>Male</td>\n",
       "      <td>27</td>\n",
       "      <td>1.8</td>\n",
       "      <td>87</td>\n",
       "      <td>no</td>\n",
       "      <td>no</td>\n",
       "      <td>3</td>\n",
       "      <td>1</td>\n",
       "      <td>Sometimes</td>\n",
       "      <td>no</td>\n",
       "      <td>2</td>\n",
       "      <td>no</td>\n",
       "      <td>2</td>\n",
       "      <td>3</td>\n",
       "      <td>Frequently</td>\n",
       "      <td>Walking</td>\n",
       "    </tr>\n",
       "    <tr>\n",
       "      <th>4</th>\n",
       "      <td>Male</td>\n",
       "      <td>22</td>\n",
       "      <td>1.8</td>\n",
       "      <td>89</td>\n",
       "      <td>no</td>\n",
       "      <td>no</td>\n",
       "      <td>2</td>\n",
       "      <td>3</td>\n",
       "      <td>Sometimes</td>\n",
       "      <td>no</td>\n",
       "      <td>2</td>\n",
       "      <td>no</td>\n",
       "      <td>3</td>\n",
       "      <td>3</td>\n",
       "      <td>Sometimes</td>\n",
       "      <td>Public_Transportation</td>\n",
       "    </tr>\n",
       "  </tbody>\n",
       "</table>\n",
       "</div>"
      ],
      "text/plain": [
       "   Gender  Age  Height  Weight family_history_with_overweight FAVC  FCVC  NCP  \\\n",
       "0  Female   21     1.6      64                            yes   no     2    1   \n",
       "1  Female   21     1.5      56                            yes   no     3    1   \n",
       "2    Male   23     1.8      77                            yes   no     2    1   \n",
       "3    Male   27     1.8      87                             no   no     3    1   \n",
       "4    Male   22     1.8      89                             no   no     2    3   \n",
       "\n",
       "        CAEC SMOKE  CH2O  SCC  FAF  TUE        CALC                 MTRANS  \n",
       "0  Sometimes    no     2   no    3    3          no  Public_Transportation  \n",
       "1  Sometimes   yes     1  yes    1    3   Sometimes  Public_Transportation  \n",
       "2  Sometimes    no     2   no    2    3  Frequently  Public_Transportation  \n",
       "3  Sometimes    no     2   no    2    3  Frequently                Walking  \n",
       "4  Sometimes    no     2   no    3    3   Sometimes  Public_Transportation  "
      ]
     },
     "execution_count": 607,
     "metadata": {},
     "output_type": "execute_result"
    }
   ],
   "source": [
    "X = df.drop(['NObeyesdad'], axis = 1)\n",
    "y = df['NObeyesdad']\n",
    "\n",
    "X.head()"
   ]
  },
  {
   "cell_type": "code",
   "execution_count": 652,
   "metadata": {},
   "outputs": [
    {
     "data": {
      "text/plain": [
       "array(['Public_Transportation', 'Walking', 'Automobile', 'Motorbike',\n",
       "       'Bike'], dtype=object)"
      ]
     },
     "execution_count": 652,
     "metadata": {},
     "output_type": "execute_result"
    }
   ],
   "source": [
    "df['MTRANS'].unique()"
   ]
  },
  {
   "cell_type": "markdown",
   "metadata": {},
   "source": [
    "## Split Data Train-set dan Test-set"
   ]
  },
  {
   "cell_type": "code",
   "execution_count": 608,
   "metadata": {},
   "outputs": [
    {
     "name": "stdout",
     "output_type": "stream",
     "text": [
      "Train size (1477, 16)\n",
      "Test size (634, 16)\n",
      "Test size (1477,)\n",
      "Test size (634,)\n"
     ]
    },
    {
     "data": {
      "text/html": [
       "<div>\n",
       "<style scoped>\n",
       "    .dataframe tbody tr th:only-of-type {\n",
       "        vertical-align: middle;\n",
       "    }\n",
       "\n",
       "    .dataframe tbody tr th {\n",
       "        vertical-align: top;\n",
       "    }\n",
       "\n",
       "    .dataframe thead th {\n",
       "        text-align: right;\n",
       "    }\n",
       "</style>\n",
       "<table border=\"1\" class=\"dataframe\">\n",
       "  <thead>\n",
       "    <tr style=\"text-align: right;\">\n",
       "      <th></th>\n",
       "      <th>Gender</th>\n",
       "      <th>Age</th>\n",
       "      <th>Height</th>\n",
       "      <th>Weight</th>\n",
       "      <th>family_history_with_overweight</th>\n",
       "      <th>FAVC</th>\n",
       "      <th>FCVC</th>\n",
       "      <th>NCP</th>\n",
       "      <th>CAEC</th>\n",
       "      <th>SMOKE</th>\n",
       "      <th>CH2O</th>\n",
       "      <th>SCC</th>\n",
       "      <th>FAF</th>\n",
       "      <th>TUE</th>\n",
       "      <th>CALC</th>\n",
       "      <th>MTRANS</th>\n",
       "    </tr>\n",
       "  </thead>\n",
       "  <tbody>\n",
       "    <tr>\n",
       "      <th>936</th>\n",
       "      <td>Female</td>\n",
       "      <td>21</td>\n",
       "      <td>1.6</td>\n",
       "      <td>66</td>\n",
       "      <td>yes</td>\n",
       "      <td>yes</td>\n",
       "      <td>2</td>\n",
       "      <td>1</td>\n",
       "      <td>Sometimes</td>\n",
       "      <td>no</td>\n",
       "      <td>2</td>\n",
       "      <td>no</td>\n",
       "      <td>2</td>\n",
       "      <td>3</td>\n",
       "      <td>Sometimes</td>\n",
       "      <td>Public_Transportation</td>\n",
       "    </tr>\n",
       "    <tr>\n",
       "      <th>415</th>\n",
       "      <td>Male</td>\n",
       "      <td>14</td>\n",
       "      <td>1.7</td>\n",
       "      <td>72</td>\n",
       "      <td>yes</td>\n",
       "      <td>yes</td>\n",
       "      <td>3</td>\n",
       "      <td>1</td>\n",
       "      <td>Sometimes</td>\n",
       "      <td>no</td>\n",
       "      <td>1</td>\n",
       "      <td>no</td>\n",
       "      <td>2</td>\n",
       "      <td>3</td>\n",
       "      <td>no</td>\n",
       "      <td>Walking</td>\n",
       "    </tr>\n",
       "    <tr>\n",
       "      <th>2025</th>\n",
       "      <td>Female</td>\n",
       "      <td>21</td>\n",
       "      <td>1.8</td>\n",
       "      <td>137</td>\n",
       "      <td>yes</td>\n",
       "      <td>yes</td>\n",
       "      <td>3</td>\n",
       "      <td>1</td>\n",
       "      <td>Sometimes</td>\n",
       "      <td>no</td>\n",
       "      <td>2</td>\n",
       "      <td>no</td>\n",
       "      <td>3</td>\n",
       "      <td>3</td>\n",
       "      <td>Sometimes</td>\n",
       "      <td>Public_Transportation</td>\n",
       "    </tr>\n",
       "    <tr>\n",
       "      <th>2016</th>\n",
       "      <td>Female</td>\n",
       "      <td>25</td>\n",
       "      <td>1.6</td>\n",
       "      <td>102</td>\n",
       "      <td>yes</td>\n",
       "      <td>yes</td>\n",
       "      <td>3</td>\n",
       "      <td>1</td>\n",
       "      <td>Sometimes</td>\n",
       "      <td>no</td>\n",
       "      <td>3</td>\n",
       "      <td>no</td>\n",
       "      <td>3</td>\n",
       "      <td>3</td>\n",
       "      <td>Sometimes</td>\n",
       "      <td>Public_Transportation</td>\n",
       "    </tr>\n",
       "    <tr>\n",
       "      <th>813</th>\n",
       "      <td>Female</td>\n",
       "      <td>42</td>\n",
       "      <td>1.8</td>\n",
       "      <td>75</td>\n",
       "      <td>yes</td>\n",
       "      <td>yes</td>\n",
       "      <td>3</td>\n",
       "      <td>2</td>\n",
       "      <td>Sometimes</td>\n",
       "      <td>no</td>\n",
       "      <td>2</td>\n",
       "      <td>no</td>\n",
       "      <td>3</td>\n",
       "      <td>3</td>\n",
       "      <td>Sometimes</td>\n",
       "      <td>Automobile</td>\n",
       "    </tr>\n",
       "    <tr>\n",
       "      <th>...</th>\n",
       "      <td>...</td>\n",
       "      <td>...</td>\n",
       "      <td>...</td>\n",
       "      <td>...</td>\n",
       "      <td>...</td>\n",
       "      <td>...</td>\n",
       "      <td>...</td>\n",
       "      <td>...</td>\n",
       "      <td>...</td>\n",
       "      <td>...</td>\n",
       "      <td>...</td>\n",
       "      <td>...</td>\n",
       "      <td>...</td>\n",
       "      <td>...</td>\n",
       "      <td>...</td>\n",
       "      <td>...</td>\n",
       "    </tr>\n",
       "    <tr>\n",
       "      <th>2065</th>\n",
       "      <td>Female</td>\n",
       "      <td>21</td>\n",
       "      <td>1.7</td>\n",
       "      <td>132</td>\n",
       "      <td>yes</td>\n",
       "      <td>yes</td>\n",
       "      <td>3</td>\n",
       "      <td>1</td>\n",
       "      <td>Sometimes</td>\n",
       "      <td>no</td>\n",
       "      <td>3</td>\n",
       "      <td>no</td>\n",
       "      <td>3</td>\n",
       "      <td>3</td>\n",
       "      <td>Sometimes</td>\n",
       "      <td>Public_Transportation</td>\n",
       "    </tr>\n",
       "    <tr>\n",
       "      <th>221</th>\n",
       "      <td>Male</td>\n",
       "      <td>23</td>\n",
       "      <td>1.7</td>\n",
       "      <td>82</td>\n",
       "      <td>yes</td>\n",
       "      <td>yes</td>\n",
       "      <td>2</td>\n",
       "      <td>3</td>\n",
       "      <td>Sometimes</td>\n",
       "      <td>no</td>\n",
       "      <td>3</td>\n",
       "      <td>no</td>\n",
       "      <td>3</td>\n",
       "      <td>3</td>\n",
       "      <td>Sometimes</td>\n",
       "      <td>Public_Transportation</td>\n",
       "    </tr>\n",
       "    <tr>\n",
       "      <th>943</th>\n",
       "      <td>Male</td>\n",
       "      <td>24</td>\n",
       "      <td>1.8</td>\n",
       "      <td>82</td>\n",
       "      <td>yes</td>\n",
       "      <td>yes</td>\n",
       "      <td>1</td>\n",
       "      <td>1</td>\n",
       "      <td>Sometimes</td>\n",
       "      <td>no</td>\n",
       "      <td>2</td>\n",
       "      <td>no</td>\n",
       "      <td>3</td>\n",
       "      <td>3</td>\n",
       "      <td>no</td>\n",
       "      <td>Public_Transportation</td>\n",
       "    </tr>\n",
       "    <tr>\n",
       "      <th>630</th>\n",
       "      <td>Female</td>\n",
       "      <td>17</td>\n",
       "      <td>1.8</td>\n",
       "      <td>50</td>\n",
       "      <td>no</td>\n",
       "      <td>yes</td>\n",
       "      <td>2</td>\n",
       "      <td>1</td>\n",
       "      <td>Sometimes</td>\n",
       "      <td>no</td>\n",
       "      <td>3</td>\n",
       "      <td>no</td>\n",
       "      <td>2</td>\n",
       "      <td>3</td>\n",
       "      <td>Sometimes</td>\n",
       "      <td>Public_Transportation</td>\n",
       "    </tr>\n",
       "    <tr>\n",
       "      <th>1739</th>\n",
       "      <td>Male</td>\n",
       "      <td>37</td>\n",
       "      <td>1.8</td>\n",
       "      <td>118</td>\n",
       "      <td>yes</td>\n",
       "      <td>yes</td>\n",
       "      <td>2</td>\n",
       "      <td>1</td>\n",
       "      <td>Sometimes</td>\n",
       "      <td>no</td>\n",
       "      <td>2</td>\n",
       "      <td>no</td>\n",
       "      <td>3</td>\n",
       "      <td>3</td>\n",
       "      <td>Sometimes</td>\n",
       "      <td>Automobile</td>\n",
       "    </tr>\n",
       "  </tbody>\n",
       "</table>\n",
       "<p>1477 rows × 16 columns</p>\n",
       "</div>"
      ],
      "text/plain": [
       "      Gender  Age  Height  Weight family_history_with_overweight FAVC  FCVC  \\\n",
       "936   Female   21     1.6      66                            yes  yes     2   \n",
       "415     Male   14     1.7      72                            yes  yes     3   \n",
       "2025  Female   21     1.8     137                            yes  yes     3   \n",
       "2016  Female   25     1.6     102                            yes  yes     3   \n",
       "813   Female   42     1.8      75                            yes  yes     3   \n",
       "...      ...  ...     ...     ...                            ...  ...   ...   \n",
       "2065  Female   21     1.7     132                            yes  yes     3   \n",
       "221     Male   23     1.7      82                            yes  yes     2   \n",
       "943     Male   24     1.8      82                            yes  yes     1   \n",
       "630   Female   17     1.8      50                             no  yes     2   \n",
       "1739    Male   37     1.8     118                            yes  yes     2   \n",
       "\n",
       "      NCP       CAEC SMOKE  CH2O SCC  FAF  TUE       CALC  \\\n",
       "936     1  Sometimes    no     2  no    2    3  Sometimes   \n",
       "415     1  Sometimes    no     1  no    2    3         no   \n",
       "2025    1  Sometimes    no     2  no    3    3  Sometimes   \n",
       "2016    1  Sometimes    no     3  no    3    3  Sometimes   \n",
       "813     2  Sometimes    no     2  no    3    3  Sometimes   \n",
       "...   ...        ...   ...   ...  ..  ...  ...        ...   \n",
       "2065    1  Sometimes    no     3  no    3    3  Sometimes   \n",
       "221     3  Sometimes    no     3  no    3    3  Sometimes   \n",
       "943     1  Sometimes    no     2  no    3    3         no   \n",
       "630     1  Sometimes    no     3  no    2    3  Sometimes   \n",
       "1739    1  Sometimes    no     2  no    3    3  Sometimes   \n",
       "\n",
       "                     MTRANS  \n",
       "936   Public_Transportation  \n",
       "415                 Walking  \n",
       "2025  Public_Transportation  \n",
       "2016  Public_Transportation  \n",
       "813              Automobile  \n",
       "...                     ...  \n",
       "2065  Public_Transportation  \n",
       "221   Public_Transportation  \n",
       "943   Public_Transportation  \n",
       "630   Public_Transportation  \n",
       "1739             Automobile  \n",
       "\n",
       "[1477 rows x 16 columns]"
      ]
     },
     "execution_count": 608,
     "metadata": {},
     "output_type": "execute_result"
    }
   ],
   "source": [
    "from sklearn.model_selection import train_test_split\n",
    "\n",
    "X_train, X_test, y_train, y_test = train_test_split(X, y, test_size = 0.3, random_state = 15)\n",
    "\n",
    "print('Train size', X_train.shape)\n",
    "print('Test size', X_test.shape)\n",
    "print('Test size', y_train.shape)\n",
    "print('Test size', y_test.shape)\n",
    "\n",
    "X_train"
   ]
  },
  {
   "cell_type": "code",
   "execution_count": 609,
   "metadata": {},
   "outputs": [],
   "source": [
    "# Memasukkan kolom yang tergolong numeric kedalam num_col.\n",
    "\n",
    "num_col = X_train[['Age', 'Height', 'Weight']]"
   ]
  },
  {
   "cell_type": "code",
   "execution_count": 610,
   "metadata": {},
   "outputs": [
    {
     "name": "stdout",
     "output_type": "stream",
     "text": [
      "Skewed columns: ['Age']\n",
      "Normal columns: ['Height', 'Weight']\n"
     ]
    }
   ],
   "source": [
    "normal_cols = []  # untuk menampung kolom yang masuk dalam skewness normal\n",
    "skewed_cols = []  # untuk menampung kolom yang masuk dalam skewness skewed\n",
    "\n",
    "for column in num_col:  # untuk mencari kolom mana yang skewed atau normal\n",
    "    skewness = num_col[column].skew()\n",
    "    if skewness < -0.5 or skewness > 0.5:  # syarat\n",
    "        skewed_cols.append(column)  # masuk ke variabel penampung skewed\n",
    "    elif skewness >= -0.5 or skewness <= 0.5:  # syarat\n",
    "        normal_cols.append(column)  # masuk ke variabel penampung normal\n",
    "\n",
    "print(\"Skewed columns:\", skewed_cols)\n",
    "print(\"Normal columns:\", normal_cols)"
   ]
  },
  {
   "cell_type": "markdown",
   "metadata": {},
   "source": [
    "Column yang memiliki Skewed tidak normal hanya column Age saja, maka dilakukan capping menggunakan winsorizer"
   ]
  },
  {
   "cell_type": "code",
   "execution_count": 611,
   "metadata": {},
   "outputs": [
    {
     "data": {
      "text/plain": [
       "1.5623346228361115"
      ]
     },
     "execution_count": 611,
     "metadata": {},
     "output_type": "execute_result"
    }
   ],
   "source": [
    "df['Age'].skew()"
   ]
  },
  {
   "cell_type": "code",
   "execution_count": 612,
   "metadata": {},
   "outputs": [],
   "source": [
    "# Buat function membuat histogram dan boxplot, untuk lihat perubahan setelah capping \n",
    "def capping_plot(df, variable):\n",
    "    # Definisikan figure size\n",
    "    plt.figure(figsize=(16, 4))\n",
    "\n",
    "    # membuat Histogram\n",
    "    plt.subplot(1, 2, 1)\n",
    "    sns.histplot(df['Age'], bins=30)\n",
    "    plt.title('Histogram')\n",
    "\n",
    "    # membuat Boxplot\n",
    "    plt.subplot(1, 2, 2)\n",
    "    sns.boxplot(y=df['Age'])\n",
    "    plt.title('Boxplot')\n",
    "\n",
    "    plt.show()"
   ]
  },
  {
   "cell_type": "code",
   "execution_count": 613,
   "metadata": {},
   "outputs": [
    {
     "name": "stdout",
     "output_type": "stream",
     "text": [
      "Data Train\n",
      "\n",
      "age - Before Capping\n"
     ]
    },
    {
     "data": {
      "image/png": "[encoded data removed]",
      "text/plain": [
       "<Figure size 1600x400 with 2 Axes>"
      ]
     },
     "metadata": {},
     "output_type": "display_data"
    }
   ],
   "source": [
    "# Melihat histogram dan boxplot yang sudah di capping\n",
    "\n",
    "print('Data Train')\n",
    "print('\\nage - Before Capping')\n",
    "capping_plot(X_train, 'Age')"
   ]
  },
  {
   "cell_type": "code",
   "execution_count": 614,
   "metadata": {},
   "outputs": [
    {
     "data": {
      "text/plain": [
       "{'Age': 36.5}"
      ]
     },
     "execution_count": 614,
     "metadata": {},
     "output_type": "execute_result"
    }
   ],
   "source": [
    "# Outlier Trimmer menggunakan metode IQR pada column Age\n",
    "\n",
    "# caping outlier\n",
    "\n",
    "from feature_engine.outliers import Winsorizer\n",
    "\n",
    "winsoriser = Winsorizer(capping_method='iqr',\n",
    "                                 tail='both',\n",
    "                                 fold=1.5,\n",
    "                                 variables=['Age'])\n",
    "\n",
    "winsoriser.fit(X_train)\n",
    "\n",
    "X_train = winsoriser.fit_transform(X_train)\n",
    "X_test = winsoriser.transform(X_test)\n",
    "winsoriser.right_tail_caps_"
   ]
  },
  {
   "cell_type": "code",
   "execution_count": 615,
   "metadata": {},
   "outputs": [
    {
     "data": {
      "text/html": [
       "<div>\n",
       "<style scoped>\n",
       "    .dataframe tbody tr th:only-of-type {\n",
       "        vertical-align: middle;\n",
       "    }\n",
       "\n",
       "    .dataframe tbody tr th {\n",
       "        vertical-align: top;\n",
       "    }\n",
       "\n",
       "    .dataframe thead th {\n",
       "        text-align: right;\n",
       "    }\n",
       "</style>\n",
       "<table border=\"1\" class=\"dataframe\">\n",
       "  <thead>\n",
       "    <tr style=\"text-align: right;\">\n",
       "      <th></th>\n",
       "      <th>Gender</th>\n",
       "      <th>Age</th>\n",
       "      <th>Height</th>\n",
       "      <th>Weight</th>\n",
       "      <th>family_history_with_overweight</th>\n",
       "      <th>FAVC</th>\n",
       "      <th>FCVC</th>\n",
       "      <th>NCP</th>\n",
       "      <th>CAEC</th>\n",
       "      <th>SMOKE</th>\n",
       "      <th>CH2O</th>\n",
       "      <th>SCC</th>\n",
       "      <th>FAF</th>\n",
       "      <th>TUE</th>\n",
       "      <th>CALC</th>\n",
       "      <th>MTRANS</th>\n",
       "    </tr>\n",
       "  </thead>\n",
       "  <tbody>\n",
       "    <tr>\n",
       "      <th>936</th>\n",
       "      <td>Female</td>\n",
       "      <td>21.0</td>\n",
       "      <td>1.6</td>\n",
       "      <td>66</td>\n",
       "      <td>yes</td>\n",
       "      <td>yes</td>\n",
       "      <td>2</td>\n",
       "      <td>1</td>\n",
       "      <td>Sometimes</td>\n",
       "      <td>no</td>\n",
       "      <td>2</td>\n",
       "      <td>no</td>\n",
       "      <td>2</td>\n",
       "      <td>3</td>\n",
       "      <td>Sometimes</td>\n",
       "      <td>Public_Transportation</td>\n",
       "    </tr>\n",
       "    <tr>\n",
       "      <th>415</th>\n",
       "      <td>Male</td>\n",
       "      <td>14.0</td>\n",
       "      <td>1.7</td>\n",
       "      <td>72</td>\n",
       "      <td>yes</td>\n",
       "      <td>yes</td>\n",
       "      <td>3</td>\n",
       "      <td>1</td>\n",
       "      <td>Sometimes</td>\n",
       "      <td>no</td>\n",
       "      <td>1</td>\n",
       "      <td>no</td>\n",
       "      <td>2</td>\n",
       "      <td>3</td>\n",
       "      <td>no</td>\n",
       "      <td>Walking</td>\n",
       "    </tr>\n",
       "    <tr>\n",
       "      <th>2025</th>\n",
       "      <td>Female</td>\n",
       "      <td>21.0</td>\n",
       "      <td>1.8</td>\n",
       "      <td>137</td>\n",
       "      <td>yes</td>\n",
       "      <td>yes</td>\n",
       "      <td>3</td>\n",
       "      <td>1</td>\n",
       "      <td>Sometimes</td>\n",
       "      <td>no</td>\n",
       "      <td>2</td>\n",
       "      <td>no</td>\n",
       "      <td>3</td>\n",
       "      <td>3</td>\n",
       "      <td>Sometimes</td>\n",
       "      <td>Public_Transportation</td>\n",
       "    </tr>\n",
       "    <tr>\n",
       "      <th>2016</th>\n",
       "      <td>Female</td>\n",
       "      <td>25.0</td>\n",
       "      <td>1.6</td>\n",
       "      <td>102</td>\n",
       "      <td>yes</td>\n",
       "      <td>yes</td>\n",
       "      <td>3</td>\n",
       "      <td>1</td>\n",
       "      <td>Sometimes</td>\n",
       "      <td>no</td>\n",
       "      <td>3</td>\n",
       "      <td>no</td>\n",
       "      <td>3</td>\n",
       "      <td>3</td>\n",
       "      <td>Sometimes</td>\n",
       "      <td>Public_Transportation</td>\n",
       "    </tr>\n",
       "    <tr>\n",
       "      <th>813</th>\n",
       "      <td>Female</td>\n",
       "      <td>36.5</td>\n",
       "      <td>1.8</td>\n",
       "      <td>75</td>\n",
       "      <td>yes</td>\n",
       "      <td>yes</td>\n",
       "      <td>3</td>\n",
       "      <td>2</td>\n",
       "      <td>Sometimes</td>\n",
       "      <td>no</td>\n",
       "      <td>2</td>\n",
       "      <td>no</td>\n",
       "      <td>3</td>\n",
       "      <td>3</td>\n",
       "      <td>Sometimes</td>\n",
       "      <td>Automobile</td>\n",
       "    </tr>\n",
       "    <tr>\n",
       "      <th>...</th>\n",
       "      <td>...</td>\n",
       "      <td>...</td>\n",
       "      <td>...</td>\n",
       "      <td>...</td>\n",
       "      <td>...</td>\n",
       "      <td>...</td>\n",
       "      <td>...</td>\n",
       "      <td>...</td>\n",
       "      <td>...</td>\n",
       "      <td>...</td>\n",
       "      <td>...</td>\n",
       "      <td>...</td>\n",
       "      <td>...</td>\n",
       "      <td>...</td>\n",
       "      <td>...</td>\n",
       "      <td>...</td>\n",
       "    </tr>\n",
       "    <tr>\n",
       "      <th>2065</th>\n",
       "      <td>Female</td>\n",
       "      <td>21.0</td>\n",
       "      <td>1.7</td>\n",
       "      <td>132</td>\n",
       "      <td>yes</td>\n",
       "      <td>yes</td>\n",
       "      <td>3</td>\n",
       "      <td>1</td>\n",
       "      <td>Sometimes</td>\n",
       "      <td>no</td>\n",
       "      <td>3</td>\n",
       "      <td>no</td>\n",
       "      <td>3</td>\n",
       "      <td>3</td>\n",
       "      <td>Sometimes</td>\n",
       "      <td>Public_Transportation</td>\n",
       "    </tr>\n",
       "    <tr>\n",
       "      <th>221</th>\n",
       "      <td>Male</td>\n",
       "      <td>23.0</td>\n",
       "      <td>1.7</td>\n",
       "      <td>82</td>\n",
       "      <td>yes</td>\n",
       "      <td>yes</td>\n",
       "      <td>2</td>\n",
       "      <td>3</td>\n",
       "      <td>Sometimes</td>\n",
       "      <td>no</td>\n",
       "      <td>3</td>\n",
       "      <td>no</td>\n",
       "      <td>3</td>\n",
       "      <td>3</td>\n",
       "      <td>Sometimes</td>\n",
       "      <td>Public_Transportation</td>\n",
       "    </tr>\n",
       "    <tr>\n",
       "      <th>943</th>\n",
       "      <td>Male</td>\n",
       "      <td>24.0</td>\n",
       "      <td>1.8</td>\n",
       "      <td>82</td>\n",
       "      <td>yes</td>\n",
       "      <td>yes</td>\n",
       "      <td>1</td>\n",
       "      <td>1</td>\n",
       "      <td>Sometimes</td>\n",
       "      <td>no</td>\n",
       "      <td>2</td>\n",
       "      <td>no</td>\n",
       "      <td>3</td>\n",
       "      <td>3</td>\n",
       "      <td>no</td>\n",
       "      <td>Public_Transportation</td>\n",
       "    </tr>\n",
       "    <tr>\n",
       "      <th>630</th>\n",
       "      <td>Female</td>\n",
       "      <td>17.0</td>\n",
       "      <td>1.8</td>\n",
       "      <td>50</td>\n",
       "      <td>no</td>\n",
       "      <td>yes</td>\n",
       "      <td>2</td>\n",
       "      <td>1</td>\n",
       "      <td>Sometimes</td>\n",
       "      <td>no</td>\n",
       "      <td>3</td>\n",
       "      <td>no</td>\n",
       "      <td>2</td>\n",
       "      <td>3</td>\n",
       "      <td>Sometimes</td>\n",
       "      <td>Public_Transportation</td>\n",
       "    </tr>\n",
       "    <tr>\n",
       "      <th>1739</th>\n",
       "      <td>Male</td>\n",
       "      <td>36.5</td>\n",
       "      <td>1.8</td>\n",
       "      <td>118</td>\n",
       "      <td>yes</td>\n",
       "      <td>yes</td>\n",
       "      <td>2</td>\n",
       "      <td>1</td>\n",
       "      <td>Sometimes</td>\n",
       "      <td>no</td>\n",
       "      <td>2</td>\n",
       "      <td>no</td>\n",
       "      <td>3</td>\n",
       "      <td>3</td>\n",
       "      <td>Sometimes</td>\n",
       "      <td>Automobile</td>\n",
       "    </tr>\n",
       "  </tbody>\n",
       "</table>\n",
       "<p>1477 rows × 16 columns</p>\n",
       "</div>"
      ],
      "text/plain": [
       "      Gender   Age  Height  Weight family_history_with_overweight FAVC  FCVC  \\\n",
       "936   Female  21.0     1.6      66                            yes  yes     2   \n",
       "415     Male  14.0     1.7      72                            yes  yes     3   \n",
       "2025  Female  21.0     1.8     137                            yes  yes     3   \n",
       "2016  Female  25.0     1.6     102                            yes  yes     3   \n",
       "813   Female  36.5     1.8      75                            yes  yes     3   \n",
       "...      ...   ...     ...     ...                            ...  ...   ...   \n",
       "2065  Female  21.0     1.7     132                            yes  yes     3   \n",
       "221     Male  23.0     1.7      82                            yes  yes     2   \n",
       "943     Male  24.0     1.8      82                            yes  yes     1   \n",
       "630   Female  17.0     1.8      50                             no  yes     2   \n",
       "1739    Male  36.5     1.8     118                            yes  yes     2   \n",
       "\n",
       "      NCP       CAEC SMOKE  CH2O SCC  FAF  TUE       CALC  \\\n",
       "936     1  Sometimes    no     2  no    2    3  Sometimes   \n",
       "415     1  Sometimes    no     1  no    2    3         no   \n",
       "2025    1  Sometimes    no     2  no    3    3  Sometimes   \n",
       "2016    1  Sometimes    no     3  no    3    3  Sometimes   \n",
       "813     2  Sometimes    no     2  no    3    3  Sometimes   \n",
       "...   ...        ...   ...   ...  ..  ...  ...        ...   \n",
       "2065    1  Sometimes    no     3  no    3    3  Sometimes   \n",
       "221     3  Sometimes    no     3  no    3    3  Sometimes   \n",
       "943     1  Sometimes    no     2  no    3    3         no   \n",
       "630     1  Sometimes    no     3  no    2    3  Sometimes   \n",
       "1739    1  Sometimes    no     2  no    3    3  Sometimes   \n",
       "\n",
       "                     MTRANS  \n",
       "936   Public_Transportation  \n",
       "415                 Walking  \n",
       "2025  Public_Transportation  \n",
       "2016  Public_Transportation  \n",
       "813              Automobile  \n",
       "...                     ...  \n",
       "2065  Public_Transportation  \n",
       "221   Public_Transportation  \n",
       "943   Public_Transportation  \n",
       "630   Public_Transportation  \n",
       "1739             Automobile  \n",
       "\n",
       "[1477 rows x 16 columns]"
      ]
     },
     "execution_count": 615,
     "metadata": {},
     "output_type": "execute_result"
    }
   ],
   "source": [
    "X_train"
   ]
  },
  {
   "cell_type": "code",
   "execution_count": 616,
   "metadata": {},
   "outputs": [],
   "source": [
    "# Buat function membuat histogram dan boxplot, untuk lihat perubahan setelah capping \n",
    "def capping_plot(df, variable):\n",
    "    # Definisikan figure size\n",
    "    plt.figure(figsize=(16, 4))\n",
    "\n",
    "    # membuat Histogram\n",
    "    plt.subplot(1, 2, 1)\n",
    "    sns.histplot(df[variable], bins=30)\n",
    "    plt.title('Histogram')\n",
    "\n",
    "    # membuat Boxplot\n",
    "    plt.subplot(1, 2, 2)\n",
    "    sns.boxplot(y=df[variable])\n",
    "    plt.title('Boxplot')\n",
    "\n",
    "    plt.show()"
   ]
  },
  {
   "cell_type": "code",
   "execution_count": 617,
   "metadata": {},
   "outputs": [
    {
     "name": "stdout",
     "output_type": "stream",
     "text": [
      "Data Train\n",
      "\n",
      "age - After Capping\n"
     ]
    },
    {
     "data": {
      "image/png": "[encoded data removed]",
      "text/plain": [
       "<Figure size 1600x400 with 2 Axes>"
      ]
     },
     "metadata": {},
     "output_type": "display_data"
    }
   ],
   "source": [
    "# Melihat histogram dan boxplot yang sudah di capping\n",
    "\n",
    "print('Data Train')\n",
    "print('\\nage - After Capping')\n",
    "capping_plot(X_train, 'Age')"
   ]
  },
  {
   "cell_type": "code",
   "execution_count": 618,
   "metadata": {},
   "outputs": [
    {
     "data": {
      "text/plain": [
       "Obesity_Type_I         351\n",
       "Obesity_Type_III       324\n",
       "Obesity_Type_II        297\n",
       "Overweight_Level_I     290\n",
       "Overweight_Level_II    290\n",
       "Normal_Weight          287\n",
       "Insufficient_Weight    272\n",
       "Name: NObeyesdad, dtype: int64"
      ]
     },
     "execution_count": 618,
     "metadata": {},
     "output_type": "execute_result"
    }
   ],
   "source": [
    "# Check Target\n",
    "\n",
    "y.value_counts()"
   ]
  },
  {
   "cell_type": "markdown",
   "metadata": {},
   "source": [
    "### Feature Selection"
   ]
  },
  {
   "cell_type": "code",
   "execution_count": 619,
   "metadata": {},
   "outputs": [
    {
     "data": {
      "image/png": "[encoded data removed]",
      "text/plain": [
       "<Figure size 1000x600 with 2 Axes>"
      ]
     },
     "metadata": {},
     "output_type": "display_data"
    }
   ],
   "source": [
    "from scipy.stats import kendalltau\n",
    "\n",
    "data3 = data_duplicated\n",
    "\n",
    "kendall_corr_matrix = data3.corr(method=lambda x, y: kendalltau(x, y).correlation)\n",
    "\n",
    "plt.figure(figsize=(10, 6))\n",
    "sns.heatmap(kendall_corr_matrix, annot=True, cmap='coolwarm', center=0)\n",
    "plt.title('Kendall tau')\n",
    "plt.show()"
   ]
  },
  {
   "cell_type": "markdown",
   "metadata": {},
   "source": [
    "### Feature Scalling"
   ]
  },
  {
   "cell_type": "code",
   "execution_count": 620,
   "metadata": {},
   "outputs": [
    {
     "data": {
      "text/plain": [
       "936     Overweight_Level_I\n",
       "415          Normal_Weight\n",
       "2025      Obesity_Type_III\n",
       "2016      Obesity_Type_III\n",
       "813     Overweight_Level_I\n",
       "957     Overweight_Level_I\n",
       "142         Obesity_Type_I\n",
       "350          Normal_Weight\n",
       "374          Normal_Weight\n",
       "240          Normal_Weight\n",
       "Name: NObeyesdad, dtype: object"
      ]
     },
     "execution_count": 620,
     "metadata": {},
     "output_type": "execute_result"
    }
   ],
   "source": [
    "y_train[:10]"
   ]
  },
  {
   "cell_type": "code",
   "execution_count": 621,
   "metadata": {},
   "outputs": [
    {
     "data": {
      "text/plain": [
       "936      Overweight_Level_I\n",
       "415           Normal_Weight\n",
       "2025       Obesity_Type_III\n",
       "2016       Obesity_Type_III\n",
       "813      Overweight_Level_I\n",
       "               ...         \n",
       "2065       Obesity_Type_III\n",
       "221     Overweight_Level_II\n",
       "943      Overweight_Level_I\n",
       "630     Insufficient_Weight\n",
       "1739        Obesity_Type_II\n",
       "Name: NObeyesdad, Length: 1477, dtype: object"
      ]
     },
     "execution_count": 621,
     "metadata": {},
     "output_type": "execute_result"
    }
   ],
   "source": [
    "y_train"
   ]
  },
  {
   "cell_type": "code",
   "execution_count": 622,
   "metadata": {},
   "outputs": [],
   "source": [
    "# Scalling\n",
    "from sklearn.compose import ColumnTransformer\n",
    "from sklearn.preprocessing import RobustScaler\n",
    "from sklearn.preprocessing import OneHotEncoder\n",
    "from sklearn.preprocessing import OrdinalEncoder\n",
    "from sklearn.preprocessing import LabelEncoder\n",
    "\n",
    "\n",
    "columns_to_scale = ['Age', 'Height', 'Weight']\n",
    "column_ordin = ['FCVC','NCP','CAEC', 'CH2O', 'FAF', 'TUE' ,'CALC']\n",
    "column_onhot = ['Gender','FAVC', 'family_history_with_overweight', 'SMOKE', 'SCC', 'MTRANS']\n",
    "\n",
    "# Initialize a LabelEncoder\n",
    "label_encoder = LabelEncoder()\n",
    "\n",
    "# Fit and transform the target variable using the label encoder\n",
    "y_train = label_encoder.fit_transform(y_train)\n",
    "y_test = label_encoder.fit_transform(y_test)\n",
    "# Create a list of transformers for the ColumnTransformer\n",
    "transformers = [\n",
    "    (\"robust_scaler\", RobustScaler(), columns_to_scale),\n",
    "    (\"onehot\", OneHotEncoder(), column_onhot),\n",
    "    (\"ordinal\",OrdinalEncoder(categories=[['1', '2', '3'], ['1', '2', '3'], ['no', 'Sometimes', 'Frequently', 'Always'], ['1', '2', '3'], ['1', '2', '3'], ['2', '3'], ['no', 'Sometimes', 'Frequently', 'Always']]),column_ordin)\n",
    "]\n",
    "\n",
    "preprocessor = ColumnTransformer(transformers, remainder=\"passthrough\")"
   ]
  },
  {
   "cell_type": "code",
   "execution_count": 623,
   "metadata": {},
   "outputs": [
    {
     "data": {
      "text/plain": [
       "array([5, 1, 4, 4, 5, 5, 2, 1, 1, 1])"
      ]
     },
     "execution_count": 623,
     "metadata": {},
     "output_type": "execute_result"
    }
   ],
   "source": [
    "y_train[:10]"
   ]
  },
  {
   "cell_type": "markdown",
   "metadata": {},
   "source": [
    "Melihat urutan data dari target"
   ]
  },
  {
   "cell_type": "markdown",
   "metadata": {},
   "source": [
    "| Nilai  | Deskripsi              |\n",
    "|-------|--------------------|\n",
    "| 0 | Insufficient Weight    |\n",
    "| 1 | Normal                 |\n",
    "| 2 | Obesity Type I         |\n",
    "| 3 | Obesity Type II        |\n",
    "| 4 | Obesity Type III       |\n",
    "| 5 | Overweight Level I     |\n",
    "| 6 | Overweight Level II    |\n"
   ]
  },
  {
   "cell_type": "code",
   "execution_count": 624,
   "metadata": {},
   "outputs": [
    {
     "data": {
      "text/plain": [
       "array([5, 1, 4, ..., 5, 0, 3])"
      ]
     },
     "execution_count": 624,
     "metadata": {},
     "output_type": "execute_result"
    }
   ],
   "source": [
    "y_train"
   ]
  },
  {
   "cell_type": "markdown",
   "metadata": {},
   "source": [
    "### Balancing"
   ]
  },
  {
   "cell_type": "code",
   "execution_count": 651,
   "metadata": {},
   "outputs": [
    {
     "data": {
      "text/plain": [
       "Obesity_Type_I         351\n",
       "Obesity_Type_III       324\n",
       "Obesity_Type_II        297\n",
       "Overweight_Level_I     290\n",
       "Overweight_Level_II    290\n",
       "Normal_Weight          287\n",
       "Insufficient_Weight    272\n",
       "Name: NObeyesdad, dtype: int64"
      ]
     },
     "execution_count": 651,
     "metadata": {},
     "output_type": "execute_result"
    }
   ],
   "source": [
    "y.value_counts()"
   ]
  },
  {
   "cell_type": "markdown",
   "metadata": {},
   "source": [
    "Balancing tidak dilakukan karena data termasuk balance"
   ]
  },
  {
   "cell_type": "markdown",
   "metadata": {},
   "source": [
    "# 6. Model Definition"
   ]
  },
  {
   "cell_type": "markdown",
   "metadata": {},
   "source": [
    "Bagian ini berisi cell untuk mendefinisikan model. Jelaskan alasan menggunakan suatu algoritma/model, hyperparameter yang dipakai, jenis penggunaan metrics yang dipakai, dan hal lain yang terkait dengan model."
   ]
  },
  {
   "cell_type": "code",
   "execution_count": 625,
   "metadata": {},
   "outputs": [],
   "source": [
    "from sklearn.linear_model import LogisticRegression\n",
    "from sklearn.neighbors import KNeighborsClassifier\n",
    "from sklearn.svm import SVC\n",
    "from sklearn.model_selection import RandomizedSearchCV\n",
    "from sklearn.metrics import classification_report, confusion_matrix, ConfusionMatrixDisplay, f1_score, accuracy_score, precision_score, recall_score\n",
    "from sklearn.model_selection import cross_val_score\n",
    "\n",
    "from sklearn.pipeline import make_pipeline\n",
    "from sklearn.tree import DecisionTreeClassifier\n",
    "from sklearn.ensemble import RandomForestClassifier\n",
    "from sklearn.ensemble import GradientBoostingClassifier, AdaBoostClassifier\n",
    "import xgboost as xgb\n",
    "from xgboost import XGBClassifier\n",
    "from xgboost import XGBRegressor"
   ]
  },
  {
   "cell_type": "code",
   "execution_count": 626,
   "metadata": {},
   "outputs": [],
   "source": [
    "# !pip install xgboost"
   ]
  },
  {
   "cell_type": "code",
   "execution_count": 627,
   "metadata": {},
   "outputs": [],
   "source": [
    "knn_pipeline = make_pipeline(preprocessor, KNeighborsClassifier(n_jobs=-1))\n",
    "svm_pipeline = make_pipeline(preprocessor, SVC())\n",
    "decision_pipeline = make_pipeline(preprocessor, DecisionTreeClassifier(random_state=42))\n",
    "random_forest_pipeline = make_pipeline(preprocessor, RandomForestClassifier(random_state=42))\n",
    "xgboost_pipeline = make_pipeline(preprocessor, XGBClassifier(objective='multi:softmax', num_class=7, random_state=42))"
   ]
  },
  {
   "cell_type": "code",
   "execution_count": 628,
   "metadata": {},
   "outputs": [
    {
     "name": "stdout",
     "output_type": "stream",
     "text": [
      "K-Nearest Neighbors:\n",
      "Cross-Validation Scores: [0.78378378 0.80067568 0.8        0.78644068 0.72542373]\n",
      "Mean Accuracy: 0.7792647732478242\n",
      "==================================================\n",
      "Support Vector Classifier:\n",
      "Cross-Validation Scores: [0.84797297 0.84459459 0.86440678 0.87118644 0.83050847]\n",
      "Mean Accuracy: 0.8517338524965645\n",
      "==================================================\n",
      "Decision Tree:\n",
      "Cross-Validation Scores: [0.90202703 0.90878378 0.90169492 0.9220339  0.91864407]\n",
      "Mean Accuracy: 0.9106367384333487\n",
      "==================================================\n"
     ]
    },
    {
     "name": "stdout",
     "output_type": "stream",
     "text": [
      "Random Forest:\n",
      "Cross-Validation Scores: [0.90540541 0.94256757 0.9220339  0.90508475 0.94576271]\n",
      "Mean Accuracy: 0.9241708657810352\n",
      "==================================================\n",
      "XGBoost:\n",
      "Cross-Validation Scores: [0.94256757 0.95945946 0.94237288 0.94237288 0.96271186]\n",
      "Mean Accuracy: 0.9498969308291342\n",
      "==================================================\n"
     ]
    }
   ],
   "source": [
    "from sklearn.model_selection import cross_val_score\n",
    "\n",
    "classifiers = [\n",
    "    (\"K-Nearest Neighbors\", knn_pipeline),\n",
    "    (\"Support Vector Classifier\", svm_pipeline),\n",
    "    (\"Decision Tree\", decision_pipeline),\n",
    "    (\"Random Forest\", random_forest_pipeline),\n",
    "    (\"XGBoost\", xgboost_pipeline)\n",
    "]\n",
    "\n",
    "for name, pipeline in classifiers:\n",
    "    scores = cross_val_score(pipeline, X_train, y_train, cv=5, scoring='accuracy')\n",
    "    print(f\"{name}:\")\n",
    "    print(f\"Cross-Validation Scores: {scores}\")\n",
    "    print(f\"Mean Accuracy: {scores.mean()}\")\n",
    "    print(\"=\"*50)\n"
   ]
  },
  {
   "cell_type": "markdown",
   "metadata": {},
   "source": []
  },
  {
   "cell_type": "markdown",
   "metadata": {},
   "source": [
    "Model XGBoost menunjukan tingkat akurasi paling tinggi, tetapi saya memilih Random Forest untuk dilakukan Hyperparameter Tuning"
   ]
  },
  {
   "cell_type": "markdown",
   "metadata": {},
   "source": [
    "# 7. Model Training"
   ]
  },
  {
   "cell_type": "markdown",
   "metadata": {},
   "source": [
    "Cell pada bagian ini hanya berisi code untuk melatih model dan output yang dihasilkan. Lakukan beberapa kali proses training dengan hyperparameter yang berbeda untuk melihat hasil yang didapatkan. Analisis dan narasikan hasil ini pada bagian Model Evaluation."
   ]
  },
  {
   "cell_type": "code",
   "execution_count": 630,
   "metadata": {},
   "outputs": [
    {
     "data": {
      "text/html": [
       "<style>#sk-container-id-26 {color: black;}#sk-container-id-26 pre{padding: 0;}#sk-container-id-26 div.sk-toggleable {background-color: white;}#sk-container-id-26 label.sk-toggleable__label {cursor: pointer;display: block;width: 100%;margin-bottom: 0;padding: 0.3em;box-sizing: border-box;text-align: center;}#sk-container-id-26 label.sk-toggleable__label-arrow:before {content: \"▸\";float: left;margin-right: 0.25em;color: #696969;}#sk-container-id-26 label.sk-toggleable__label-arrow:hover:before {color: black;}#sk-container-id-26 div.sk-estimator:hover label.sk-toggleable__label-arrow:before {color: black;}#sk-container-id-26 div.sk-toggleable__content {max-height: 0;max-width: 0;overflow: hidden;text-align: left;background-color: #f0f8ff;}#sk-container-id-26 div.sk-toggleable__content pre {margin: 0.2em;color: black;border-radius: 0.25em;background-color: #f0f8ff;}#sk-container-id-26 input.sk-toggleable__control:checked~div.sk-toggleable__content {max-height: 200px;max-width: 100%;overflow: auto;}#sk-container-id-26 input.sk-toggleable__control:checked~label.sk-toggleable__label-arrow:before {content: \"▾\";}#sk-container-id-26 div.sk-estimator input.sk-toggleable__control:checked~label.sk-toggleable__label {background-color: #d4ebff;}#sk-container-id-26 div.sk-label input.sk-toggleable__control:checked~label.sk-toggleable__label {background-color: #d4ebff;}#sk-container-id-26 input.sk-hidden--visually {border: 0;clip: rect(1px 1px 1px 1px);clip: rect(1px, 1px, 1px, 1px);height: 1px;margin: -1px;overflow: hidden;padding: 0;position: absolute;width: 1px;}#sk-container-id-26 div.sk-estimator {font-family: monospace;background-color: #f0f8ff;border: 1px dotted black;border-radius: 0.25em;box-sizing: border-box;margin-bottom: 0.5em;}#sk-container-id-26 div.sk-estimator:hover {background-color: #d4ebff;}#sk-container-id-26 div.sk-parallel-item::after {content: \"\";width: 100%;border-bottom: 1px solid gray;flex-grow: 1;}#sk-container-id-26 div.sk-label:hover label.sk-toggleable__label {background-color: #d4ebff;}#sk-container-id-26 div.sk-serial::before {content: \"\";position: absolute;border-left: 1px solid gray;box-sizing: border-box;top: 0;bottom: 0;left: 50%;z-index: 0;}#sk-container-id-26 div.sk-serial {display: flex;flex-direction: column;align-items: center;background-color: white;padding-right: 0.2em;padding-left: 0.2em;position: relative;}#sk-container-id-26 div.sk-item {position: relative;z-index: 1;}#sk-container-id-26 div.sk-parallel {display: flex;align-items: stretch;justify-content: center;background-color: white;position: relative;}#sk-container-id-26 div.sk-item::before, #sk-container-id-26 div.sk-parallel-item::before {content: \"\";position: absolute;border-left: 1px solid gray;box-sizing: border-box;top: 0;bottom: 0;left: 50%;z-index: -1;}#sk-container-id-26 div.sk-parallel-item {display: flex;flex-direction: column;z-index: 1;position: relative;background-color: white;}#sk-container-id-26 div.sk-parallel-item:first-child::after {align-self: flex-end;width: 50%;}#sk-container-id-26 div.sk-parallel-item:last-child::after {align-self: flex-start;width: 50%;}#sk-container-id-26 div.sk-parallel-item:only-child::after {width: 0;}#sk-container-id-26 div.sk-dashed-wrapped {border: 1px dashed gray;margin: 0 0.4em 0.5em 0.4em;box-sizing: border-box;padding-bottom: 0.4em;background-color: white;}#sk-container-id-26 div.sk-label label {font-family: monospace;font-weight: bold;display: inline-block;line-height: 1.2em;}#sk-container-id-26 div.sk-label-container {text-align: center;}#sk-container-id-26 div.sk-container {/* jupyter's `normalize.less` sets `[hidden] { display: none; }` but bootstrap.min.css set `[hidden] { display: none !important; }` so we also need the `!important` here to be able to override the default hidden behavior on the sphinx rendered scikit-learn.org. See: https://github.com/scikit-learn/scikit-learn/issues/21755 */display: inline-block !important;position: relative;}#sk-container-id-26 div.sk-text-repr-fallback {display: none;}</style><div id=\"sk-container-id-26\" class=\"sk-top-container\"><div class=\"sk-text-repr-fallback\"><pre>Pipeline(steps=[(&#x27;columntransformer&#x27;,\n",
       "                 ColumnTransformer(remainder=&#x27;passthrough&#x27;,\n",
       "                                   transformers=[(&#x27;robust_scaler&#x27;,\n",
       "                                                  RobustScaler(),\n",
       "                                                  [&#x27;Age&#x27;, &#x27;Height&#x27;, &#x27;Weight&#x27;]),\n",
       "                                                 (&#x27;onehot&#x27;, OneHotEncoder(),\n",
       "                                                  [&#x27;Gender&#x27;, &#x27;FAVC&#x27;,\n",
       "                                                   &#x27;family_history_with_overweight&#x27;,\n",
       "                                                   &#x27;SMOKE&#x27;, &#x27;SCC&#x27;, &#x27;MTRANS&#x27;]),\n",
       "                                                 (&#x27;ordinal&#x27;,\n",
       "                                                  OrdinalEncoder(categories=[[&#x27;1&#x27;,\n",
       "                                                                              &#x27;2&#x27;,\n",
       "                                                                              &#x27;3&#x27;],\n",
       "                                                                             [&#x27;1&#x27;,\n",
       "                                                                              &#x27;2&#x27;,\n",
       "                                                                              &#x27;3&#x27;],\n",
       "                                                                             [&#x27;no&#x27;,\n",
       "                                                                              &#x27;Sometimes&#x27;,\n",
       "                                                                              &#x27;Frequently&#x27;,\n",
       "                                                                              &#x27;Always&#x27;],\n",
       "                                                                             [&#x27;1&#x27;,\n",
       "                                                                              &#x27;2&#x27;,\n",
       "                                                                              &#x27;3&#x27;],\n",
       "                                                                             [&#x27;1&#x27;,\n",
       "                                                                              &#x27;2&#x27;,\n",
       "                                                                              &#x27;3&#x27;],\n",
       "                                                                             [&#x27;2&#x27;,\n",
       "                                                                              &#x27;3&#x27;],\n",
       "                                                                             [&#x27;no&#x27;,\n",
       "                                                                              &#x27;Sometimes&#x27;,\n",
       "                                                                              &#x27;Frequently&#x27;,\n",
       "                                                                              &#x27;Always&#x27;]]),\n",
       "                                                  [&#x27;FCVC&#x27;, &#x27;NCP&#x27;, &#x27;CAEC&#x27;,\n",
       "                                                   &#x27;CH2O&#x27;, &#x27;FAF&#x27;, &#x27;TUE&#x27;,\n",
       "                                                   &#x27;CALC&#x27;])])),\n",
       "                (&#x27;kneighborsclassifier&#x27;, KNeighborsClassifier(n_jobs=-1))])</pre><b>In a Jupyter environment, please rerun this cell to show the HTML representation or trust the notebook. <br />On GitHub, the HTML representation is unable to render, please try loading this page with nbviewer.org.</b></div><div class=\"sk-container\" hidden><div class=\"sk-item sk-dashed-wrapped\"><div class=\"sk-label-container\"><div class=\"sk-label sk-toggleable\"><input class=\"sk-toggleable__control sk-hidden--visually\" id=\"sk-estimator-id-279\" type=\"checkbox\" ><label for=\"sk-estimator-id-279\" class=\"sk-toggleable__label sk-toggleable__label-arrow\">Pipeline</label><div class=\"sk-toggleable__content\"><pre>Pipeline(steps=[(&#x27;columntransformer&#x27;,\n",
       "                 ColumnTransformer(remainder=&#x27;passthrough&#x27;,\n",
       "                                   transformers=[(&#x27;robust_scaler&#x27;,\n",
       "                                                  RobustScaler(),\n",
       "                                                  [&#x27;Age&#x27;, &#x27;Height&#x27;, &#x27;Weight&#x27;]),\n",
       "                                                 (&#x27;onehot&#x27;, OneHotEncoder(),\n",
       "                                                  [&#x27;Gender&#x27;, &#x27;FAVC&#x27;,\n",
       "                                                   &#x27;family_history_with_overweight&#x27;,\n",
       "                                                   &#x27;SMOKE&#x27;, &#x27;SCC&#x27;, &#x27;MTRANS&#x27;]),\n",
       "                                                 (&#x27;ordinal&#x27;,\n",
       "                                                  OrdinalEncoder(categories=[[&#x27;1&#x27;,\n",
       "                                                                              &#x27;2&#x27;,\n",
       "                                                                              &#x27;3&#x27;],\n",
       "                                                                             [&#x27;1&#x27;,\n",
       "                                                                              &#x27;2&#x27;,\n",
       "                                                                              &#x27;3&#x27;],\n",
       "                                                                             [&#x27;no&#x27;,\n",
       "                                                                              &#x27;Sometimes&#x27;,\n",
       "                                                                              &#x27;Frequently&#x27;,\n",
       "                                                                              &#x27;Always&#x27;],\n",
       "                                                                             [&#x27;1&#x27;,\n",
       "                                                                              &#x27;2&#x27;,\n",
       "                                                                              &#x27;3&#x27;],\n",
       "                                                                             [&#x27;1&#x27;,\n",
       "                                                                              &#x27;2&#x27;,\n",
       "                                                                              &#x27;3&#x27;],\n",
       "                                                                             [&#x27;2&#x27;,\n",
       "                                                                              &#x27;3&#x27;],\n",
       "                                                                             [&#x27;no&#x27;,\n",
       "                                                                              &#x27;Sometimes&#x27;,\n",
       "                                                                              &#x27;Frequently&#x27;,\n",
       "                                                                              &#x27;Always&#x27;]]),\n",
       "                                                  [&#x27;FCVC&#x27;, &#x27;NCP&#x27;, &#x27;CAEC&#x27;,\n",
       "                                                   &#x27;CH2O&#x27;, &#x27;FAF&#x27;, &#x27;TUE&#x27;,\n",
       "                                                   &#x27;CALC&#x27;])])),\n",
       "                (&#x27;kneighborsclassifier&#x27;, KNeighborsClassifier(n_jobs=-1))])</pre></div></div></div><div class=\"sk-serial\"><div class=\"sk-item sk-dashed-wrapped\"><div class=\"sk-label-container\"><div class=\"sk-label sk-toggleable\"><input class=\"sk-toggleable__control sk-hidden--visually\" id=\"sk-estimator-id-280\" type=\"checkbox\" ><label for=\"sk-estimator-id-280\" class=\"sk-toggleable__label sk-toggleable__label-arrow\">columntransformer: ColumnTransformer</label><div class=\"sk-toggleable__content\"><pre>ColumnTransformer(remainder=&#x27;passthrough&#x27;,\n",
       "                  transformers=[(&#x27;robust_scaler&#x27;, RobustScaler(),\n",
       "                                 [&#x27;Age&#x27;, &#x27;Height&#x27;, &#x27;Weight&#x27;]),\n",
       "                                (&#x27;onehot&#x27;, OneHotEncoder(),\n",
       "                                 [&#x27;Gender&#x27;, &#x27;FAVC&#x27;,\n",
       "                                  &#x27;family_history_with_overweight&#x27;, &#x27;SMOKE&#x27;,\n",
       "                                  &#x27;SCC&#x27;, &#x27;MTRANS&#x27;]),\n",
       "                                (&#x27;ordinal&#x27;,\n",
       "                                 OrdinalEncoder(categories=[[&#x27;1&#x27;, &#x27;2&#x27;, &#x27;3&#x27;],\n",
       "                                                            [&#x27;1&#x27;, &#x27;2&#x27;, &#x27;3&#x27;],\n",
       "                                                            [&#x27;no&#x27;, &#x27;Sometimes&#x27;,\n",
       "                                                             &#x27;Frequently&#x27;,\n",
       "                                                             &#x27;Always&#x27;],\n",
       "                                                            [&#x27;1&#x27;, &#x27;2&#x27;, &#x27;3&#x27;],\n",
       "                                                            [&#x27;1&#x27;, &#x27;2&#x27;, &#x27;3&#x27;],\n",
       "                                                            [&#x27;2&#x27;, &#x27;3&#x27;],\n",
       "                                                            [&#x27;no&#x27;, &#x27;Sometimes&#x27;,\n",
       "                                                             &#x27;Frequently&#x27;,\n",
       "                                                             &#x27;Always&#x27;]]),\n",
       "                                 [&#x27;FCVC&#x27;, &#x27;NCP&#x27;, &#x27;CAEC&#x27;, &#x27;CH2O&#x27;, &#x27;FAF&#x27;, &#x27;TUE&#x27;,\n",
       "                                  &#x27;CALC&#x27;])])</pre></div></div></div><div class=\"sk-parallel\"><div class=\"sk-parallel-item\"><div class=\"sk-item\"><div class=\"sk-label-container\"><div class=\"sk-label sk-toggleable\"><input class=\"sk-toggleable__control sk-hidden--visually\" id=\"sk-estimator-id-281\" type=\"checkbox\" ><label for=\"sk-estimator-id-281\" class=\"sk-toggleable__label sk-toggleable__label-arrow\">robust_scaler</label><div class=\"sk-toggleable__content\"><pre>[&#x27;Age&#x27;, &#x27;Height&#x27;, &#x27;Weight&#x27;]</pre></div></div></div><div class=\"sk-serial\"><div class=\"sk-item\"><div class=\"sk-estimator sk-toggleable\"><input class=\"sk-toggleable__control sk-hidden--visually\" id=\"sk-estimator-id-282\" type=\"checkbox\" ><label for=\"sk-estimator-id-282\" class=\"sk-toggleable__label sk-toggleable__label-arrow\">RobustScaler</label><div class=\"sk-toggleable__content\"><pre>RobustScaler()</pre></div></div></div></div></div></div><div class=\"sk-parallel-item\"><div class=\"sk-item\"><div class=\"sk-label-container\"><div class=\"sk-label sk-toggleable\"><input class=\"sk-toggleable__control sk-hidden--visually\" id=\"sk-estimator-id-283\" type=\"checkbox\" ><label for=\"sk-estimator-id-283\" class=\"sk-toggleable__label sk-toggleable__label-arrow\">onehot</label><div class=\"sk-toggleable__content\"><pre>[&#x27;Gender&#x27;, &#x27;FAVC&#x27;, &#x27;family_history_with_overweight&#x27;, &#x27;SMOKE&#x27;, &#x27;SCC&#x27;, &#x27;MTRANS&#x27;]</pre></div></div></div><div class=\"sk-serial\"><div class=\"sk-item\"><div class=\"sk-estimator sk-toggleable\"><input class=\"sk-toggleable__control sk-hidden--visually\" id=\"sk-estimator-id-284\" type=\"checkbox\" ><label for=\"sk-estimator-id-284\" class=\"sk-toggleable__label sk-toggleable__label-arrow\">OneHotEncoder</label><div class=\"sk-toggleable__content\"><pre>OneHotEncoder()</pre></div></div></div></div></div></div><div class=\"sk-parallel-item\"><div class=\"sk-item\"><div class=\"sk-label-container\"><div class=\"sk-label sk-toggleable\"><input class=\"sk-toggleable__control sk-hidden--visually\" id=\"sk-estimator-id-285\" type=\"checkbox\" ><label for=\"sk-estimator-id-285\" class=\"sk-toggleable__label sk-toggleable__label-arrow\">ordinal</label><div class=\"sk-toggleable__content\"><pre>[&#x27;FCVC&#x27;, &#x27;NCP&#x27;, &#x27;CAEC&#x27;, &#x27;CH2O&#x27;, &#x27;FAF&#x27;, &#x27;TUE&#x27;, &#x27;CALC&#x27;]</pre></div></div></div><div class=\"sk-serial\"><div class=\"sk-item\"><div class=\"sk-estimator sk-toggleable\"><input class=\"sk-toggleable__control sk-hidden--visually\" id=\"sk-estimator-id-286\" type=\"checkbox\" ><label for=\"sk-estimator-id-286\" class=\"sk-toggleable__label sk-toggleable__label-arrow\">OrdinalEncoder</label><div class=\"sk-toggleable__content\"><pre>OrdinalEncoder(categories=[[&#x27;1&#x27;, &#x27;2&#x27;, &#x27;3&#x27;], [&#x27;1&#x27;, &#x27;2&#x27;, &#x27;3&#x27;],\n",
       "                           [&#x27;no&#x27;, &#x27;Sometimes&#x27;, &#x27;Frequently&#x27;, &#x27;Always&#x27;],\n",
       "                           [&#x27;1&#x27;, &#x27;2&#x27;, &#x27;3&#x27;], [&#x27;1&#x27;, &#x27;2&#x27;, &#x27;3&#x27;], [&#x27;2&#x27;, &#x27;3&#x27;],\n",
       "                           [&#x27;no&#x27;, &#x27;Sometimes&#x27;, &#x27;Frequently&#x27;, &#x27;Always&#x27;]])</pre></div></div></div></div></div></div><div class=\"sk-parallel-item\"><div class=\"sk-item\"><div class=\"sk-label-container\"><div class=\"sk-label sk-toggleable\"><input class=\"sk-toggleable__control sk-hidden--visually\" id=\"sk-estimator-id-287\" type=\"checkbox\" ><label for=\"sk-estimator-id-287\" class=\"sk-toggleable__label sk-toggleable__label-arrow\">remainder</label><div class=\"sk-toggleable__content\"><pre>[]</pre></div></div></div><div class=\"sk-serial\"><div class=\"sk-item\"><div class=\"sk-estimator sk-toggleable\"><input class=\"sk-toggleable__control sk-hidden--visually\" id=\"sk-estimator-id-288\" type=\"checkbox\" ><label for=\"sk-estimator-id-288\" class=\"sk-toggleable__label sk-toggleable__label-arrow\">passthrough</label><div class=\"sk-toggleable__content\"><pre>passthrough</pre></div></div></div></div></div></div></div></div><div class=\"sk-item\"><div class=\"sk-estimator sk-toggleable\"><input class=\"sk-toggleable__control sk-hidden--visually\" id=\"sk-estimator-id-289\" type=\"checkbox\" ><label for=\"sk-estimator-id-289\" class=\"sk-toggleable__label sk-toggleable__label-arrow\">KNeighborsClassifier</label><div class=\"sk-toggleable__content\"><pre>KNeighborsClassifier(n_jobs=-1)</pre></div></div></div></div></div></div></div>"
      ],
      "text/plain": [
       "Pipeline(steps=[('columntransformer',\n",
       "                 ColumnTransformer(remainder='passthrough',\n",
       "                                   transformers=[('robust_scaler',\n",
       "                                                  RobustScaler(),\n",
       "                                                  ['Age', 'Height', 'Weight']),\n",
       "                                                 ('onehot', OneHotEncoder(),\n",
       "                                                  ['Gender', 'FAVC',\n",
       "                                                   'family_history_with_overweight',\n",
       "                                                   'SMOKE', 'SCC', 'MTRANS']),\n",
       "                                                 ('ordinal',\n",
       "                                                  OrdinalEncoder(categories=[['1',\n",
       "                                                                              '2',\n",
       "                                                                              '3'],\n",
       "                                                                             ['1',\n",
       "                                                                              '2',\n",
       "                                                                              '3'],\n",
       "                                                                             ['no',\n",
       "                                                                              'Sometimes',\n",
       "                                                                              'Frequently',\n",
       "                                                                              'Always'],\n",
       "                                                                             ['1',\n",
       "                                                                              '2',\n",
       "                                                                              '3'],\n",
       "                                                                             ['1',\n",
       "                                                                              '2',\n",
       "                                                                              '3'],\n",
       "                                                                             ['2',\n",
       "                                                                              '3'],\n",
       "                                                                             ['no',\n",
       "                                                                              'Sometimes',\n",
       "                                                                              'Frequently',\n",
       "                                                                              'Always']]),\n",
       "                                                  ['FCVC', 'NCP', 'CAEC',\n",
       "                                                   'CH2O', 'FAF', 'TUE',\n",
       "                                                   'CALC'])])),\n",
       "                ('kneighborsclassifier', KNeighborsClassifier(n_jobs=-1))])"
      ]
     },
     "execution_count": 630,
     "metadata": {},
     "output_type": "execute_result"
    }
   ],
   "source": [
    "knn_pipeline.fit(X_train, y_train)"
   ]
  },
  {
   "cell_type": "code",
   "execution_count": 631,
   "metadata": {},
   "outputs": [
    {
     "data": {
      "text/html": [
       "<style>#sk-container-id-27 {color: black;}#sk-container-id-27 pre{padding: 0;}#sk-container-id-27 div.sk-toggleable {background-color: white;}#sk-container-id-27 label.sk-toggleable__label {cursor: pointer;display: block;width: 100%;margin-bottom: 0;padding: 0.3em;box-sizing: border-box;text-align: center;}#sk-container-id-27 label.sk-toggleable__label-arrow:before {content: \"▸\";float: left;margin-right: 0.25em;color: #696969;}#sk-container-id-27 label.sk-toggleable__label-arrow:hover:before {color: black;}#sk-container-id-27 div.sk-estimator:hover label.sk-toggleable__label-arrow:before {color: black;}#sk-container-id-27 div.sk-toggleable__content {max-height: 0;max-width: 0;overflow: hidden;text-align: left;background-color: #f0f8ff;}#sk-container-id-27 div.sk-toggleable__content pre {margin: 0.2em;color: black;border-radius: 0.25em;background-color: #f0f8ff;}#sk-container-id-27 input.sk-toggleable__control:checked~div.sk-toggleable__content {max-height: 200px;max-width: 100%;overflow: auto;}#sk-container-id-27 input.sk-toggleable__control:checked~label.sk-toggleable__label-arrow:before {content: \"▾\";}#sk-container-id-27 div.sk-estimator input.sk-toggleable__control:checked~label.sk-toggleable__label {background-color: #d4ebff;}#sk-container-id-27 div.sk-label input.sk-toggleable__control:checked~label.sk-toggleable__label {background-color: #d4ebff;}#sk-container-id-27 input.sk-hidden--visually {border: 0;clip: rect(1px 1px 1px 1px);clip: rect(1px, 1px, 1px, 1px);height: 1px;margin: -1px;overflow: hidden;padding: 0;position: absolute;width: 1px;}#sk-container-id-27 div.sk-estimator {font-family: monospace;background-color: #f0f8ff;border: 1px dotted black;border-radius: 0.25em;box-sizing: border-box;margin-bottom: 0.5em;}#sk-container-id-27 div.sk-estimator:hover {background-color: #d4ebff;}#sk-container-id-27 div.sk-parallel-item::after {content: \"\";width: 100%;border-bottom: 1px solid gray;flex-grow: 1;}#sk-container-id-27 div.sk-label:hover label.sk-toggleable__label {background-color: #d4ebff;}#sk-container-id-27 div.sk-serial::before {content: \"\";position: absolute;border-left: 1px solid gray;box-sizing: border-box;top: 0;bottom: 0;left: 50%;z-index: 0;}#sk-container-id-27 div.sk-serial {display: flex;flex-direction: column;align-items: center;background-color: white;padding-right: 0.2em;padding-left: 0.2em;position: relative;}#sk-container-id-27 div.sk-item {position: relative;z-index: 1;}#sk-container-id-27 div.sk-parallel {display: flex;align-items: stretch;justify-content: center;background-color: white;position: relative;}#sk-container-id-27 div.sk-item::before, #sk-container-id-27 div.sk-parallel-item::before {content: \"\";position: absolute;border-left: 1px solid gray;box-sizing: border-box;top: 0;bottom: 0;left: 50%;z-index: -1;}#sk-container-id-27 div.sk-parallel-item {display: flex;flex-direction: column;z-index: 1;position: relative;background-color: white;}#sk-container-id-27 div.sk-parallel-item:first-child::after {align-self: flex-end;width: 50%;}#sk-container-id-27 div.sk-parallel-item:last-child::after {align-self: flex-start;width: 50%;}#sk-container-id-27 div.sk-parallel-item:only-child::after {width: 0;}#sk-container-id-27 div.sk-dashed-wrapped {border: 1px dashed gray;margin: 0 0.4em 0.5em 0.4em;box-sizing: border-box;padding-bottom: 0.4em;background-color: white;}#sk-container-id-27 div.sk-label label {font-family: monospace;font-weight: bold;display: inline-block;line-height: 1.2em;}#sk-container-id-27 div.sk-label-container {text-align: center;}#sk-container-id-27 div.sk-container {/* jupyter's `normalize.less` sets `[hidden] { display: none; }` but bootstrap.min.css set `[hidden] { display: none !important; }` so we also need the `!important` here to be able to override the default hidden behavior on the sphinx rendered scikit-learn.org. See: https://github.com/scikit-learn/scikit-learn/issues/21755 */display: inline-block !important;position: relative;}#sk-container-id-27 div.sk-text-repr-fallback {display: none;}</style><div id=\"sk-container-id-27\" class=\"sk-top-container\"><div class=\"sk-text-repr-fallback\"><pre>Pipeline(steps=[(&#x27;columntransformer&#x27;,\n",
       "                 ColumnTransformer(remainder=&#x27;passthrough&#x27;,\n",
       "                                   transformers=[(&#x27;robust_scaler&#x27;,\n",
       "                                                  RobustScaler(),\n",
       "                                                  [&#x27;Age&#x27;, &#x27;Height&#x27;, &#x27;Weight&#x27;]),\n",
       "                                                 (&#x27;onehot&#x27;, OneHotEncoder(),\n",
       "                                                  [&#x27;Gender&#x27;, &#x27;FAVC&#x27;,\n",
       "                                                   &#x27;family_history_with_overweight&#x27;,\n",
       "                                                   &#x27;SMOKE&#x27;, &#x27;SCC&#x27;, &#x27;MTRANS&#x27;]),\n",
       "                                                 (&#x27;ordinal&#x27;,\n",
       "                                                  OrdinalEncoder(categories=[[&#x27;1&#x27;,\n",
       "                                                                              &#x27;2&#x27;,\n",
       "                                                                              &#x27;3&#x27;],\n",
       "                                                                             [&#x27;1&#x27;,\n",
       "                                                                              &#x27;2&#x27;,\n",
       "                                                                              &#x27;3&#x27;],\n",
       "                                                                             [&#x27;no&#x27;,\n",
       "                                                                              &#x27;Sometimes&#x27;,\n",
       "                                                                              &#x27;Frequently&#x27;,\n",
       "                                                                              &#x27;Always&#x27;],\n",
       "                                                                             [&#x27;1&#x27;,\n",
       "                                                                              &#x27;2&#x27;,\n",
       "                                                                              &#x27;3&#x27;],\n",
       "                                                                             [&#x27;1&#x27;,\n",
       "                                                                              &#x27;2&#x27;,\n",
       "                                                                              &#x27;3&#x27;],\n",
       "                                                                             [&#x27;2&#x27;,\n",
       "                                                                              &#x27;3&#x27;],\n",
       "                                                                             [&#x27;no&#x27;,\n",
       "                                                                              &#x27;Sometimes&#x27;,\n",
       "                                                                              &#x27;Frequently&#x27;,\n",
       "                                                                              &#x27;Always&#x27;]]),\n",
       "                                                  [&#x27;FCVC&#x27;, &#x27;NCP&#x27;, &#x27;CAEC&#x27;,\n",
       "                                                   &#x27;CH2O&#x27;, &#x27;FAF&#x27;, &#x27;TUE&#x27;,\n",
       "                                                   &#x27;CALC&#x27;])])),\n",
       "                (&#x27;svc&#x27;, SVC())])</pre><b>In a Jupyter environment, please rerun this cell to show the HTML representation or trust the notebook. <br />On GitHub, the HTML representation is unable to render, please try loading this page with nbviewer.org.</b></div><div class=\"sk-container\" hidden><div class=\"sk-item sk-dashed-wrapped\"><div class=\"sk-label-container\"><div class=\"sk-label sk-toggleable\"><input class=\"sk-toggleable__control sk-hidden--visually\" id=\"sk-estimator-id-290\" type=\"checkbox\" ><label for=\"sk-estimator-id-290\" class=\"sk-toggleable__label sk-toggleable__label-arrow\">Pipeline</label><div class=\"sk-toggleable__content\"><pre>Pipeline(steps=[(&#x27;columntransformer&#x27;,\n",
       "                 ColumnTransformer(remainder=&#x27;passthrough&#x27;,\n",
       "                                   transformers=[(&#x27;robust_scaler&#x27;,\n",
       "                                                  RobustScaler(),\n",
       "                                                  [&#x27;Age&#x27;, &#x27;Height&#x27;, &#x27;Weight&#x27;]),\n",
       "                                                 (&#x27;onehot&#x27;, OneHotEncoder(),\n",
       "                                                  [&#x27;Gender&#x27;, &#x27;FAVC&#x27;,\n",
       "                                                   &#x27;family_history_with_overweight&#x27;,\n",
       "                                                   &#x27;SMOKE&#x27;, &#x27;SCC&#x27;, &#x27;MTRANS&#x27;]),\n",
       "                                                 (&#x27;ordinal&#x27;,\n",
       "                                                  OrdinalEncoder(categories=[[&#x27;1&#x27;,\n",
       "                                                                              &#x27;2&#x27;,\n",
       "                                                                              &#x27;3&#x27;],\n",
       "                                                                             [&#x27;1&#x27;,\n",
       "                                                                              &#x27;2&#x27;,\n",
       "                                                                              &#x27;3&#x27;],\n",
       "                                                                             [&#x27;no&#x27;,\n",
       "                                                                              &#x27;Sometimes&#x27;,\n",
       "                                                                              &#x27;Frequently&#x27;,\n",
       "                                                                              &#x27;Always&#x27;],\n",
       "                                                                             [&#x27;1&#x27;,\n",
       "                                                                              &#x27;2&#x27;,\n",
       "                                                                              &#x27;3&#x27;],\n",
       "                                                                             [&#x27;1&#x27;,\n",
       "                                                                              &#x27;2&#x27;,\n",
       "                                                                              &#x27;3&#x27;],\n",
       "                                                                             [&#x27;2&#x27;,\n",
       "                                                                              &#x27;3&#x27;],\n",
       "                                                                             [&#x27;no&#x27;,\n",
       "                                                                              &#x27;Sometimes&#x27;,\n",
       "                                                                              &#x27;Frequently&#x27;,\n",
       "                                                                              &#x27;Always&#x27;]]),\n",
       "                                                  [&#x27;FCVC&#x27;, &#x27;NCP&#x27;, &#x27;CAEC&#x27;,\n",
       "                                                   &#x27;CH2O&#x27;, &#x27;FAF&#x27;, &#x27;TUE&#x27;,\n",
       "                                                   &#x27;CALC&#x27;])])),\n",
       "                (&#x27;svc&#x27;, SVC())])</pre></div></div></div><div class=\"sk-serial\"><div class=\"sk-item sk-dashed-wrapped\"><div class=\"sk-label-container\"><div class=\"sk-label sk-toggleable\"><input class=\"sk-toggleable__control sk-hidden--visually\" id=\"sk-estimator-id-291\" type=\"checkbox\" ><label for=\"sk-estimator-id-291\" class=\"sk-toggleable__label sk-toggleable__label-arrow\">columntransformer: ColumnTransformer</label><div class=\"sk-toggleable__content\"><pre>ColumnTransformer(remainder=&#x27;passthrough&#x27;,\n",
       "                  transformers=[(&#x27;robust_scaler&#x27;, RobustScaler(),\n",
       "                                 [&#x27;Age&#x27;, &#x27;Height&#x27;, &#x27;Weight&#x27;]),\n",
       "                                (&#x27;onehot&#x27;, OneHotEncoder(),\n",
       "                                 [&#x27;Gender&#x27;, &#x27;FAVC&#x27;,\n",
       "                                  &#x27;family_history_with_overweight&#x27;, &#x27;SMOKE&#x27;,\n",
       "                                  &#x27;SCC&#x27;, &#x27;MTRANS&#x27;]),\n",
       "                                (&#x27;ordinal&#x27;,\n",
       "                                 OrdinalEncoder(categories=[[&#x27;1&#x27;, &#x27;2&#x27;, &#x27;3&#x27;],\n",
       "                                                            [&#x27;1&#x27;, &#x27;2&#x27;, &#x27;3&#x27;],\n",
       "                                                            [&#x27;no&#x27;, &#x27;Sometimes&#x27;,\n",
       "                                                             &#x27;Frequently&#x27;,\n",
       "                                                             &#x27;Always&#x27;],\n",
       "                                                            [&#x27;1&#x27;, &#x27;2&#x27;, &#x27;3&#x27;],\n",
       "                                                            [&#x27;1&#x27;, &#x27;2&#x27;, &#x27;3&#x27;],\n",
       "                                                            [&#x27;2&#x27;, &#x27;3&#x27;],\n",
       "                                                            [&#x27;no&#x27;, &#x27;Sometimes&#x27;,\n",
       "                                                             &#x27;Frequently&#x27;,\n",
       "                                                             &#x27;Always&#x27;]]),\n",
       "                                 [&#x27;FCVC&#x27;, &#x27;NCP&#x27;, &#x27;CAEC&#x27;, &#x27;CH2O&#x27;, &#x27;FAF&#x27;, &#x27;TUE&#x27;,\n",
       "                                  &#x27;CALC&#x27;])])</pre></div></div></div><div class=\"sk-parallel\"><div class=\"sk-parallel-item\"><div class=\"sk-item\"><div class=\"sk-label-container\"><div class=\"sk-label sk-toggleable\"><input class=\"sk-toggleable__control sk-hidden--visually\" id=\"sk-estimator-id-292\" type=\"checkbox\" ><label for=\"sk-estimator-id-292\" class=\"sk-toggleable__label sk-toggleable__label-arrow\">robust_scaler</label><div class=\"sk-toggleable__content\"><pre>[&#x27;Age&#x27;, &#x27;Height&#x27;, &#x27;Weight&#x27;]</pre></div></div></div><div class=\"sk-serial\"><div class=\"sk-item\"><div class=\"sk-estimator sk-toggleable\"><input class=\"sk-toggleable__control sk-hidden--visually\" id=\"sk-estimator-id-293\" type=\"checkbox\" ><label for=\"sk-estimator-id-293\" class=\"sk-toggleable__label sk-toggleable__label-arrow\">RobustScaler</label><div class=\"sk-toggleable__content\"><pre>RobustScaler()</pre></div></div></div></div></div></div><div class=\"sk-parallel-item\"><div class=\"sk-item\"><div class=\"sk-label-container\"><div class=\"sk-label sk-toggleable\"><input class=\"sk-toggleable__control sk-hidden--visually\" id=\"sk-estimator-id-294\" type=\"checkbox\" ><label for=\"sk-estimator-id-294\" class=\"sk-toggleable__label sk-toggleable__label-arrow\">onehot</label><div class=\"sk-toggleable__content\"><pre>[&#x27;Gender&#x27;, &#x27;FAVC&#x27;, &#x27;family_history_with_overweight&#x27;, &#x27;SMOKE&#x27;, &#x27;SCC&#x27;, &#x27;MTRANS&#x27;]</pre></div></div></div><div class=\"sk-serial\"><div class=\"sk-item\"><div class=\"sk-estimator sk-toggleable\"><input class=\"sk-toggleable__control sk-hidden--visually\" id=\"sk-estimator-id-295\" type=\"checkbox\" ><label for=\"sk-estimator-id-295\" class=\"sk-toggleable__label sk-toggleable__label-arrow\">OneHotEncoder</label><div class=\"sk-toggleable__content\"><pre>OneHotEncoder()</pre></div></div></div></div></div></div><div class=\"sk-parallel-item\"><div class=\"sk-item\"><div class=\"sk-label-container\"><div class=\"sk-label sk-toggleable\"><input class=\"sk-toggleable__control sk-hidden--visually\" id=\"sk-estimator-id-296\" type=\"checkbox\" ><label for=\"sk-estimator-id-296\" class=\"sk-toggleable__label sk-toggleable__label-arrow\">ordinal</label><div class=\"sk-toggleable__content\"><pre>[&#x27;FCVC&#x27;, &#x27;NCP&#x27;, &#x27;CAEC&#x27;, &#x27;CH2O&#x27;, &#x27;FAF&#x27;, &#x27;TUE&#x27;, &#x27;CALC&#x27;]</pre></div></div></div><div class=\"sk-serial\"><div class=\"sk-item\"><div class=\"sk-estimator sk-toggleable\"><input class=\"sk-toggleable__control sk-hidden--visually\" id=\"sk-estimator-id-297\" type=\"checkbox\" ><label for=\"sk-estimator-id-297\" class=\"sk-toggleable__label sk-toggleable__label-arrow\">OrdinalEncoder</label><div class=\"sk-toggleable__content\"><pre>OrdinalEncoder(categories=[[&#x27;1&#x27;, &#x27;2&#x27;, &#x27;3&#x27;], [&#x27;1&#x27;, &#x27;2&#x27;, &#x27;3&#x27;],\n",
       "                           [&#x27;no&#x27;, &#x27;Sometimes&#x27;, &#x27;Frequently&#x27;, &#x27;Always&#x27;],\n",
       "                           [&#x27;1&#x27;, &#x27;2&#x27;, &#x27;3&#x27;], [&#x27;1&#x27;, &#x27;2&#x27;, &#x27;3&#x27;], [&#x27;2&#x27;, &#x27;3&#x27;],\n",
       "                           [&#x27;no&#x27;, &#x27;Sometimes&#x27;, &#x27;Frequently&#x27;, &#x27;Always&#x27;]])</pre></div></div></div></div></div></div><div class=\"sk-parallel-item\"><div class=\"sk-item\"><div class=\"sk-label-container\"><div class=\"sk-label sk-toggleable\"><input class=\"sk-toggleable__control sk-hidden--visually\" id=\"sk-estimator-id-298\" type=\"checkbox\" ><label for=\"sk-estimator-id-298\" class=\"sk-toggleable__label sk-toggleable__label-arrow\">remainder</label><div class=\"sk-toggleable__content\"><pre>[]</pre></div></div></div><div class=\"sk-serial\"><div class=\"sk-item\"><div class=\"sk-estimator sk-toggleable\"><input class=\"sk-toggleable__control sk-hidden--visually\" id=\"sk-estimator-id-299\" type=\"checkbox\" ><label for=\"sk-estimator-id-299\" class=\"sk-toggleable__label sk-toggleable__label-arrow\">passthrough</label><div class=\"sk-toggleable__content\"><pre>passthrough</pre></div></div></div></div></div></div></div></div><div class=\"sk-item\"><div class=\"sk-estimator sk-toggleable\"><input class=\"sk-toggleable__control sk-hidden--visually\" id=\"sk-estimator-id-300\" type=\"checkbox\" ><label for=\"sk-estimator-id-300\" class=\"sk-toggleable__label sk-toggleable__label-arrow\">SVC</label><div class=\"sk-toggleable__content\"><pre>SVC()</pre></div></div></div></div></div></div></div>"
      ],
      "text/plain": [
       "Pipeline(steps=[('columntransformer',\n",
       "                 ColumnTransformer(remainder='passthrough',\n",
       "                                   transformers=[('robust_scaler',\n",
       "                                                  RobustScaler(),\n",
       "                                                  ['Age', 'Height', 'Weight']),\n",
       "                                                 ('onehot', OneHotEncoder(),\n",
       "                                                  ['Gender', 'FAVC',\n",
       "                                                   'family_history_with_overweight',\n",
       "                                                   'SMOKE', 'SCC', 'MTRANS']),\n",
       "                                                 ('ordinal',\n",
       "                                                  OrdinalEncoder(categories=[['1',\n",
       "                                                                              '2',\n",
       "                                                                              '3'],\n",
       "                                                                             ['1',\n",
       "                                                                              '2',\n",
       "                                                                              '3'],\n",
       "                                                                             ['no',\n",
       "                                                                              'Sometimes',\n",
       "                                                                              'Frequently',\n",
       "                                                                              'Always'],\n",
       "                                                                             ['1',\n",
       "                                                                              '2',\n",
       "                                                                              '3'],\n",
       "                                                                             ['1',\n",
       "                                                                              '2',\n",
       "                                                                              '3'],\n",
       "                                                                             ['2',\n",
       "                                                                              '3'],\n",
       "                                                                             ['no',\n",
       "                                                                              'Sometimes',\n",
       "                                                                              'Frequently',\n",
       "                                                                              'Always']]),\n",
       "                                                  ['FCVC', 'NCP', 'CAEC',\n",
       "                                                   'CH2O', 'FAF', 'TUE',\n",
       "                                                   'CALC'])])),\n",
       "                ('svc', SVC())])"
      ]
     },
     "execution_count": 631,
     "metadata": {},
     "output_type": "execute_result"
    }
   ],
   "source": [
    "svm_pipeline.fit(X_train, y_train)"
   ]
  },
  {
   "cell_type": "code",
   "execution_count": 632,
   "metadata": {},
   "outputs": [
    {
     "data": {
      "text/html": [
       "<style>#sk-container-id-28 {color: black;}#sk-container-id-28 pre{padding: 0;}#sk-container-id-28 div.sk-toggleable {background-color: white;}#sk-container-id-28 label.sk-toggleable__label {cursor: pointer;display: block;width: 100%;margin-bottom: 0;padding: 0.3em;box-sizing: border-box;text-align: center;}#sk-container-id-28 label.sk-toggleable__label-arrow:before {content: \"▸\";float: left;margin-right: 0.25em;color: #696969;}#sk-container-id-28 label.sk-toggleable__label-arrow:hover:before {color: black;}#sk-container-id-28 div.sk-estimator:hover label.sk-toggleable__label-arrow:before {color: black;}#sk-container-id-28 div.sk-toggleable__content {max-height: 0;max-width: 0;overflow: hidden;text-align: left;background-color: #f0f8ff;}#sk-container-id-28 div.sk-toggleable__content pre {margin: 0.2em;color: black;border-radius: 0.25em;background-color: #f0f8ff;}#sk-container-id-28 input.sk-toggleable__control:checked~div.sk-toggleable__content {max-height: 200px;max-width: 100%;overflow: auto;}#sk-container-id-28 input.sk-toggleable__control:checked~label.sk-toggleable__label-arrow:before {content: \"▾\";}#sk-container-id-28 div.sk-estimator input.sk-toggleable__control:checked~label.sk-toggleable__label {background-color: #d4ebff;}#sk-container-id-28 div.sk-label input.sk-toggleable__control:checked~label.sk-toggleable__label {background-color: #d4ebff;}#sk-container-id-28 input.sk-hidden--visually {border: 0;clip: rect(1px 1px 1px 1px);clip: rect(1px, 1px, 1px, 1px);height: 1px;margin: -1px;overflow: hidden;padding: 0;position: absolute;width: 1px;}#sk-container-id-28 div.sk-estimator {font-family: monospace;background-color: #f0f8ff;border: 1px dotted black;border-radius: 0.25em;box-sizing: border-box;margin-bottom: 0.5em;}#sk-container-id-28 div.sk-estimator:hover {background-color: #d4ebff;}#sk-container-id-28 div.sk-parallel-item::after {content: \"\";width: 100%;border-bottom: 1px solid gray;flex-grow: 1;}#sk-container-id-28 div.sk-label:hover label.sk-toggleable__label {background-color: #d4ebff;}#sk-container-id-28 div.sk-serial::before {content: \"\";position: absolute;border-left: 1px solid gray;box-sizing: border-box;top: 0;bottom: 0;left: 50%;z-index: 0;}#sk-container-id-28 div.sk-serial {display: flex;flex-direction: column;align-items: center;background-color: white;padding-right: 0.2em;padding-left: 0.2em;position: relative;}#sk-container-id-28 div.sk-item {position: relative;z-index: 1;}#sk-container-id-28 div.sk-parallel {display: flex;align-items: stretch;justify-content: center;background-color: white;position: relative;}#sk-container-id-28 div.sk-item::before, #sk-container-id-28 div.sk-parallel-item::before {content: \"\";position: absolute;border-left: 1px solid gray;box-sizing: border-box;top: 0;bottom: 0;left: 50%;z-index: -1;}#sk-container-id-28 div.sk-parallel-item {display: flex;flex-direction: column;z-index: 1;position: relative;background-color: white;}#sk-container-id-28 div.sk-parallel-item:first-child::after {align-self: flex-end;width: 50%;}#sk-container-id-28 div.sk-parallel-item:last-child::after {align-self: flex-start;width: 50%;}#sk-container-id-28 div.sk-parallel-item:only-child::after {width: 0;}#sk-container-id-28 div.sk-dashed-wrapped {border: 1px dashed gray;margin: 0 0.4em 0.5em 0.4em;box-sizing: border-box;padding-bottom: 0.4em;background-color: white;}#sk-container-id-28 div.sk-label label {font-family: monospace;font-weight: bold;display: inline-block;line-height: 1.2em;}#sk-container-id-28 div.sk-label-container {text-align: center;}#sk-container-id-28 div.sk-container {/* jupyter's `normalize.less` sets `[hidden] { display: none; }` but bootstrap.min.css set `[hidden] { display: none !important; }` so we also need the `!important` here to be able to override the default hidden behavior on the sphinx rendered scikit-learn.org. See: https://github.com/scikit-learn/scikit-learn/issues/21755 */display: inline-block !important;position: relative;}#sk-container-id-28 div.sk-text-repr-fallback {display: none;}</style><div id=\"sk-container-id-28\" class=\"sk-top-container\"><div class=\"sk-text-repr-fallback\"><pre>Pipeline(steps=[(&#x27;columntransformer&#x27;,\n",
       "                 ColumnTransformer(remainder=&#x27;passthrough&#x27;,\n",
       "                                   transformers=[(&#x27;robust_scaler&#x27;,\n",
       "                                                  RobustScaler(),\n",
       "                                                  [&#x27;Age&#x27;, &#x27;Height&#x27;, &#x27;Weight&#x27;]),\n",
       "                                                 (&#x27;onehot&#x27;, OneHotEncoder(),\n",
       "                                                  [&#x27;Gender&#x27;, &#x27;FAVC&#x27;,\n",
       "                                                   &#x27;family_history_with_overweight&#x27;,\n",
       "                                                   &#x27;SMOKE&#x27;, &#x27;SCC&#x27;, &#x27;MTRANS&#x27;]),\n",
       "                                                 (&#x27;ordinal&#x27;,\n",
       "                                                  OrdinalEncoder(categories=[[&#x27;1&#x27;,\n",
       "                                                                              &#x27;2&#x27;,\n",
       "                                                                              &#x27;3&#x27;],\n",
       "                                                                             [&#x27;1&#x27;,\n",
       "                                                                              &#x27;2&#x27;,\n",
       "                                                                              &#x27;3&#x27;],\n",
       "                                                                             [&#x27;no&#x27;,\n",
       "                                                                              &#x27;Sometimes&#x27;,\n",
       "                                                                              &#x27;Frequently&#x27;,\n",
       "                                                                              &#x27;Always&#x27;],\n",
       "                                                                             [&#x27;1&#x27;,\n",
       "                                                                              &#x27;2&#x27;,\n",
       "                                                                              &#x27;3&#x27;],\n",
       "                                                                             [&#x27;1&#x27;,\n",
       "                                                                              &#x27;2&#x27;,\n",
       "                                                                              &#x27;3&#x27;],\n",
       "                                                                             [&#x27;2&#x27;,\n",
       "                                                                              &#x27;3&#x27;],\n",
       "                                                                             [&#x27;no&#x27;,\n",
       "                                                                              &#x27;Sometimes&#x27;,\n",
       "                                                                              &#x27;Frequently&#x27;,\n",
       "                                                                              &#x27;Always&#x27;]]),\n",
       "                                                  [&#x27;FCVC&#x27;, &#x27;NCP&#x27;, &#x27;CAEC&#x27;,\n",
       "                                                   &#x27;CH2O&#x27;, &#x27;FAF&#x27;, &#x27;TUE&#x27;,\n",
       "                                                   &#x27;CALC&#x27;])])),\n",
       "                (&#x27;decisiontreeclassifier&#x27;,\n",
       "                 DecisionTreeClassifier(random_state=42))])</pre><b>In a Jupyter environment, please rerun this cell to show the HTML representation or trust the notebook. <br />On GitHub, the HTML representation is unable to render, please try loading this page with nbviewer.org.</b></div><div class=\"sk-container\" hidden><div class=\"sk-item sk-dashed-wrapped\"><div class=\"sk-label-container\"><div class=\"sk-label sk-toggleable\"><input class=\"sk-toggleable__control sk-hidden--visually\" id=\"sk-estimator-id-301\" type=\"checkbox\" ><label for=\"sk-estimator-id-301\" class=\"sk-toggleable__label sk-toggleable__label-arrow\">Pipeline</label><div class=\"sk-toggleable__content\"><pre>Pipeline(steps=[(&#x27;columntransformer&#x27;,\n",
       "                 ColumnTransformer(remainder=&#x27;passthrough&#x27;,\n",
       "                                   transformers=[(&#x27;robust_scaler&#x27;,\n",
       "                                                  RobustScaler(),\n",
       "                                                  [&#x27;Age&#x27;, &#x27;Height&#x27;, &#x27;Weight&#x27;]),\n",
       "                                                 (&#x27;onehot&#x27;, OneHotEncoder(),\n",
       "                                                  [&#x27;Gender&#x27;, &#x27;FAVC&#x27;,\n",
       "                                                   &#x27;family_history_with_overweight&#x27;,\n",
       "                                                   &#x27;SMOKE&#x27;, &#x27;SCC&#x27;, &#x27;MTRANS&#x27;]),\n",
       "                                                 (&#x27;ordinal&#x27;,\n",
       "                                                  OrdinalEncoder(categories=[[&#x27;1&#x27;,\n",
       "                                                                              &#x27;2&#x27;,\n",
       "                                                                              &#x27;3&#x27;],\n",
       "                                                                             [&#x27;1&#x27;,\n",
       "                                                                              &#x27;2&#x27;,\n",
       "                                                                              &#x27;3&#x27;],\n",
       "                                                                             [&#x27;no&#x27;,\n",
       "                                                                              &#x27;Sometimes&#x27;,\n",
       "                                                                              &#x27;Frequently&#x27;,\n",
       "                                                                              &#x27;Always&#x27;],\n",
       "                                                                             [&#x27;1&#x27;,\n",
       "                                                                              &#x27;2&#x27;,\n",
       "                                                                              &#x27;3&#x27;],\n",
       "                                                                             [&#x27;1&#x27;,\n",
       "                                                                              &#x27;2&#x27;,\n",
       "                                                                              &#x27;3&#x27;],\n",
       "                                                                             [&#x27;2&#x27;,\n",
       "                                                                              &#x27;3&#x27;],\n",
       "                                                                             [&#x27;no&#x27;,\n",
       "                                                                              &#x27;Sometimes&#x27;,\n",
       "                                                                              &#x27;Frequently&#x27;,\n",
       "                                                                              &#x27;Always&#x27;]]),\n",
       "                                                  [&#x27;FCVC&#x27;, &#x27;NCP&#x27;, &#x27;CAEC&#x27;,\n",
       "                                                   &#x27;CH2O&#x27;, &#x27;FAF&#x27;, &#x27;TUE&#x27;,\n",
       "                                                   &#x27;CALC&#x27;])])),\n",
       "                (&#x27;decisiontreeclassifier&#x27;,\n",
       "                 DecisionTreeClassifier(random_state=42))])</pre></div></div></div><div class=\"sk-serial\"><div class=\"sk-item sk-dashed-wrapped\"><div class=\"sk-label-container\"><div class=\"sk-label sk-toggleable\"><input class=\"sk-toggleable__control sk-hidden--visually\" id=\"sk-estimator-id-302\" type=\"checkbox\" ><label for=\"sk-estimator-id-302\" class=\"sk-toggleable__label sk-toggleable__label-arrow\">columntransformer: ColumnTransformer</label><div class=\"sk-toggleable__content\"><pre>ColumnTransformer(remainder=&#x27;passthrough&#x27;,\n",
       "                  transformers=[(&#x27;robust_scaler&#x27;, RobustScaler(),\n",
       "                                 [&#x27;Age&#x27;, &#x27;Height&#x27;, &#x27;Weight&#x27;]),\n",
       "                                (&#x27;onehot&#x27;, OneHotEncoder(),\n",
       "                                 [&#x27;Gender&#x27;, &#x27;FAVC&#x27;,\n",
       "                                  &#x27;family_history_with_overweight&#x27;, &#x27;SMOKE&#x27;,\n",
       "                                  &#x27;SCC&#x27;, &#x27;MTRANS&#x27;]),\n",
       "                                (&#x27;ordinal&#x27;,\n",
       "                                 OrdinalEncoder(categories=[[&#x27;1&#x27;, &#x27;2&#x27;, &#x27;3&#x27;],\n",
       "                                                            [&#x27;1&#x27;, &#x27;2&#x27;, &#x27;3&#x27;],\n",
       "                                                            [&#x27;no&#x27;, &#x27;Sometimes&#x27;,\n",
       "                                                             &#x27;Frequently&#x27;,\n",
       "                                                             &#x27;Always&#x27;],\n",
       "                                                            [&#x27;1&#x27;, &#x27;2&#x27;, &#x27;3&#x27;],\n",
       "                                                            [&#x27;1&#x27;, &#x27;2&#x27;, &#x27;3&#x27;],\n",
       "                                                            [&#x27;2&#x27;, &#x27;3&#x27;],\n",
       "                                                            [&#x27;no&#x27;, &#x27;Sometimes&#x27;,\n",
       "                                                             &#x27;Frequently&#x27;,\n",
       "                                                             &#x27;Always&#x27;]]),\n",
       "                                 [&#x27;FCVC&#x27;, &#x27;NCP&#x27;, &#x27;CAEC&#x27;, &#x27;CH2O&#x27;, &#x27;FAF&#x27;, &#x27;TUE&#x27;,\n",
       "                                  &#x27;CALC&#x27;])])</pre></div></div></div><div class=\"sk-parallel\"><div class=\"sk-parallel-item\"><div class=\"sk-item\"><div class=\"sk-label-container\"><div class=\"sk-label sk-toggleable\"><input class=\"sk-toggleable__control sk-hidden--visually\" id=\"sk-estimator-id-303\" type=\"checkbox\" ><label for=\"sk-estimator-id-303\" class=\"sk-toggleable__label sk-toggleable__label-arrow\">robust_scaler</label><div class=\"sk-toggleable__content\"><pre>[&#x27;Age&#x27;, &#x27;Height&#x27;, &#x27;Weight&#x27;]</pre></div></div></div><div class=\"sk-serial\"><div class=\"sk-item\"><div class=\"sk-estimator sk-toggleable\"><input class=\"sk-toggleable__control sk-hidden--visually\" id=\"sk-estimator-id-304\" type=\"checkbox\" ><label for=\"sk-estimator-id-304\" class=\"sk-toggleable__label sk-toggleable__label-arrow\">RobustScaler</label><div class=\"sk-toggleable__content\"><pre>RobustScaler()</pre></div></div></div></div></div></div><div class=\"sk-parallel-item\"><div class=\"sk-item\"><div class=\"sk-label-container\"><div class=\"sk-label sk-toggleable\"><input class=\"sk-toggleable__control sk-hidden--visually\" id=\"sk-estimator-id-305\" type=\"checkbox\" ><label for=\"sk-estimator-id-305\" class=\"sk-toggleable__label sk-toggleable__label-arrow\">onehot</label><div class=\"sk-toggleable__content\"><pre>[&#x27;Gender&#x27;, &#x27;FAVC&#x27;, &#x27;family_history_with_overweight&#x27;, &#x27;SMOKE&#x27;, &#x27;SCC&#x27;, &#x27;MTRANS&#x27;]</pre></div></div></div><div class=\"sk-serial\"><div class=\"sk-item\"><div class=\"sk-estimator sk-toggleable\"><input class=\"sk-toggleable__control sk-hidden--visually\" id=\"sk-estimator-id-306\" type=\"checkbox\" ><label for=\"sk-estimator-id-306\" class=\"sk-toggleable__label sk-toggleable__label-arrow\">OneHotEncoder</label><div class=\"sk-toggleable__content\"><pre>OneHotEncoder()</pre></div></div></div></div></div></div><div class=\"sk-parallel-item\"><div class=\"sk-item\"><div class=\"sk-label-container\"><div class=\"sk-label sk-toggleable\"><input class=\"sk-toggleable__control sk-hidden--visually\" id=\"sk-estimator-id-307\" type=\"checkbox\" ><label for=\"sk-estimator-id-307\" class=\"sk-toggleable__label sk-toggleable__label-arrow\">ordinal</label><div class=\"sk-toggleable__content\"><pre>[&#x27;FCVC&#x27;, &#x27;NCP&#x27;, &#x27;CAEC&#x27;, &#x27;CH2O&#x27;, &#x27;FAF&#x27;, &#x27;TUE&#x27;, &#x27;CALC&#x27;]</pre></div></div></div><div class=\"sk-serial\"><div class=\"sk-item\"><div class=\"sk-estimator sk-toggleable\"><input class=\"sk-toggleable__control sk-hidden--visually\" id=\"sk-estimator-id-308\" type=\"checkbox\" ><label for=\"sk-estimator-id-308\" class=\"sk-toggleable__label sk-toggleable__label-arrow\">OrdinalEncoder</label><div class=\"sk-toggleable__content\"><pre>OrdinalEncoder(categories=[[&#x27;1&#x27;, &#x27;2&#x27;, &#x27;3&#x27;], [&#x27;1&#x27;, &#x27;2&#x27;, &#x27;3&#x27;],\n",
       "                           [&#x27;no&#x27;, &#x27;Sometimes&#x27;, &#x27;Frequently&#x27;, &#x27;Always&#x27;],\n",
       "                           [&#x27;1&#x27;, &#x27;2&#x27;, &#x27;3&#x27;], [&#x27;1&#x27;, &#x27;2&#x27;, &#x27;3&#x27;], [&#x27;2&#x27;, &#x27;3&#x27;],\n",
       "                           [&#x27;no&#x27;, &#x27;Sometimes&#x27;, &#x27;Frequently&#x27;, &#x27;Always&#x27;]])</pre></div></div></div></div></div></div><div class=\"sk-parallel-item\"><div class=\"sk-item\"><div class=\"sk-label-container\"><div class=\"sk-label sk-toggleable\"><input class=\"sk-toggleable__control sk-hidden--visually\" id=\"sk-estimator-id-309\" type=\"checkbox\" ><label for=\"sk-estimator-id-309\" class=\"sk-toggleable__label sk-toggleable__label-arrow\">remainder</label><div class=\"sk-toggleable__content\"><pre>[]</pre></div></div></div><div class=\"sk-serial\"><div class=\"sk-item\"><div class=\"sk-estimator sk-toggleable\"><input class=\"sk-toggleable__control sk-hidden--visually\" id=\"sk-estimator-id-310\" type=\"checkbox\" ><label for=\"sk-estimator-id-310\" class=\"sk-toggleable__label sk-toggleable__label-arrow\">passthrough</label><div class=\"sk-toggleable__content\"><pre>passthrough</pre></div></div></div></div></div></div></div></div><div class=\"sk-item\"><div class=\"sk-estimator sk-toggleable\"><input class=\"sk-toggleable__control sk-hidden--visually\" id=\"sk-estimator-id-311\" type=\"checkbox\" ><label for=\"sk-estimator-id-311\" class=\"sk-toggleable__label sk-toggleable__label-arrow\">DecisionTreeClassifier</label><div class=\"sk-toggleable__content\"><pre>DecisionTreeClassifier(random_state=42)</pre></div></div></div></div></div></div></div>"
      ],
      "text/plain": [
       "Pipeline(steps=[('columntransformer',\n",
       "                 ColumnTransformer(remainder='passthrough',\n",
       "                                   transformers=[('robust_scaler',\n",
       "                                                  RobustScaler(),\n",
       "                                                  ['Age', 'Height', 'Weight']),\n",
       "                                                 ('onehot', OneHotEncoder(),\n",
       "                                                  ['Gender', 'FAVC',\n",
       "                                                   'family_history_with_overweight',\n",
       "                                                   'SMOKE', 'SCC', 'MTRANS']),\n",
       "                                                 ('ordinal',\n",
       "                                                  OrdinalEncoder(categories=[['1',\n",
       "                                                                              '2',\n",
       "                                                                              '3'],\n",
       "                                                                             ['1',\n",
       "                                                                              '2',\n",
       "                                                                              '3'],\n",
       "                                                                             ['no',\n",
       "                                                                              'Sometimes',\n",
       "                                                                              'Frequently',\n",
       "                                                                              'Always'],\n",
       "                                                                             ['1',\n",
       "                                                                              '2',\n",
       "                                                                              '3'],\n",
       "                                                                             ['1',\n",
       "                                                                              '2',\n",
       "                                                                              '3'],\n",
       "                                                                             ['2',\n",
       "                                                                              '3'],\n",
       "                                                                             ['no',\n",
       "                                                                              'Sometimes',\n",
       "                                                                              'Frequently',\n",
       "                                                                              'Always']]),\n",
       "                                                  ['FCVC', 'NCP', 'CAEC',\n",
       "                                                   'CH2O', 'FAF', 'TUE',\n",
       "                                                   'CALC'])])),\n",
       "                ('decisiontreeclassifier',\n",
       "                 DecisionTreeClassifier(random_state=42))])"
      ]
     },
     "execution_count": 632,
     "metadata": {},
     "output_type": "execute_result"
    }
   ],
   "source": [
    "decision_pipeline.fit(X_train, y_train)"
   ]
  },
  {
   "cell_type": "code",
   "execution_count": 656,
   "metadata": {},
   "outputs": [
    {
     "data": {
      "text/plain": [
       "array(['yes', 'no'], dtype=object)"
      ]
     },
     "execution_count": 656,
     "metadata": {},
     "output_type": "execute_result"
    }
   ],
   "source": [
    "X_train.FAVC.unique()"
   ]
  },
  {
   "cell_type": "code",
   "execution_count": 633,
   "metadata": {},
   "outputs": [
    {
     "data": {
      "text/html": [
       "<style>#sk-container-id-29 {color: black;}#sk-container-id-29 pre{padding: 0;}#sk-container-id-29 div.sk-toggleable {background-color: white;}#sk-container-id-29 label.sk-toggleable__label {cursor: pointer;display: block;width: 100%;margin-bottom: 0;padding: 0.3em;box-sizing: border-box;text-align: center;}#sk-container-id-29 label.sk-toggleable__label-arrow:before {content: \"▸\";float: left;margin-right: 0.25em;color: #696969;}#sk-container-id-29 label.sk-toggleable__label-arrow:hover:before {color: black;}#sk-container-id-29 div.sk-estimator:hover label.sk-toggleable__label-arrow:before {color: black;}#sk-container-id-29 div.sk-toggleable__content {max-height: 0;max-width: 0;overflow: hidden;text-align: left;background-color: #f0f8ff;}#sk-container-id-29 div.sk-toggleable__content pre {margin: 0.2em;color: black;border-radius: 0.25em;background-color: #f0f8ff;}#sk-container-id-29 input.sk-toggleable__control:checked~div.sk-toggleable__content {max-height: 200px;max-width: 100%;overflow: auto;}#sk-container-id-29 input.sk-toggleable__control:checked~label.sk-toggleable__label-arrow:before {content: \"▾\";}#sk-container-id-29 div.sk-estimator input.sk-toggleable__control:checked~label.sk-toggleable__label {background-color: #d4ebff;}#sk-container-id-29 div.sk-label input.sk-toggleable__control:checked~label.sk-toggleable__label {background-color: #d4ebff;}#sk-container-id-29 input.sk-hidden--visually {border: 0;clip: rect(1px 1px 1px 1px);clip: rect(1px, 1px, 1px, 1px);height: 1px;margin: -1px;overflow: hidden;padding: 0;position: absolute;width: 1px;}#sk-container-id-29 div.sk-estimator {font-family: monospace;background-color: #f0f8ff;border: 1px dotted black;border-radius: 0.25em;box-sizing: border-box;margin-bottom: 0.5em;}#sk-container-id-29 div.sk-estimator:hover {background-color: #d4ebff;}#sk-container-id-29 div.sk-parallel-item::after {content: \"\";width: 100%;border-bottom: 1px solid gray;flex-grow: 1;}#sk-container-id-29 div.sk-label:hover label.sk-toggleable__label {background-color: #d4ebff;}#sk-container-id-29 div.sk-serial::before {content: \"\";position: absolute;border-left: 1px solid gray;box-sizing: border-box;top: 0;bottom: 0;left: 50%;z-index: 0;}#sk-container-id-29 div.sk-serial {display: flex;flex-direction: column;align-items: center;background-color: white;padding-right: 0.2em;padding-left: 0.2em;position: relative;}#sk-container-id-29 div.sk-item {position: relative;z-index: 1;}#sk-container-id-29 div.sk-parallel {display: flex;align-items: stretch;justify-content: center;background-color: white;position: relative;}#sk-container-id-29 div.sk-item::before, #sk-container-id-29 div.sk-parallel-item::before {content: \"\";position: absolute;border-left: 1px solid gray;box-sizing: border-box;top: 0;bottom: 0;left: 50%;z-index: -1;}#sk-container-id-29 div.sk-parallel-item {display: flex;flex-direction: column;z-index: 1;position: relative;background-color: white;}#sk-container-id-29 div.sk-parallel-item:first-child::after {align-self: flex-end;width: 50%;}#sk-container-id-29 div.sk-parallel-item:last-child::after {align-self: flex-start;width: 50%;}#sk-container-id-29 div.sk-parallel-item:only-child::after {width: 0;}#sk-container-id-29 div.sk-dashed-wrapped {border: 1px dashed gray;margin: 0 0.4em 0.5em 0.4em;box-sizing: border-box;padding-bottom: 0.4em;background-color: white;}#sk-container-id-29 div.sk-label label {font-family: monospace;font-weight: bold;display: inline-block;line-height: 1.2em;}#sk-container-id-29 div.sk-label-container {text-align: center;}#sk-container-id-29 div.sk-container {/* jupyter's `normalize.less` sets `[hidden] { display: none; }` but bootstrap.min.css set `[hidden] { display: none !important; }` so we also need the `!important` here to be able to override the default hidden behavior on the sphinx rendered scikit-learn.org. See: https://github.com/scikit-learn/scikit-learn/issues/21755 */display: inline-block !important;position: relative;}#sk-container-id-29 div.sk-text-repr-fallback {display: none;}</style><div id=\"sk-container-id-29\" class=\"sk-top-container\"><div class=\"sk-text-repr-fallback\"><pre>Pipeline(steps=[(&#x27;columntransformer&#x27;,\n",
       "                 ColumnTransformer(remainder=&#x27;passthrough&#x27;,\n",
       "                                   transformers=[(&#x27;robust_scaler&#x27;,\n",
       "                                                  RobustScaler(),\n",
       "                                                  [&#x27;Age&#x27;, &#x27;Height&#x27;, &#x27;Weight&#x27;]),\n",
       "                                                 (&#x27;onehot&#x27;, OneHotEncoder(),\n",
       "                                                  [&#x27;Gender&#x27;, &#x27;FAVC&#x27;,\n",
       "                                                   &#x27;family_history_with_overweight&#x27;,\n",
       "                                                   &#x27;SMOKE&#x27;, &#x27;SCC&#x27;, &#x27;MTRANS&#x27;]),\n",
       "                                                 (&#x27;ordinal&#x27;,\n",
       "                                                  OrdinalEncoder(categories=[[&#x27;1&#x27;,\n",
       "                                                                              &#x27;2&#x27;,\n",
       "                                                                              &#x27;3&#x27;],\n",
       "                                                                             [&#x27;1&#x27;,\n",
       "                                                                              &#x27;2&#x27;,\n",
       "                                                                              &#x27;3&#x27;],\n",
       "                                                                             [&#x27;no&#x27;,\n",
       "                                                                              &#x27;Sometimes&#x27;,\n",
       "                                                                              &#x27;Frequently&#x27;,\n",
       "                                                                              &#x27;Always&#x27;],\n",
       "                                                                             [&#x27;1&#x27;,\n",
       "                                                                              &#x27;2&#x27;,\n",
       "                                                                              &#x27;3&#x27;],\n",
       "                                                                             [&#x27;1&#x27;,\n",
       "                                                                              &#x27;2&#x27;,\n",
       "                                                                              &#x27;3&#x27;],\n",
       "                                                                             [&#x27;2&#x27;,\n",
       "                                                                              &#x27;3&#x27;],\n",
       "                                                                             [&#x27;no&#x27;,\n",
       "                                                                              &#x27;Sometimes&#x27;,\n",
       "                                                                              &#x27;Frequently&#x27;,\n",
       "                                                                              &#x27;Always&#x27;]]),\n",
       "                                                  [&#x27;FCVC&#x27;, &#x27;NCP&#x27;, &#x27;CAEC&#x27;,\n",
       "                                                   &#x27;CH2O&#x27;, &#x27;FAF&#x27;, &#x27;TUE&#x27;,\n",
       "                                                   &#x27;CALC&#x27;])])),\n",
       "                (&#x27;randomforestclassifier&#x27;,\n",
       "                 RandomForestClassifier(random_state=42))])</pre><b>In a Jupyter environment, please rerun this cell to show the HTML representation or trust the notebook. <br />On GitHub, the HTML representation is unable to render, please try loading this page with nbviewer.org.</b></div><div class=\"sk-container\" hidden><div class=\"sk-item sk-dashed-wrapped\"><div class=\"sk-label-container\"><div class=\"sk-label sk-toggleable\"><input class=\"sk-toggleable__control sk-hidden--visually\" id=\"sk-estimator-id-312\" type=\"checkbox\" ><label for=\"sk-estimator-id-312\" class=\"sk-toggleable__label sk-toggleable__label-arrow\">Pipeline</label><div class=\"sk-toggleable__content\"><pre>Pipeline(steps=[(&#x27;columntransformer&#x27;,\n",
       "                 ColumnTransformer(remainder=&#x27;passthrough&#x27;,\n",
       "                                   transformers=[(&#x27;robust_scaler&#x27;,\n",
       "                                                  RobustScaler(),\n",
       "                                                  [&#x27;Age&#x27;, &#x27;Height&#x27;, &#x27;Weight&#x27;]),\n",
       "                                                 (&#x27;onehot&#x27;, OneHotEncoder(),\n",
       "                                                  [&#x27;Gender&#x27;, &#x27;FAVC&#x27;,\n",
       "                                                   &#x27;family_history_with_overweight&#x27;,\n",
       "                                                   &#x27;SMOKE&#x27;, &#x27;SCC&#x27;, &#x27;MTRANS&#x27;]),\n",
       "                                                 (&#x27;ordinal&#x27;,\n",
       "                                                  OrdinalEncoder(categories=[[&#x27;1&#x27;,\n",
       "                                                                              &#x27;2&#x27;,\n",
       "                                                                              &#x27;3&#x27;],\n",
       "                                                                             [&#x27;1&#x27;,\n",
       "                                                                              &#x27;2&#x27;,\n",
       "                                                                              &#x27;3&#x27;],\n",
       "                                                                             [&#x27;no&#x27;,\n",
       "                                                                              &#x27;Sometimes&#x27;,\n",
       "                                                                              &#x27;Frequently&#x27;,\n",
       "                                                                              &#x27;Always&#x27;],\n",
       "                                                                             [&#x27;1&#x27;,\n",
       "                                                                              &#x27;2&#x27;,\n",
       "                                                                              &#x27;3&#x27;],\n",
       "                                                                             [&#x27;1&#x27;,\n",
       "                                                                              &#x27;2&#x27;,\n",
       "                                                                              &#x27;3&#x27;],\n",
       "                                                                             [&#x27;2&#x27;,\n",
       "                                                                              &#x27;3&#x27;],\n",
       "                                                                             [&#x27;no&#x27;,\n",
       "                                                                              &#x27;Sometimes&#x27;,\n",
       "                                                                              &#x27;Frequently&#x27;,\n",
       "                                                                              &#x27;Always&#x27;]]),\n",
       "                                                  [&#x27;FCVC&#x27;, &#x27;NCP&#x27;, &#x27;CAEC&#x27;,\n",
       "                                                   &#x27;CH2O&#x27;, &#x27;FAF&#x27;, &#x27;TUE&#x27;,\n",
       "                                                   &#x27;CALC&#x27;])])),\n",
       "                (&#x27;randomforestclassifier&#x27;,\n",
       "                 RandomForestClassifier(random_state=42))])</pre></div></div></div><div class=\"sk-serial\"><div class=\"sk-item sk-dashed-wrapped\"><div class=\"sk-label-container\"><div class=\"sk-label sk-toggleable\"><input class=\"sk-toggleable__control sk-hidden--visually\" id=\"sk-estimator-id-313\" type=\"checkbox\" ><label for=\"sk-estimator-id-313\" class=\"sk-toggleable__label sk-toggleable__label-arrow\">columntransformer: ColumnTransformer</label><div class=\"sk-toggleable__content\"><pre>ColumnTransformer(remainder=&#x27;passthrough&#x27;,\n",
       "                  transformers=[(&#x27;robust_scaler&#x27;, RobustScaler(),\n",
       "                                 [&#x27;Age&#x27;, &#x27;Height&#x27;, &#x27;Weight&#x27;]),\n",
       "                                (&#x27;onehot&#x27;, OneHotEncoder(),\n",
       "                                 [&#x27;Gender&#x27;, &#x27;FAVC&#x27;,\n",
       "                                  &#x27;family_history_with_overweight&#x27;, &#x27;SMOKE&#x27;,\n",
       "                                  &#x27;SCC&#x27;, &#x27;MTRANS&#x27;]),\n",
       "                                (&#x27;ordinal&#x27;,\n",
       "                                 OrdinalEncoder(categories=[[&#x27;1&#x27;, &#x27;2&#x27;, &#x27;3&#x27;],\n",
       "                                                            [&#x27;1&#x27;, &#x27;2&#x27;, &#x27;3&#x27;],\n",
       "                                                            [&#x27;no&#x27;, &#x27;Sometimes&#x27;,\n",
       "                                                             &#x27;Frequently&#x27;,\n",
       "                                                             &#x27;Always&#x27;],\n",
       "                                                            [&#x27;1&#x27;, &#x27;2&#x27;, &#x27;3&#x27;],\n",
       "                                                            [&#x27;1&#x27;, &#x27;2&#x27;, &#x27;3&#x27;],\n",
       "                                                            [&#x27;2&#x27;, &#x27;3&#x27;],\n",
       "                                                            [&#x27;no&#x27;, &#x27;Sometimes&#x27;,\n",
       "                                                             &#x27;Frequently&#x27;,\n",
       "                                                             &#x27;Always&#x27;]]),\n",
       "                                 [&#x27;FCVC&#x27;, &#x27;NCP&#x27;, &#x27;CAEC&#x27;, &#x27;CH2O&#x27;, &#x27;FAF&#x27;, &#x27;TUE&#x27;,\n",
       "                                  &#x27;CALC&#x27;])])</pre></div></div></div><div class=\"sk-parallel\"><div class=\"sk-parallel-item\"><div class=\"sk-item\"><div class=\"sk-label-container\"><div class=\"sk-label sk-toggleable\"><input class=\"sk-toggleable__control sk-hidden--visually\" id=\"sk-estimator-id-314\" type=\"checkbox\" ><label for=\"sk-estimator-id-314\" class=\"sk-toggleable__label sk-toggleable__label-arrow\">robust_scaler</label><div class=\"sk-toggleable__content\"><pre>[&#x27;Age&#x27;, &#x27;Height&#x27;, &#x27;Weight&#x27;]</pre></div></div></div><div class=\"sk-serial\"><div class=\"sk-item\"><div class=\"sk-estimator sk-toggleable\"><input class=\"sk-toggleable__control sk-hidden--visually\" id=\"sk-estimator-id-315\" type=\"checkbox\" ><label for=\"sk-estimator-id-315\" class=\"sk-toggleable__label sk-toggleable__label-arrow\">RobustScaler</label><div class=\"sk-toggleable__content\"><pre>RobustScaler()</pre></div></div></div></div></div></div><div class=\"sk-parallel-item\"><div class=\"sk-item\"><div class=\"sk-label-container\"><div class=\"sk-label sk-toggleable\"><input class=\"sk-toggleable__control sk-hidden--visually\" id=\"sk-estimator-id-316\" type=\"checkbox\" ><label for=\"sk-estimator-id-316\" class=\"sk-toggleable__label sk-toggleable__label-arrow\">onehot</label><div class=\"sk-toggleable__content\"><pre>[&#x27;Gender&#x27;, &#x27;FAVC&#x27;, &#x27;family_history_with_overweight&#x27;, &#x27;SMOKE&#x27;, &#x27;SCC&#x27;, &#x27;MTRANS&#x27;]</pre></div></div></div><div class=\"sk-serial\"><div class=\"sk-item\"><div class=\"sk-estimator sk-toggleable\"><input class=\"sk-toggleable__control sk-hidden--visually\" id=\"sk-estimator-id-317\" type=\"checkbox\" ><label for=\"sk-estimator-id-317\" class=\"sk-toggleable__label sk-toggleable__label-arrow\">OneHotEncoder</label><div class=\"sk-toggleable__content\"><pre>OneHotEncoder()</pre></div></div></div></div></div></div><div class=\"sk-parallel-item\"><div class=\"sk-item\"><div class=\"sk-label-container\"><div class=\"sk-label sk-toggleable\"><input class=\"sk-toggleable__control sk-hidden--visually\" id=\"sk-estimator-id-318\" type=\"checkbox\" ><label for=\"sk-estimator-id-318\" class=\"sk-toggleable__label sk-toggleable__label-arrow\">ordinal</label><div class=\"sk-toggleable__content\"><pre>[&#x27;FCVC&#x27;, &#x27;NCP&#x27;, &#x27;CAEC&#x27;, &#x27;CH2O&#x27;, &#x27;FAF&#x27;, &#x27;TUE&#x27;, &#x27;CALC&#x27;]</pre></div></div></div><div class=\"sk-serial\"><div class=\"sk-item\"><div class=\"sk-estimator sk-toggleable\"><input class=\"sk-toggleable__control sk-hidden--visually\" id=\"sk-estimator-id-319\" type=\"checkbox\" ><label for=\"sk-estimator-id-319\" class=\"sk-toggleable__label sk-toggleable__label-arrow\">OrdinalEncoder</label><div class=\"sk-toggleable__content\"><pre>OrdinalEncoder(categories=[[&#x27;1&#x27;, &#x27;2&#x27;, &#x27;3&#x27;], [&#x27;1&#x27;, &#x27;2&#x27;, &#x27;3&#x27;],\n",
       "                           [&#x27;no&#x27;, &#x27;Sometimes&#x27;, &#x27;Frequently&#x27;, &#x27;Always&#x27;],\n",
       "                           [&#x27;1&#x27;, &#x27;2&#x27;, &#x27;3&#x27;], [&#x27;1&#x27;, &#x27;2&#x27;, &#x27;3&#x27;], [&#x27;2&#x27;, &#x27;3&#x27;],\n",
       "                           [&#x27;no&#x27;, &#x27;Sometimes&#x27;, &#x27;Frequently&#x27;, &#x27;Always&#x27;]])</pre></div></div></div></div></div></div><div class=\"sk-parallel-item\"><div class=\"sk-item\"><div class=\"sk-label-container\"><div class=\"sk-label sk-toggleable\"><input class=\"sk-toggleable__control sk-hidden--visually\" id=\"sk-estimator-id-320\" type=\"checkbox\" ><label for=\"sk-estimator-id-320\" class=\"sk-toggleable__label sk-toggleable__label-arrow\">remainder</label><div class=\"sk-toggleable__content\"><pre>[]</pre></div></div></div><div class=\"sk-serial\"><div class=\"sk-item\"><div class=\"sk-estimator sk-toggleable\"><input class=\"sk-toggleable__control sk-hidden--visually\" id=\"sk-estimator-id-321\" type=\"checkbox\" ><label for=\"sk-estimator-id-321\" class=\"sk-toggleable__label sk-toggleable__label-arrow\">passthrough</label><div class=\"sk-toggleable__content\"><pre>passthrough</pre></div></div></div></div></div></div></div></div><div class=\"sk-item\"><div class=\"sk-estimator sk-toggleable\"><input class=\"sk-toggleable__control sk-hidden--visually\" id=\"sk-estimator-id-322\" type=\"checkbox\" ><label for=\"sk-estimator-id-322\" class=\"sk-toggleable__label sk-toggleable__label-arrow\">RandomForestClassifier</label><div class=\"sk-toggleable__content\"><pre>RandomForestClassifier(random_state=42)</pre></div></div></div></div></div></div></div>"
      ],
      "text/plain": [
       "Pipeline(steps=[('columntransformer',\n",
       "                 ColumnTransformer(remainder='passthrough',\n",
       "                                   transformers=[('robust_scaler',\n",
       "                                                  RobustScaler(),\n",
       "                                                  ['Age', 'Height', 'Weight']),\n",
       "                                                 ('onehot', OneHotEncoder(),\n",
       "                                                  ['Gender', 'FAVC',\n",
       "                                                   'family_history_with_overweight',\n",
       "                                                   'SMOKE', 'SCC', 'MTRANS']),\n",
       "                                                 ('ordinal',\n",
       "                                                  OrdinalEncoder(categories=[['1',\n",
       "                                                                              '2',\n",
       "                                                                              '3'],\n",
       "                                                                             ['1',\n",
       "                                                                              '2',\n",
       "                                                                              '3'],\n",
       "                                                                             ['no',\n",
       "                                                                              'Sometimes',\n",
       "                                                                              'Frequently',\n",
       "                                                                              'Always'],\n",
       "                                                                             ['1',\n",
       "                                                                              '2',\n",
       "                                                                              '3'],\n",
       "                                                                             ['1',\n",
       "                                                                              '2',\n",
       "                                                                              '3'],\n",
       "                                                                             ['2',\n",
       "                                                                              '3'],\n",
       "                                                                             ['no',\n",
       "                                                                              'Sometimes',\n",
       "                                                                              'Frequently',\n",
       "                                                                              'Always']]),\n",
       "                                                  ['FCVC', 'NCP', 'CAEC',\n",
       "                                                   'CH2O', 'FAF', 'TUE',\n",
       "                                                   'CALC'])])),\n",
       "                ('randomforestclassifier',\n",
       "                 RandomForestClassifier(random_state=42))])"
      ]
     },
     "execution_count": 633,
     "metadata": {},
     "output_type": "execute_result"
    }
   ],
   "source": [
    "random_forest_pipeline.fit(X_train, y_train)"
   ]
  },
  {
   "cell_type": "code",
   "execution_count": 634,
   "metadata": {},
   "outputs": [
    {
     "data": {
      "text/html": [
       "<style>#sk-container-id-30 {color: black;}#sk-container-id-30 pre{padding: 0;}#sk-container-id-30 div.sk-toggleable {background-color: white;}#sk-container-id-30 label.sk-toggleable__label {cursor: pointer;display: block;width: 100%;margin-bottom: 0;padding: 0.3em;box-sizing: border-box;text-align: center;}#sk-container-id-30 label.sk-toggleable__label-arrow:before {content: \"▸\";float: left;margin-right: 0.25em;color: #696969;}#sk-container-id-30 label.sk-toggleable__label-arrow:hover:before {color: black;}#sk-container-id-30 div.sk-estimator:hover label.sk-toggleable__label-arrow:before {color: black;}#sk-container-id-30 div.sk-toggleable__content {max-height: 0;max-width: 0;overflow: hidden;text-align: left;background-color: #f0f8ff;}#sk-container-id-30 div.sk-toggleable__content pre {margin: 0.2em;color: black;border-radius: 0.25em;background-color: #f0f8ff;}#sk-container-id-30 input.sk-toggleable__control:checked~div.sk-toggleable__content {max-height: 200px;max-width: 100%;overflow: auto;}#sk-container-id-30 input.sk-toggleable__control:checked~label.sk-toggleable__label-arrow:before {content: \"▾\";}#sk-container-id-30 div.sk-estimator input.sk-toggleable__control:checked~label.sk-toggleable__label {background-color: #d4ebff;}#sk-container-id-30 div.sk-label input.sk-toggleable__control:checked~label.sk-toggleable__label {background-color: #d4ebff;}#sk-container-id-30 input.sk-hidden--visually {border: 0;clip: rect(1px 1px 1px 1px);clip: rect(1px, 1px, 1px, 1px);height: 1px;margin: -1px;overflow: hidden;padding: 0;position: absolute;width: 1px;}#sk-container-id-30 div.sk-estimator {font-family: monospace;background-color: #f0f8ff;border: 1px dotted black;border-radius: 0.25em;box-sizing: border-box;margin-bottom: 0.5em;}#sk-container-id-30 div.sk-estimator:hover {background-color: #d4ebff;}#sk-container-id-30 div.sk-parallel-item::after {content: \"\";width: 100%;border-bottom: 1px solid gray;flex-grow: 1;}#sk-container-id-30 div.sk-label:hover label.sk-toggleable__label {background-color: #d4ebff;}#sk-container-id-30 div.sk-serial::before {content: \"\";position: absolute;border-left: 1px solid gray;box-sizing: border-box;top: 0;bottom: 0;left: 50%;z-index: 0;}#sk-container-id-30 div.sk-serial {display: flex;flex-direction: column;align-items: center;background-color: white;padding-right: 0.2em;padding-left: 0.2em;position: relative;}#sk-container-id-30 div.sk-item {position: relative;z-index: 1;}#sk-container-id-30 div.sk-parallel {display: flex;align-items: stretch;justify-content: center;background-color: white;position: relative;}#sk-container-id-30 div.sk-item::before, #sk-container-id-30 div.sk-parallel-item::before {content: \"\";position: absolute;border-left: 1px solid gray;box-sizing: border-box;top: 0;bottom: 0;left: 50%;z-index: -1;}#sk-container-id-30 div.sk-parallel-item {display: flex;flex-direction: column;z-index: 1;position: relative;background-color: white;}#sk-container-id-30 div.sk-parallel-item:first-child::after {align-self: flex-end;width: 50%;}#sk-container-id-30 div.sk-parallel-item:last-child::after {align-self: flex-start;width: 50%;}#sk-container-id-30 div.sk-parallel-item:only-child::after {width: 0;}#sk-container-id-30 div.sk-dashed-wrapped {border: 1px dashed gray;margin: 0 0.4em 0.5em 0.4em;box-sizing: border-box;padding-bottom: 0.4em;background-color: white;}#sk-container-id-30 div.sk-label label {font-family: monospace;font-weight: bold;display: inline-block;line-height: 1.2em;}#sk-container-id-30 div.sk-label-container {text-align: center;}#sk-container-id-30 div.sk-container {/* jupyter's `normalize.less` sets `[hidden] { display: none; }` but bootstrap.min.css set `[hidden] { display: none !important; }` so we also need the `!important` here to be able to override the default hidden behavior on the sphinx rendered scikit-learn.org. See: https://github.com/scikit-learn/scikit-learn/issues/21755 */display: inline-block !important;position: relative;}#sk-container-id-30 div.sk-text-repr-fallback {display: none;}</style><div id=\"sk-container-id-30\" class=\"sk-top-container\"><div class=\"sk-text-repr-fallback\"><pre>Pipeline(steps=[(&#x27;columntransformer&#x27;,\n",
       "                 ColumnTransformer(remainder=&#x27;passthrough&#x27;,\n",
       "                                   transformers=[(&#x27;robust_scaler&#x27;,\n",
       "                                                  RobustScaler(),\n",
       "                                                  [&#x27;Age&#x27;, &#x27;Height&#x27;, &#x27;Weight&#x27;]),\n",
       "                                                 (&#x27;onehot&#x27;, OneHotEncoder(),\n",
       "                                                  [&#x27;Gender&#x27;, &#x27;FAVC&#x27;,\n",
       "                                                   &#x27;family_history_with_overweight&#x27;,\n",
       "                                                   &#x27;SMOKE&#x27;, &#x27;SCC&#x27;, &#x27;MTRANS&#x27;]),\n",
       "                                                 (&#x27;ordinal&#x27;,\n",
       "                                                  OrdinalEncoder(categories=[[&#x27;1&#x27;,\n",
       "                                                                              &#x27;2&#x27;,\n",
       "                                                                              &#x27;3&#x27;],\n",
       "                                                                             [&#x27;1&#x27;,\n",
       "                                                                              &#x27;2&#x27;,\n",
       "                                                                              &#x27;3&#x27;],\n",
       "                                                                             [&#x27;no&#x27;,\n",
       "                                                                              &#x27;Sometimes&#x27;,\n",
       "                                                                              &#x27;Frequently&#x27;,...\n",
       "                               feature_types=None, gamma=None, grow_policy=None,\n",
       "                               importance_type=None,\n",
       "                               interaction_constraints=None, learning_rate=None,\n",
       "                               max_bin=None, max_cat_threshold=None,\n",
       "                               max_cat_to_onehot=None, max_delta_step=None,\n",
       "                               max_depth=None, max_leaves=None,\n",
       "                               min_child_weight=None, missing=nan,\n",
       "                               monotone_constraints=None, multi_strategy=None,\n",
       "                               n_estimators=None, n_jobs=None, num_class=7,\n",
       "                               num_parallel_tree=None, ...))])</pre><b>In a Jupyter environment, please rerun this cell to show the HTML representation or trust the notebook. <br />On GitHub, the HTML representation is unable to render, please try loading this page with nbviewer.org.</b></div><div class=\"sk-container\" hidden><div class=\"sk-item sk-dashed-wrapped\"><div class=\"sk-label-container\"><div class=\"sk-label sk-toggleable\"><input class=\"sk-toggleable__control sk-hidden--visually\" id=\"sk-estimator-id-323\" type=\"checkbox\" ><label for=\"sk-estimator-id-323\" class=\"sk-toggleable__label sk-toggleable__label-arrow\">Pipeline</label><div class=\"sk-toggleable__content\"><pre>Pipeline(steps=[(&#x27;columntransformer&#x27;,\n",
       "                 ColumnTransformer(remainder=&#x27;passthrough&#x27;,\n",
       "                                   transformers=[(&#x27;robust_scaler&#x27;,\n",
       "                                                  RobustScaler(),\n",
       "                                                  [&#x27;Age&#x27;, &#x27;Height&#x27;, &#x27;Weight&#x27;]),\n",
       "                                                 (&#x27;onehot&#x27;, OneHotEncoder(),\n",
       "                                                  [&#x27;Gender&#x27;, &#x27;FAVC&#x27;,\n",
       "                                                   &#x27;family_history_with_overweight&#x27;,\n",
       "                                                   &#x27;SMOKE&#x27;, &#x27;SCC&#x27;, &#x27;MTRANS&#x27;]),\n",
       "                                                 (&#x27;ordinal&#x27;,\n",
       "                                                  OrdinalEncoder(categories=[[&#x27;1&#x27;,\n",
       "                                                                              &#x27;2&#x27;,\n",
       "                                                                              &#x27;3&#x27;],\n",
       "                                                                             [&#x27;1&#x27;,\n",
       "                                                                              &#x27;2&#x27;,\n",
       "                                                                              &#x27;3&#x27;],\n",
       "                                                                             [&#x27;no&#x27;,\n",
       "                                                                              &#x27;Sometimes&#x27;,\n",
       "                                                                              &#x27;Frequently&#x27;,...\n",
       "                               feature_types=None, gamma=None, grow_policy=None,\n",
       "                               importance_type=None,\n",
       "                               interaction_constraints=None, learning_rate=None,\n",
       "                               max_bin=None, max_cat_threshold=None,\n",
       "                               max_cat_to_onehot=None, max_delta_step=None,\n",
       "                               max_depth=None, max_leaves=None,\n",
       "                               min_child_weight=None, missing=nan,\n",
       "                               monotone_constraints=None, multi_strategy=None,\n",
       "                               n_estimators=None, n_jobs=None, num_class=7,\n",
       "                               num_parallel_tree=None, ...))])</pre></div></div></div><div class=\"sk-serial\"><div class=\"sk-item sk-dashed-wrapped\"><div class=\"sk-label-container\"><div class=\"sk-label sk-toggleable\"><input class=\"sk-toggleable__control sk-hidden--visually\" id=\"sk-estimator-id-324\" type=\"checkbox\" ><label for=\"sk-estimator-id-324\" class=\"sk-toggleable__label sk-toggleable__label-arrow\">columntransformer: ColumnTransformer</label><div class=\"sk-toggleable__content\"><pre>ColumnTransformer(remainder=&#x27;passthrough&#x27;,\n",
       "                  transformers=[(&#x27;robust_scaler&#x27;, RobustScaler(),\n",
       "                                 [&#x27;Age&#x27;, &#x27;Height&#x27;, &#x27;Weight&#x27;]),\n",
       "                                (&#x27;onehot&#x27;, OneHotEncoder(),\n",
       "                                 [&#x27;Gender&#x27;, &#x27;FAVC&#x27;,\n",
       "                                  &#x27;family_history_with_overweight&#x27;, &#x27;SMOKE&#x27;,\n",
       "                                  &#x27;SCC&#x27;, &#x27;MTRANS&#x27;]),\n",
       "                                (&#x27;ordinal&#x27;,\n",
       "                                 OrdinalEncoder(categories=[[&#x27;1&#x27;, &#x27;2&#x27;, &#x27;3&#x27;],\n",
       "                                                            [&#x27;1&#x27;, &#x27;2&#x27;, &#x27;3&#x27;],\n",
       "                                                            [&#x27;no&#x27;, &#x27;Sometimes&#x27;,\n",
       "                                                             &#x27;Frequently&#x27;,\n",
       "                                                             &#x27;Always&#x27;],\n",
       "                                                            [&#x27;1&#x27;, &#x27;2&#x27;, &#x27;3&#x27;],\n",
       "                                                            [&#x27;1&#x27;, &#x27;2&#x27;, &#x27;3&#x27;],\n",
       "                                                            [&#x27;2&#x27;, &#x27;3&#x27;],\n",
       "                                                            [&#x27;no&#x27;, &#x27;Sometimes&#x27;,\n",
       "                                                             &#x27;Frequently&#x27;,\n",
       "                                                             &#x27;Always&#x27;]]),\n",
       "                                 [&#x27;FCVC&#x27;, &#x27;NCP&#x27;, &#x27;CAEC&#x27;, &#x27;CH2O&#x27;, &#x27;FAF&#x27;, &#x27;TUE&#x27;,\n",
       "                                  &#x27;CALC&#x27;])])</pre></div></div></div><div class=\"sk-parallel\"><div class=\"sk-parallel-item\"><div class=\"sk-item\"><div class=\"sk-label-container\"><div class=\"sk-label sk-toggleable\"><input class=\"sk-toggleable__control sk-hidden--visually\" id=\"sk-estimator-id-325\" type=\"checkbox\" ><label for=\"sk-estimator-id-325\" class=\"sk-toggleable__label sk-toggleable__label-arrow\">robust_scaler</label><div class=\"sk-toggleable__content\"><pre>[&#x27;Age&#x27;, &#x27;Height&#x27;, &#x27;Weight&#x27;]</pre></div></div></div><div class=\"sk-serial\"><div class=\"sk-item\"><div class=\"sk-estimator sk-toggleable\"><input class=\"sk-toggleable__control sk-hidden--visually\" id=\"sk-estimator-id-326\" type=\"checkbox\" ><label for=\"sk-estimator-id-326\" class=\"sk-toggleable__label sk-toggleable__label-arrow\">RobustScaler</label><div class=\"sk-toggleable__content\"><pre>RobustScaler()</pre></div></div></div></div></div></div><div class=\"sk-parallel-item\"><div class=\"sk-item\"><div class=\"sk-label-container\"><div class=\"sk-label sk-toggleable\"><input class=\"sk-toggleable__control sk-hidden--visually\" id=\"sk-estimator-id-327\" type=\"checkbox\" ><label for=\"sk-estimator-id-327\" class=\"sk-toggleable__label sk-toggleable__label-arrow\">onehot</label><div class=\"sk-toggleable__content\"><pre>[&#x27;Gender&#x27;, &#x27;FAVC&#x27;, &#x27;family_history_with_overweight&#x27;, &#x27;SMOKE&#x27;, &#x27;SCC&#x27;, &#x27;MTRANS&#x27;]</pre></div></div></div><div class=\"sk-serial\"><div class=\"sk-item\"><div class=\"sk-estimator sk-toggleable\"><input class=\"sk-toggleable__control sk-hidden--visually\" id=\"sk-estimator-id-328\" type=\"checkbox\" ><label for=\"sk-estimator-id-328\" class=\"sk-toggleable__label sk-toggleable__label-arrow\">OneHotEncoder</label><div class=\"sk-toggleable__content\"><pre>OneHotEncoder()</pre></div></div></div></div></div></div><div class=\"sk-parallel-item\"><div class=\"sk-item\"><div class=\"sk-label-container\"><div class=\"sk-label sk-toggleable\"><input class=\"sk-toggleable__control sk-hidden--visually\" id=\"sk-estimator-id-329\" type=\"checkbox\" ><label for=\"sk-estimator-id-329\" class=\"sk-toggleable__label sk-toggleable__label-arrow\">ordinal</label><div class=\"sk-toggleable__content\"><pre>[&#x27;FCVC&#x27;, &#x27;NCP&#x27;, &#x27;CAEC&#x27;, &#x27;CH2O&#x27;, &#x27;FAF&#x27;, &#x27;TUE&#x27;, &#x27;CALC&#x27;]</pre></div></div></div><div class=\"sk-serial\"><div class=\"sk-item\"><div class=\"sk-estimator sk-toggleable\"><input class=\"sk-toggleable__control sk-hidden--visually\" id=\"sk-estimator-id-330\" type=\"checkbox\" ><label for=\"sk-estimator-id-330\" class=\"sk-toggleable__label sk-toggleable__label-arrow\">OrdinalEncoder</label><div class=\"sk-toggleable__content\"><pre>OrdinalEncoder(categories=[[&#x27;1&#x27;, &#x27;2&#x27;, &#x27;3&#x27;], [&#x27;1&#x27;, &#x27;2&#x27;, &#x27;3&#x27;],\n",
       "                           [&#x27;no&#x27;, &#x27;Sometimes&#x27;, &#x27;Frequently&#x27;, &#x27;Always&#x27;],\n",
       "                           [&#x27;1&#x27;, &#x27;2&#x27;, &#x27;3&#x27;], [&#x27;1&#x27;, &#x27;2&#x27;, &#x27;3&#x27;], [&#x27;2&#x27;, &#x27;3&#x27;],\n",
       "                           [&#x27;no&#x27;, &#x27;Sometimes&#x27;, &#x27;Frequently&#x27;, &#x27;Always&#x27;]])</pre></div></div></div></div></div></div><div class=\"sk-parallel-item\"><div class=\"sk-item\"><div class=\"sk-label-container\"><div class=\"sk-label sk-toggleable\"><input class=\"sk-toggleable__control sk-hidden--visually\" id=\"sk-estimator-id-331\" type=\"checkbox\" ><label for=\"sk-estimator-id-331\" class=\"sk-toggleable__label sk-toggleable__label-arrow\">remainder</label><div class=\"sk-toggleable__content\"><pre>[]</pre></div></div></div><div class=\"sk-serial\"><div class=\"sk-item\"><div class=\"sk-estimator sk-toggleable\"><input class=\"sk-toggleable__control sk-hidden--visually\" id=\"sk-estimator-id-332\" type=\"checkbox\" ><label for=\"sk-estimator-id-332\" class=\"sk-toggleable__label sk-toggleable__label-arrow\">passthrough</label><div class=\"sk-toggleable__content\"><pre>passthrough</pre></div></div></div></div></div></div></div></div><div class=\"sk-item\"><div class=\"sk-estimator sk-toggleable\"><input class=\"sk-toggleable__control sk-hidden--visually\" id=\"sk-estimator-id-333\" type=\"checkbox\" ><label for=\"sk-estimator-id-333\" class=\"sk-toggleable__label sk-toggleable__label-arrow\">XGBClassifier</label><div class=\"sk-toggleable__content\"><pre>XGBClassifier(base_score=None, booster=None, callbacks=None,\n",
       "              colsample_bylevel=None, colsample_bynode=None,\n",
       "              colsample_bytree=None, device=None, early_stopping_rounds=None,\n",
       "              enable_categorical=False, eval_metric=None, feature_types=None,\n",
       "              gamma=None, grow_policy=None, importance_type=None,\n",
       "              interaction_constraints=None, learning_rate=None, max_bin=None,\n",
       "              max_cat_threshold=None, max_cat_to_onehot=None,\n",
       "              max_delta_step=None, max_depth=None, max_leaves=None,\n",
       "              min_child_weight=None, missing=nan, monotone_constraints=None,\n",
       "              multi_strategy=None, n_estimators=None, n_jobs=None, num_class=7,\n",
       "              num_parallel_tree=None, ...)</pre></div></div></div></div></div></div></div>"
      ],
      "text/plain": [
       "Pipeline(steps=[('columntransformer',\n",
       "                 ColumnTransformer(remainder='passthrough',\n",
       "                                   transformers=[('robust_scaler',\n",
       "                                                  RobustScaler(),\n",
       "                                                  ['Age', 'Height', 'Weight']),\n",
       "                                                 ('onehot', OneHotEncoder(),\n",
       "                                                  ['Gender', 'FAVC',\n",
       "                                                   'family_history_with_overweight',\n",
       "                                                   'SMOKE', 'SCC', 'MTRANS']),\n",
       "                                                 ('ordinal',\n",
       "                                                  OrdinalEncoder(categories=[['1',\n",
       "                                                                              '2',\n",
       "                                                                              '3'],\n",
       "                                                                             ['1',\n",
       "                                                                              '2',\n",
       "                                                                              '3'],\n",
       "                                                                             ['no',\n",
       "                                                                              'Sometimes',\n",
       "                                                                              'Frequently',...\n",
       "                               feature_types=None, gamma=None, grow_policy=None,\n",
       "                               importance_type=None,\n",
       "                               interaction_constraints=None, learning_rate=None,\n",
       "                               max_bin=None, max_cat_threshold=None,\n",
       "                               max_cat_to_onehot=None, max_delta_step=None,\n",
       "                               max_depth=None, max_leaves=None,\n",
       "                               min_child_weight=None, missing=nan,\n",
       "                               monotone_constraints=None, multi_strategy=None,\n",
       "                               n_estimators=None, n_jobs=None, num_class=7,\n",
       "                               num_parallel_tree=None, ...))])"
      ]
     },
     "execution_count": 634,
     "metadata": {},
     "output_type": "execute_result"
    }
   ],
   "source": [
    "xgboost_pipeline.fit(X_train, y_train)"
   ]
  },
  {
   "cell_type": "markdown",
   "metadata": {},
   "source": [
    "# 8. Model Evaluation"
   ]
  },
  {
   "cell_type": "markdown",
   "metadata": {},
   "source": [
    "Pada bagian ini, dilakukan evaluasi model yang harus menunjukkan bagaimana performa model berdasarkan metrics yang dipilih. Hal ini harus dibuktikan dengan visualisasi tren performa dan/atau tingkat kesalahan model. **Lakukan analisis terkait dengan hasil pada model dan tuliskan hasil analisisnya**."
   ]
  },
  {
   "cell_type": "code",
   "execution_count": 635,
   "metadata": {},
   "outputs": [],
   "source": [
    "y_train_predict_knn = knn_pipeline.predict(X_train)\n",
    "y_test_predict_knn = knn_pipeline.predict(X_test)\n",
    "\n",
    "y_train_predict_svm = svm_pipeline.predict(X_train)\n",
    "y_test_predict_svm = svm_pipeline.predict(X_test)\n",
    "\n",
    "y_train_predict_decision = decision_pipeline.predict(X_train)\n",
    "y_test_predict_decision = decision_pipeline.predict(X_test)\n",
    "\n",
    "y_train_predict_rf = random_forest_pipeline.predict(X_train)\n",
    "y_test_predict_rf = random_forest_pipeline.predict(X_test)\n",
    "\n",
    "y_train_predict_boost = xgboost_pipeline.predict(X_train)\n",
    "y_test_predict_boost = xgboost_pipeline.predict(X_test)"
   ]
  },
  {
   "cell_type": "code",
   "execution_count": 636,
   "metadata": {},
   "outputs": [
    {
     "name": "stdout",
     "output_type": "stream",
     "text": [
      "Classifier: K-Nearest Neighbors\n",
      "Train Classification Report:\n",
      "              precision    recall  f1-score   support\n",
      "\n",
      "           0       0.81      0.95      0.88       200\n",
      "           1       0.77      0.61      0.68       197\n",
      "           2       0.82      0.91      0.86       242\n",
      "           3       0.93      0.97      0.95       207\n",
      "           4       0.99      1.00      0.99       235\n",
      "           5       0.82      0.76      0.79       208\n",
      "           6       0.87      0.79      0.83       188\n",
      "\n",
      "    accuracy                           0.86      1477\n",
      "   macro avg       0.86      0.86      0.86      1477\n",
      "weighted avg       0.86      0.86      0.86      1477\n",
      "\n",
      "Test Classification Report:\n",
      "              precision    recall  f1-score   support\n",
      "\n",
      "           0       0.63      0.88      0.73        72\n",
      "           1       0.66      0.37      0.47        90\n",
      "           2       0.80      0.86      0.83       109\n",
      "           3       0.85      0.91      0.88        90\n",
      "           4       1.00      1.00      1.00        89\n",
      "           5       0.59      0.67      0.63        82\n",
      "           6       0.88      0.75      0.81       102\n",
      "\n",
      "    accuracy                           0.78       634\n",
      "   macro avg       0.77      0.78      0.76       634\n",
      "weighted avg       0.78      0.78      0.77       634\n",
      "\n",
      "==================================================\n",
      "\n",
      "Classifier: Support Vector Classifier\n",
      "Train Classification Report:\n",
      "              precision    recall  f1-score   support\n",
      "\n",
      "           0       0.94      0.94      0.94       200\n",
      "           1       0.80      0.86      0.83       197\n",
      "           2       0.90      0.94      0.92       242\n",
      "           3       0.97      0.97      0.97       207\n",
      "           4       1.00      0.99      0.99       235\n",
      "           5       0.80      0.84      0.82       208\n",
      "           6       0.88      0.72      0.80       188\n",
      "\n",
      "    accuracy                           0.90      1477\n",
      "   macro avg       0.90      0.89      0.90      1477\n",
      "weighted avg       0.90      0.90      0.90      1477\n",
      "\n",
      "Test Classification Report:\n",
      "              precision    recall  f1-score   support\n",
      "\n",
      "           0       0.89      0.93      0.91        72\n",
      "           1       0.74      0.71      0.72        90\n",
      "           2       0.91      0.94      0.92       109\n",
      "           3       0.97      0.94      0.96        90\n",
      "           4       1.00      1.00      1.00        89\n",
      "           5       0.69      0.78      0.73        82\n",
      "           6       0.88      0.77      0.82       102\n",
      "\n",
      "    accuracy                           0.87       634\n",
      "   macro avg       0.87      0.87      0.87       634\n",
      "weighted avg       0.87      0.87      0.87       634\n",
      "\n",
      "==================================================\n",
      "\n",
      "Classifier: Decision Tree\n",
      "Train Classification Report:\n",
      "              precision    recall  f1-score   support\n",
      "\n",
      "           0       1.00      1.00      1.00       200\n",
      "           1       1.00      1.00      1.00       197\n",
      "           2       1.00      1.00      1.00       242\n",
      "           3       1.00      1.00      1.00       207\n",
      "           4       1.00      1.00      1.00       235\n",
      "           5       1.00      1.00      1.00       208\n",
      "           6       1.00      0.99      1.00       188\n",
      "\n",
      "    accuracy                           1.00      1477\n",
      "   macro avg       1.00      1.00      1.00      1477\n",
      "weighted avg       1.00      1.00      1.00      1477\n",
      "\n",
      "Test Classification Report:\n",
      "              precision    recall  f1-score   support\n",
      "\n",
      "           0       0.92      0.96      0.94        72\n",
      "           1       0.85      0.68      0.75        90\n",
      "           2       0.94      0.94      0.94       109\n",
      "           3       0.98      0.99      0.98        90\n",
      "           4       1.00      1.00      1.00        89\n",
      "           5       0.67      0.82      0.74        82\n",
      "           6       0.88      0.85      0.87       102\n",
      "\n",
      "    accuracy                           0.89       634\n",
      "   macro avg       0.89      0.89      0.89       634\n",
      "weighted avg       0.89      0.89      0.89       634\n",
      "\n",
      "==================================================\n",
      "\n",
      "Classifier: Random Forest\n",
      "Train Classification Report:\n",
      "              precision    recall  f1-score   support\n",
      "\n",
      "           0       1.00      1.00      1.00       200\n",
      "           1       1.00      1.00      1.00       197\n",
      "           2       1.00      1.00      1.00       242\n",
      "           3       1.00      1.00      1.00       207\n",
      "           4       1.00      1.00      1.00       235\n",
      "           5       1.00      1.00      1.00       208\n",
      "           6       1.00      0.99      1.00       188\n",
      "\n",
      "    accuracy                           1.00      1477\n",
      "   macro avg       1.00      1.00      1.00      1477\n",
      "weighted avg       1.00      1.00      1.00      1477\n",
      "\n",
      "Test Classification Report:\n",
      "              precision    recall  f1-score   support\n",
      "\n",
      "           0       0.96      0.93      0.94        72\n",
      "           1       0.74      0.77      0.75        90\n",
      "           2       0.97      0.96      0.97       109\n",
      "           3       1.00      0.98      0.99        90\n",
      "           4       1.00      1.00      1.00        89\n",
      "           5       0.77      0.84      0.80        82\n",
      "           6       0.94      0.88      0.91       102\n",
      "\n",
      "    accuracy                           0.91       634\n",
      "   macro avg       0.91      0.91      0.91       634\n",
      "weighted avg       0.91      0.91      0.91       634\n",
      "\n",
      "==================================================\n",
      "\n",
      "Classifier: XGBoost\n",
      "Train Classification Report:\n",
      "              precision    recall  f1-score   support\n",
      "\n",
      "           0       1.00      1.00      1.00       200\n",
      "           1       1.00      1.00      1.00       197\n",
      "           2       1.00      1.00      1.00       242\n",
      "           3       1.00      1.00      1.00       207\n",
      "           4       1.00      1.00      1.00       235\n",
      "           5       1.00      1.00      1.00       208\n",
      "           6       1.00      0.99      1.00       188\n",
      "\n",
      "    accuracy                           1.00      1477\n",
      "   macro avg       1.00      1.00      1.00      1477\n",
      "weighted avg       1.00      1.00      1.00      1477\n",
      "\n",
      "Test Classification Report:\n",
      "              precision    recall  f1-score   support\n",
      "\n",
      "           0       0.94      0.93      0.94        72\n",
      "           1       0.82      0.82      0.82        90\n",
      "           2       0.97      0.95      0.96       109\n",
      "           3       0.99      0.99      0.99        90\n",
      "           4       1.00      1.00      1.00        89\n",
      "           5       0.79      0.87      0.83        82\n",
      "           6       0.98      0.93      0.95       102\n",
      "\n",
      "    accuracy                           0.93       634\n",
      "   macro avg       0.93      0.93      0.93       634\n",
      "weighted avg       0.93      0.93      0.93       634\n",
      "\n",
      "==================================================\n",
      "\n"
     ]
    }
   ],
   "source": [
    "from sklearn.metrics import classification_report\n",
    "\n",
    "classifiers = [\n",
    "    (\"K-Nearest Neighbors\", knn_pipeline, X_train, X_test),\n",
    "    (\"Support Vector Classifier\", svm_pipeline, X_train, X_test),\n",
    "    (\"Decision Tree\", decision_pipeline, X_train, X_test),\n",
    "    (\"Random Forest\", random_forest_pipeline, X_train, X_test),\n",
    "    (\"XGBoost\", xgboost_pipeline, X_train, X_test)\n",
    "]\n",
    "\n",
    "for name, pipeline, X_train, X_test in classifiers:\n",
    "    y_train_predict = pipeline.predict(X_train)\n",
    "    y_test_predict = pipeline.predict(X_test)\n",
    "    \n",
    "    train_report = classification_report(y_train, y_train_predict)\n",
    "    test_report = classification_report(y_test, y_test_predict)\n",
    "\n",
    "    print(f\"Classifier: {name}\")\n",
    "    print(\"Train Classification Report:\")\n",
    "    print(train_report)\n",
    "    print(\"Test Classification Report:\")\n",
    "    print(test_report)\n",
    "    print(\"=\"*50)\n",
    "    print()"
   ]
  },
  {
   "cell_type": "markdown",
   "metadata": {},
   "source": [
    "Memilih Random Forest untuk Hyperparameter Tuning karena rata - rata akurasi 92% yang dapat memberikan prediksi yang tepat"
   ]
  },
  {
   "cell_type": "markdown",
   "metadata": {},
   "source": [
    "### Hyperparameter Tuning Random Forest"
   ]
  },
  {
   "cell_type": "code",
   "execution_count": 637,
   "metadata": {},
   "outputs": [],
   "source": [
    "# Define the parameter grid you want to search\n",
    "param_grid = {\n",
    "    # 'randomforestclassifier__ran_estimators': [100, 200, 300],  # Number of trees in the forest\n",
    "    'randomforestclassifier__max_depth': [None, 10, 20, 30],  # Maximum depth of the tree\n",
    "    'randomforestclassifier__min_samples_split': [2, 5, 10],  # Minimum number of samples required to split an internal node\n",
    "    'randomforestclassifier__min_samples_leaf': [1, 2, 4]  # Minimum number of samples required to be at a leaf node\n",
    "}"
   ]
  },
  {
   "cell_type": "code",
   "execution_count": 647,
   "metadata": {},
   "outputs": [
    {
     "name": "stdout",
     "output_type": "stream",
     "text": [
      "Hyperparameter Terbaik:\n",
      "randomforestclassifier__max_depth: 20\n",
      "randomforestclassifier__min_samples_leaf: 1\n",
      "randomforestclassifier__min_samples_split: 2\n"
     ]
    }
   ],
   "source": [
    "from sklearn.model_selection import GridSearchCV\n",
    "from sklearn.ensemble import RandomForestClassifier\n",
    "\n",
    "# Create a Random Forest classifier\n",
    "rf_classifier = RandomForestClassifier(random_state=42)\n",
    "\n",
    "# Create a GridSearchCV object\n",
    "grid_search = GridSearchCV(estimator=random_forest_pipeline, param_grid=param_grid, cv=5, scoring='accuracy', n_jobs=-1)\n",
    "\n",
    "# Fit the grid search to your data\n",
    "grid_search.fit(X_train, y_train)\n",
    "\n",
    "# Get the best parameters and best score\n",
    "best_params = grid_search.best_params_\n",
    "best_score = grid_search.best_score_\n",
    "\n",
    "# Get Best Hyperparameter\n",
    "best_params = grid_search.best_params_\n",
    "print(\"Hyperparameter Terbaik:\")\n",
    "for param, value in best_params.items():\n",
    "    print(f\"{param}: {value}\")"
   ]
  },
  {
   "cell_type": "code",
   "execution_count": 640,
   "metadata": {},
   "outputs": [],
   "source": [
    "# Get Best Estimator\n",
    "\n",
    "rf_gridcv_best = grid_search.best_estimator_"
   ]
  },
  {
   "cell_type": "code",
   "execution_count": 641,
   "metadata": {},
   "outputs": [],
   "source": [
    "y_train_predict_rf_best = rf_gridcv_best.predict(X_train)\n",
    "y_test_predict_rf_best = rf_gridcv_best.predict(X_test)"
   ]
  },
  {
   "cell_type": "code",
   "execution_count": 642,
   "metadata": {},
   "outputs": [],
   "source": [
    "random_forest_report = classification_report(y_train, y_train_predict_rf_best, output_dict=True)\n",
    "random_forest_df = pd.DataFrame(random_forest_report)"
   ]
  },
  {
   "cell_type": "code",
   "execution_count": 643,
   "metadata": {},
   "outputs": [
    {
     "data": {
      "text/html": [
       "<div>\n",
       "<style scoped>\n",
       "    .dataframe tbody tr th:only-of-type {\n",
       "        vertical-align: middle;\n",
       "    }\n",
       "\n",
       "    .dataframe tbody tr th {\n",
       "        vertical-align: top;\n",
       "    }\n",
       "\n",
       "    .dataframe thead th {\n",
       "        text-align: right;\n",
       "    }\n",
       "</style>\n",
       "<table border=\"1\" class=\"dataframe\">\n",
       "  <thead>\n",
       "    <tr style=\"text-align: right;\">\n",
       "      <th></th>\n",
       "      <th>0</th>\n",
       "      <th>1</th>\n",
       "      <th>2</th>\n",
       "      <th>3</th>\n",
       "      <th>4</th>\n",
       "      <th>5</th>\n",
       "      <th>6</th>\n",
       "      <th>accuracy</th>\n",
       "      <th>macro avg</th>\n",
       "      <th>weighted avg</th>\n",
       "    </tr>\n",
       "  </thead>\n",
       "  <tbody>\n",
       "    <tr>\n",
       "      <th>0</th>\n",
       "      <td>{'precision': 1.0, 'recall': 1.0, 'f1-score': ...</td>\n",
       "      <td>{'precision': 1.0, 'recall': 1.0, 'f1-score': ...</td>\n",
       "      <td>{'precision': 1.0, 'recall': 1.0, 'f1-score': ...</td>\n",
       "      <td>{'precision': 1.0, 'recall': 1.0, 'f1-score': ...</td>\n",
       "      <td>{'precision': 1.0, 'recall': 1.0, 'f1-score': ...</td>\n",
       "      <td>{'precision': 0.9952153110047847, 'recall': 1....</td>\n",
       "      <td>{'precision': 1.0, 'recall': 0.994680851063829...</td>\n",
       "      <td>0.999323</td>\n",
       "      <td>{'precision': 0.9993164730006835, 'recall': 0....</td>\n",
       "      <td>{'precision': 0.9993261913940387, 'recall': 0....</td>\n",
       "    </tr>\n",
       "  </tbody>\n",
       "</table>\n",
       "</div>"
      ],
      "text/plain": [
       "                                                   0  \\\n",
       "0  {'precision': 1.0, 'recall': 1.0, 'f1-score': ...   \n",
       "\n",
       "                                                   1  \\\n",
       "0  {'precision': 1.0, 'recall': 1.0, 'f1-score': ...   \n",
       "\n",
       "                                                   2  \\\n",
       "0  {'precision': 1.0, 'recall': 1.0, 'f1-score': ...   \n",
       "\n",
       "                                                   3  \\\n",
       "0  {'precision': 1.0, 'recall': 1.0, 'f1-score': ...   \n",
       "\n",
       "                                                   4  \\\n",
       "0  {'precision': 1.0, 'recall': 1.0, 'f1-score': ...   \n",
       "\n",
       "                                                   5  \\\n",
       "0  {'precision': 0.9952153110047847, 'recall': 1....   \n",
       "\n",
       "                                                   6  accuracy  \\\n",
       "0  {'precision': 1.0, 'recall': 0.994680851063829...  0.999323   \n",
       "\n",
       "                                           macro avg  \\\n",
       "0  {'precision': 0.9993164730006835, 'recall': 0....   \n",
       "\n",
       "                                        weighted avg  \n",
       "0  {'precision': 0.9993261913940387, 'recall': 0....  "
      ]
     },
     "execution_count": 643,
     "metadata": {},
     "output_type": "execute_result"
    }
   ],
   "source": [
    "pd.DataFrame([random_forest_report])"
   ]
  },
  {
   "cell_type": "code",
   "execution_count": 644,
   "metadata": {},
   "outputs": [
    {
     "name": "stdout",
     "output_type": "stream",
     "text": [
      "Fitting 5 folds for each of 36 candidates, totalling 180 fits\n"
     ]
    },
    {
     "data": {
      "text/html": [
       "<style>#sk-container-id-31 {color: black;}#sk-container-id-31 pre{padding: 0;}#sk-container-id-31 div.sk-toggleable {background-color: white;}#sk-container-id-31 label.sk-toggleable__label {cursor: pointer;display: block;width: 100%;margin-bottom: 0;padding: 0.3em;box-sizing: border-box;text-align: center;}#sk-container-id-31 label.sk-toggleable__label-arrow:before {content: \"▸\";float: left;margin-right: 0.25em;color: #696969;}#sk-container-id-31 label.sk-toggleable__label-arrow:hover:before {color: black;}#sk-container-id-31 div.sk-estimator:hover label.sk-toggleable__label-arrow:before {color: black;}#sk-container-id-31 div.sk-toggleable__content {max-height: 0;max-width: 0;overflow: hidden;text-align: left;background-color: #f0f8ff;}#sk-container-id-31 div.sk-toggleable__content pre {margin: 0.2em;color: black;border-radius: 0.25em;background-color: #f0f8ff;}#sk-container-id-31 input.sk-toggleable__control:checked~div.sk-toggleable__content {max-height: 200px;max-width: 100%;overflow: auto;}#sk-container-id-31 input.sk-toggleable__control:checked~label.sk-toggleable__label-arrow:before {content: \"▾\";}#sk-container-id-31 div.sk-estimator input.sk-toggleable__control:checked~label.sk-toggleable__label {background-color: #d4ebff;}#sk-container-id-31 div.sk-label input.sk-toggleable__control:checked~label.sk-toggleable__label {background-color: #d4ebff;}#sk-container-id-31 input.sk-hidden--visually {border: 0;clip: rect(1px 1px 1px 1px);clip: rect(1px, 1px, 1px, 1px);height: 1px;margin: -1px;overflow: hidden;padding: 0;position: absolute;width: 1px;}#sk-container-id-31 div.sk-estimator {font-family: monospace;background-color: #f0f8ff;border: 1px dotted black;border-radius: 0.25em;box-sizing: border-box;margin-bottom: 0.5em;}#sk-container-id-31 div.sk-estimator:hover {background-color: #d4ebff;}#sk-container-id-31 div.sk-parallel-item::after {content: \"\";width: 100%;border-bottom: 1px solid gray;flex-grow: 1;}#sk-container-id-31 div.sk-label:hover label.sk-toggleable__label {background-color: #d4ebff;}#sk-container-id-31 div.sk-serial::before {content: \"\";position: absolute;border-left: 1px solid gray;box-sizing: border-box;top: 0;bottom: 0;left: 50%;z-index: 0;}#sk-container-id-31 div.sk-serial {display: flex;flex-direction: column;align-items: center;background-color: white;padding-right: 0.2em;padding-left: 0.2em;position: relative;}#sk-container-id-31 div.sk-item {position: relative;z-index: 1;}#sk-container-id-31 div.sk-parallel {display: flex;align-items: stretch;justify-content: center;background-color: white;position: relative;}#sk-container-id-31 div.sk-item::before, #sk-container-id-31 div.sk-parallel-item::before {content: \"\";position: absolute;border-left: 1px solid gray;box-sizing: border-box;top: 0;bottom: 0;left: 50%;z-index: -1;}#sk-container-id-31 div.sk-parallel-item {display: flex;flex-direction: column;z-index: 1;position: relative;background-color: white;}#sk-container-id-31 div.sk-parallel-item:first-child::after {align-self: flex-end;width: 50%;}#sk-container-id-31 div.sk-parallel-item:last-child::after {align-self: flex-start;width: 50%;}#sk-container-id-31 div.sk-parallel-item:only-child::after {width: 0;}#sk-container-id-31 div.sk-dashed-wrapped {border: 1px dashed gray;margin: 0 0.4em 0.5em 0.4em;box-sizing: border-box;padding-bottom: 0.4em;background-color: white;}#sk-container-id-31 div.sk-label label {font-family: monospace;font-weight: bold;display: inline-block;line-height: 1.2em;}#sk-container-id-31 div.sk-label-container {text-align: center;}#sk-container-id-31 div.sk-container {/* jupyter's `normalize.less` sets `[hidden] { display: none; }` but bootstrap.min.css set `[hidden] { display: none !important; }` so we also need the `!important` here to be able to override the default hidden behavior on the sphinx rendered scikit-learn.org. See: https://github.com/scikit-learn/scikit-learn/issues/21755 */display: inline-block !important;position: relative;}#sk-container-id-31 div.sk-text-repr-fallback {display: none;}</style><div id=\"sk-container-id-31\" class=\"sk-top-container\"><div class=\"sk-text-repr-fallback\"><pre>GridSearchCV(cv=5,\n",
       "             estimator=Pipeline(steps=[(&#x27;columntransformer&#x27;,\n",
       "                                        ColumnTransformer(remainder=&#x27;passthrough&#x27;,\n",
       "                                                          transformers=[(&#x27;robust_scaler&#x27;,\n",
       "                                                                         RobustScaler(),\n",
       "                                                                         [&#x27;Age&#x27;,\n",
       "                                                                          &#x27;Height&#x27;,\n",
       "                                                                          &#x27;Weight&#x27;]),\n",
       "                                                                        (&#x27;onehot&#x27;,\n",
       "                                                                         OneHotEncoder(),\n",
       "                                                                         [&#x27;Gender&#x27;,\n",
       "                                                                          &#x27;FAVC&#x27;,\n",
       "                                                                          &#x27;family_history_with_overweight&#x27;,\n",
       "                                                                          &#x27;SMOKE&#x27;,\n",
       "                                                                          &#x27;SCC&#x27;,\n",
       "                                                                          &#x27;MTRANS&#x27;]),\n",
       "                                                                        (&#x27;ordinal&#x27;,\n",
       "                                                                         OrdinalEncoder(categories=[[&#x27;1&#x27;,\n",
       "                                                                                                     &#x27;2&#x27;,\n",
       "                                                                                                     &#x27;3&#x27;],\n",
       "                                                                                                    [&#x27;1&#x27;,\n",
       "                                                                                                     &#x27;2&#x27;,\n",
       "                                                                                                     &#x27;3&#x27;],\n",
       "                                                                                                    [&#x27;n...\n",
       "                                                                                                     &#x27;Sometimes&#x27;,\n",
       "                                                                                                     &#x27;Frequently&#x27;,\n",
       "                                                                                                     &#x27;Always&#x27;]]),\n",
       "                                                                         [&#x27;FCVC&#x27;,\n",
       "                                                                          &#x27;NCP&#x27;,\n",
       "                                                                          &#x27;CAEC&#x27;,\n",
       "                                                                          &#x27;CH2O&#x27;,\n",
       "                                                                          &#x27;FAF&#x27;,\n",
       "                                                                          &#x27;TUE&#x27;,\n",
       "                                                                          &#x27;CALC&#x27;])])),\n",
       "                                       (&#x27;randomforestclassifier&#x27;,\n",
       "                                        RandomForestClassifier(random_state=42))]),\n",
       "             n_jobs=-1,\n",
       "             param_grid={&#x27;randomforestclassifier__max_depth&#x27;: [None, 10, 20,\n",
       "                                                               30],\n",
       "                         &#x27;randomforestclassifier__min_samples_leaf&#x27;: [1, 2, 4],\n",
       "                         &#x27;randomforestclassifier__min_samples_split&#x27;: [2, 5,\n",
       "                                                                       10]},\n",
       "             scoring=&#x27;f1&#x27;, verbose=2)</pre><b>In a Jupyter environment, please rerun this cell to show the HTML representation or trust the notebook. <br />On GitHub, the HTML representation is unable to render, please try loading this page with nbviewer.org.</b></div><div class=\"sk-container\" hidden><div class=\"sk-item sk-dashed-wrapped\"><div class=\"sk-label-container\"><div class=\"sk-label sk-toggleable\"><input class=\"sk-toggleable__control sk-hidden--visually\" id=\"sk-estimator-id-334\" type=\"checkbox\" ><label for=\"sk-estimator-id-334\" class=\"sk-toggleable__label sk-toggleable__label-arrow\">GridSearchCV</label><div class=\"sk-toggleable__content\"><pre>GridSearchCV(cv=5,\n",
       "             estimator=Pipeline(steps=[(&#x27;columntransformer&#x27;,\n",
       "                                        ColumnTransformer(remainder=&#x27;passthrough&#x27;,\n",
       "                                                          transformers=[(&#x27;robust_scaler&#x27;,\n",
       "                                                                         RobustScaler(),\n",
       "                                                                         [&#x27;Age&#x27;,\n",
       "                                                                          &#x27;Height&#x27;,\n",
       "                                                                          &#x27;Weight&#x27;]),\n",
       "                                                                        (&#x27;onehot&#x27;,\n",
       "                                                                         OneHotEncoder(),\n",
       "                                                                         [&#x27;Gender&#x27;,\n",
       "                                                                          &#x27;FAVC&#x27;,\n",
       "                                                                          &#x27;family_history_with_overweight&#x27;,\n",
       "                                                                          &#x27;SMOKE&#x27;,\n",
       "                                                                          &#x27;SCC&#x27;,\n",
       "                                                                          &#x27;MTRANS&#x27;]),\n",
       "                                                                        (&#x27;ordinal&#x27;,\n",
       "                                                                         OrdinalEncoder(categories=[[&#x27;1&#x27;,\n",
       "                                                                                                     &#x27;2&#x27;,\n",
       "                                                                                                     &#x27;3&#x27;],\n",
       "                                                                                                    [&#x27;1&#x27;,\n",
       "                                                                                                     &#x27;2&#x27;,\n",
       "                                                                                                     &#x27;3&#x27;],\n",
       "                                                                                                    [&#x27;n...\n",
       "                                                                                                     &#x27;Sometimes&#x27;,\n",
       "                                                                                                     &#x27;Frequently&#x27;,\n",
       "                                                                                                     &#x27;Always&#x27;]]),\n",
       "                                                                         [&#x27;FCVC&#x27;,\n",
       "                                                                          &#x27;NCP&#x27;,\n",
       "                                                                          &#x27;CAEC&#x27;,\n",
       "                                                                          &#x27;CH2O&#x27;,\n",
       "                                                                          &#x27;FAF&#x27;,\n",
       "                                                                          &#x27;TUE&#x27;,\n",
       "                                                                          &#x27;CALC&#x27;])])),\n",
       "                                       (&#x27;randomforestclassifier&#x27;,\n",
       "                                        RandomForestClassifier(random_state=42))]),\n",
       "             n_jobs=-1,\n",
       "             param_grid={&#x27;randomforestclassifier__max_depth&#x27;: [None, 10, 20,\n",
       "                                                               30],\n",
       "                         &#x27;randomforestclassifier__min_samples_leaf&#x27;: [1, 2, 4],\n",
       "                         &#x27;randomforestclassifier__min_samples_split&#x27;: [2, 5,\n",
       "                                                                       10]},\n",
       "             scoring=&#x27;f1&#x27;, verbose=2)</pre></div></div></div><div class=\"sk-parallel\"><div class=\"sk-parallel-item\"><div class=\"sk-item\"><div class=\"sk-label-container\"><div class=\"sk-label sk-toggleable\"><input class=\"sk-toggleable__control sk-hidden--visually\" id=\"sk-estimator-id-335\" type=\"checkbox\" ><label for=\"sk-estimator-id-335\" class=\"sk-toggleable__label sk-toggleable__label-arrow\">estimator: Pipeline</label><div class=\"sk-toggleable__content\"><pre>Pipeline(steps=[(&#x27;columntransformer&#x27;,\n",
       "                 ColumnTransformer(remainder=&#x27;passthrough&#x27;,\n",
       "                                   transformers=[(&#x27;robust_scaler&#x27;,\n",
       "                                                  RobustScaler(),\n",
       "                                                  [&#x27;Age&#x27;, &#x27;Height&#x27;, &#x27;Weight&#x27;]),\n",
       "                                                 (&#x27;onehot&#x27;, OneHotEncoder(),\n",
       "                                                  [&#x27;Gender&#x27;, &#x27;FAVC&#x27;,\n",
       "                                                   &#x27;family_history_with_overweight&#x27;,\n",
       "                                                   &#x27;SMOKE&#x27;, &#x27;SCC&#x27;, &#x27;MTRANS&#x27;]),\n",
       "                                                 (&#x27;ordinal&#x27;,\n",
       "                                                  OrdinalEncoder(categories=[[&#x27;1&#x27;,\n",
       "                                                                              &#x27;2&#x27;,\n",
       "                                                                              &#x27;3&#x27;],\n",
       "                                                                             [&#x27;1&#x27;,\n",
       "                                                                              &#x27;2&#x27;,\n",
       "                                                                              &#x27;3&#x27;],\n",
       "                                                                             [&#x27;no&#x27;,\n",
       "                                                                              &#x27;Sometimes&#x27;,\n",
       "                                                                              &#x27;Frequently&#x27;,\n",
       "                                                                              &#x27;Always&#x27;],\n",
       "                                                                             [&#x27;1&#x27;,\n",
       "                                                                              &#x27;2&#x27;,\n",
       "                                                                              &#x27;3&#x27;],\n",
       "                                                                             [&#x27;1&#x27;,\n",
       "                                                                              &#x27;2&#x27;,\n",
       "                                                                              &#x27;3&#x27;],\n",
       "                                                                             [&#x27;2&#x27;,\n",
       "                                                                              &#x27;3&#x27;],\n",
       "                                                                             [&#x27;no&#x27;,\n",
       "                                                                              &#x27;Sometimes&#x27;,\n",
       "                                                                              &#x27;Frequently&#x27;,\n",
       "                                                                              &#x27;Always&#x27;]]),\n",
       "                                                  [&#x27;FCVC&#x27;, &#x27;NCP&#x27;, &#x27;CAEC&#x27;,\n",
       "                                                   &#x27;CH2O&#x27;, &#x27;FAF&#x27;, &#x27;TUE&#x27;,\n",
       "                                                   &#x27;CALC&#x27;])])),\n",
       "                (&#x27;randomforestclassifier&#x27;,\n",
       "                 RandomForestClassifier(random_state=42))])</pre></div></div></div><div class=\"sk-serial\"><div class=\"sk-item\"><div class=\"sk-serial\"><div class=\"sk-item sk-dashed-wrapped\"><div class=\"sk-label-container\"><div class=\"sk-label sk-toggleable\"><input class=\"sk-toggleable__control sk-hidden--visually\" id=\"sk-estimator-id-336\" type=\"checkbox\" ><label for=\"sk-estimator-id-336\" class=\"sk-toggleable__label sk-toggleable__label-arrow\">columntransformer: ColumnTransformer</label><div class=\"sk-toggleable__content\"><pre>ColumnTransformer(remainder=&#x27;passthrough&#x27;,\n",
       "                  transformers=[(&#x27;robust_scaler&#x27;, RobustScaler(),\n",
       "                                 [&#x27;Age&#x27;, &#x27;Height&#x27;, &#x27;Weight&#x27;]),\n",
       "                                (&#x27;onehot&#x27;, OneHotEncoder(),\n",
       "                                 [&#x27;Gender&#x27;, &#x27;FAVC&#x27;,\n",
       "                                  &#x27;family_history_with_overweight&#x27;, &#x27;SMOKE&#x27;,\n",
       "                                  &#x27;SCC&#x27;, &#x27;MTRANS&#x27;]),\n",
       "                                (&#x27;ordinal&#x27;,\n",
       "                                 OrdinalEncoder(categories=[[&#x27;1&#x27;, &#x27;2&#x27;, &#x27;3&#x27;],\n",
       "                                                            [&#x27;1&#x27;, &#x27;2&#x27;, &#x27;3&#x27;],\n",
       "                                                            [&#x27;no&#x27;, &#x27;Sometimes&#x27;,\n",
       "                                                             &#x27;Frequently&#x27;,\n",
       "                                                             &#x27;Always&#x27;],\n",
       "                                                            [&#x27;1&#x27;, &#x27;2&#x27;, &#x27;3&#x27;],\n",
       "                                                            [&#x27;1&#x27;, &#x27;2&#x27;, &#x27;3&#x27;],\n",
       "                                                            [&#x27;2&#x27;, &#x27;3&#x27;],\n",
       "                                                            [&#x27;no&#x27;, &#x27;Sometimes&#x27;,\n",
       "                                                             &#x27;Frequently&#x27;,\n",
       "                                                             &#x27;Always&#x27;]]),\n",
       "                                 [&#x27;FCVC&#x27;, &#x27;NCP&#x27;, &#x27;CAEC&#x27;, &#x27;CH2O&#x27;, &#x27;FAF&#x27;, &#x27;TUE&#x27;,\n",
       "                                  &#x27;CALC&#x27;])])</pre></div></div></div><div class=\"sk-parallel\"><div class=\"sk-parallel-item\"><div class=\"sk-item\"><div class=\"sk-label-container\"><div class=\"sk-label sk-toggleable\"><input class=\"sk-toggleable__control sk-hidden--visually\" id=\"sk-estimator-id-337\" type=\"checkbox\" ><label for=\"sk-estimator-id-337\" class=\"sk-toggleable__label sk-toggleable__label-arrow\">robust_scaler</label><div class=\"sk-toggleable__content\"><pre>[&#x27;Age&#x27;, &#x27;Height&#x27;, &#x27;Weight&#x27;]</pre></div></div></div><div class=\"sk-serial\"><div class=\"sk-item\"><div class=\"sk-estimator sk-toggleable\"><input class=\"sk-toggleable__control sk-hidden--visually\" id=\"sk-estimator-id-338\" type=\"checkbox\" ><label for=\"sk-estimator-id-338\" class=\"sk-toggleable__label sk-toggleable__label-arrow\">RobustScaler</label><div class=\"sk-toggleable__content\"><pre>RobustScaler()</pre></div></div></div></div></div></div><div class=\"sk-parallel-item\"><div class=\"sk-item\"><div class=\"sk-label-container\"><div class=\"sk-label sk-toggleable\"><input class=\"sk-toggleable__control sk-hidden--visually\" id=\"sk-estimator-id-339\" type=\"checkbox\" ><label for=\"sk-estimator-id-339\" class=\"sk-toggleable__label sk-toggleable__label-arrow\">onehot</label><div class=\"sk-toggleable__content\"><pre>[&#x27;Gender&#x27;, &#x27;FAVC&#x27;, &#x27;family_history_with_overweight&#x27;, &#x27;SMOKE&#x27;, &#x27;SCC&#x27;, &#x27;MTRANS&#x27;]</pre></div></div></div><div class=\"sk-serial\"><div class=\"sk-item\"><div class=\"sk-estimator sk-toggleable\"><input class=\"sk-toggleable__control sk-hidden--visually\" id=\"sk-estimator-id-340\" type=\"checkbox\" ><label for=\"sk-estimator-id-340\" class=\"sk-toggleable__label sk-toggleable__label-arrow\">OneHotEncoder</label><div class=\"sk-toggleable__content\"><pre>OneHotEncoder()</pre></div></div></div></div></div></div><div class=\"sk-parallel-item\"><div class=\"sk-item\"><div class=\"sk-label-container\"><div class=\"sk-label sk-toggleable\"><input class=\"sk-toggleable__control sk-hidden--visually\" id=\"sk-estimator-id-341\" type=\"checkbox\" ><label for=\"sk-estimator-id-341\" class=\"sk-toggleable__label sk-toggleable__label-arrow\">ordinal</label><div class=\"sk-toggleable__content\"><pre>[&#x27;FCVC&#x27;, &#x27;NCP&#x27;, &#x27;CAEC&#x27;, &#x27;CH2O&#x27;, &#x27;FAF&#x27;, &#x27;TUE&#x27;, &#x27;CALC&#x27;]</pre></div></div></div><div class=\"sk-serial\"><div class=\"sk-item\"><div class=\"sk-estimator sk-toggleable\"><input class=\"sk-toggleable__control sk-hidden--visually\" id=\"sk-estimator-id-342\" type=\"checkbox\" ><label for=\"sk-estimator-id-342\" class=\"sk-toggleable__label sk-toggleable__label-arrow\">OrdinalEncoder</label><div class=\"sk-toggleable__content\"><pre>OrdinalEncoder(categories=[[&#x27;1&#x27;, &#x27;2&#x27;, &#x27;3&#x27;], [&#x27;1&#x27;, &#x27;2&#x27;, &#x27;3&#x27;],\n",
       "                           [&#x27;no&#x27;, &#x27;Sometimes&#x27;, &#x27;Frequently&#x27;, &#x27;Always&#x27;],\n",
       "                           [&#x27;1&#x27;, &#x27;2&#x27;, &#x27;3&#x27;], [&#x27;1&#x27;, &#x27;2&#x27;, &#x27;3&#x27;], [&#x27;2&#x27;, &#x27;3&#x27;],\n",
       "                           [&#x27;no&#x27;, &#x27;Sometimes&#x27;, &#x27;Frequently&#x27;, &#x27;Always&#x27;]])</pre></div></div></div></div></div></div><div class=\"sk-parallel-item\"><div class=\"sk-item\"><div class=\"sk-label-container\"><div class=\"sk-label sk-toggleable\"><input class=\"sk-toggleable__control sk-hidden--visually\" id=\"sk-estimator-id-343\" type=\"checkbox\" ><label for=\"sk-estimator-id-343\" class=\"sk-toggleable__label sk-toggleable__label-arrow\">remainder</label><div class=\"sk-toggleable__content\"><pre>[]</pre></div></div></div><div class=\"sk-serial\"><div class=\"sk-item\"><div class=\"sk-estimator sk-toggleable\"><input class=\"sk-toggleable__control sk-hidden--visually\" id=\"sk-estimator-id-344\" type=\"checkbox\" ><label for=\"sk-estimator-id-344\" class=\"sk-toggleable__label sk-toggleable__label-arrow\">passthrough</label><div class=\"sk-toggleable__content\"><pre>passthrough</pre></div></div></div></div></div></div></div></div><div class=\"sk-item\"><div class=\"sk-estimator sk-toggleable\"><input class=\"sk-toggleable__control sk-hidden--visually\" id=\"sk-estimator-id-345\" type=\"checkbox\" ><label for=\"sk-estimator-id-345\" class=\"sk-toggleable__label sk-toggleable__label-arrow\">RandomForestClassifier</label><div class=\"sk-toggleable__content\"><pre>RandomForestClassifier(random_state=42)</pre></div></div></div></div></div></div></div></div></div></div></div></div>"
      ],
      "text/plain": [
       "GridSearchCV(cv=5,\n",
       "             estimator=Pipeline(steps=[('columntransformer',\n",
       "                                        ColumnTransformer(remainder='passthrough',\n",
       "                                                          transformers=[('robust_scaler',\n",
       "                                                                         RobustScaler(),\n",
       "                                                                         ['Age',\n",
       "                                                                          'Height',\n",
       "                                                                          'Weight']),\n",
       "                                                                        ('onehot',\n",
       "                                                                         OneHotEncoder(),\n",
       "                                                                         ['Gender',\n",
       "                                                                          'FAVC',\n",
       "                                                                          'family_history_with_overweight',\n",
       "                                                                          'SMOKE',\n",
       "                                                                          'SCC',\n",
       "                                                                          'MTRANS']),\n",
       "                                                                        ('ordinal',\n",
       "                                                                         OrdinalEncoder(categories=[['1',\n",
       "                                                                                                     '2',\n",
       "                                                                                                     '3'],\n",
       "                                                                                                    ['1',\n",
       "                                                                                                     '2',\n",
       "                                                                                                     '3'],\n",
       "                                                                                                    ['n...\n",
       "                                                                                                     'Sometimes',\n",
       "                                                                                                     'Frequently',\n",
       "                                                                                                     'Always']]),\n",
       "                                                                         ['FCVC',\n",
       "                                                                          'NCP',\n",
       "                                                                          'CAEC',\n",
       "                                                                          'CH2O',\n",
       "                                                                          'FAF',\n",
       "                                                                          'TUE',\n",
       "                                                                          'CALC'])])),\n",
       "                                       ('randomforestclassifier',\n",
       "                                        RandomForestClassifier(random_state=42))]),\n",
       "             n_jobs=-1,\n",
       "             param_grid={'randomforestclassifier__max_depth': [None, 10, 20,\n",
       "                                                               30],\n",
       "                         'randomforestclassifier__min_samples_leaf': [1, 2, 4],\n",
       "                         'randomforestclassifier__min_samples_split': [2, 5,\n",
       "                                                                       10]},\n",
       "             scoring='f1', verbose=2)"
      ]
     },
     "execution_count": 644,
     "metadata": {},
     "output_type": "execute_result"
    }
   ],
   "source": [
    "rf_gridcv = GridSearchCV(estimator=random_forest_pipeline,\n",
    "                         param_grid=param_grid,\n",
    "                         cv=5,\n",
    "                         n_jobs=-1,\n",
    "                         verbose=2,\n",
    "                         scoring='f1')\n",
    "\n",
    "rf_gridcv.fit(X_train, y_train)"
   ]
  },
  {
   "cell_type": "markdown",
   "metadata": {},
   "source": [
    "# 9. Model Saving"
   ]
  },
  {
   "cell_type": "markdown",
   "metadata": {},
   "source": [
    "Pada bagian ini, dilakukan proses penyimpanan model dan file-file lain yang terkait dengan hasil proses pembuatan model. **Dengan melihat hasil Model Evaluation, pilihlah satu model terbaik untuk disimpan. Model terbaik ini akan digunakan kembali dalam melakukan Model Inference dan Model Deployment.**"
   ]
  },
  {
   "cell_type": "code",
   "execution_count": 645,
   "metadata": {},
   "outputs": [],
   "source": [
    "import pickle\n",
    "\n",
    "# Menyimpan objek 'model_knn' ke dalam berkas 'model_knn.pkl' menggunakan modul 'pickle'\n",
    "with open('model_rf.pkl', 'wb') as file_2:\n",
    "    pickle.dump(rf_gridcv_best, file_2)"
   ]
  },
  {
   "cell_type": "markdown",
   "metadata": {},
   "source": [
    "# 10. Model Inference"
   ]
  },
  {
   "cell_type": "markdown",
   "metadata": {},
   "source": [
    "Model yang sudah dilatih akan dicoba pada data yang bukan termasuk ke dalam train-set ataupun test-set. Data ini harus dalam format yang asli, bukan data yang sudah di-scaled. Gunakan model terbaik berdasarkan hasil Model Evaluation. Notebook Model Inference haruslah berbeda dengan notebook saat pembuatan model dilakukan."
   ]
  },
  {
   "cell_type": "markdown",
   "metadata": {},
   "source": [
    "`Inference dilakukan di file P1M2_athalla_rafly_inf.ipynb`"
   ]
  },
  {
   "cell_type": "markdown",
   "metadata": {},
   "source": [
    "# 11. Pengambilan Kesimpulan"
   ]
  },
  {
   "cell_type": "markdown",
   "metadata": {},
   "source": [
    "Pada bagian terakhir ini, **harus berisi** kesimpulan yang mencerminkan hasil yang didapat dengan *objective* yang sudah ditulis di bagian pengenalan."
   ]
  },
  {
   "cell_type": "markdown",
   "metadata": {},
   "source": [
    "Kesimpulan :  \n",
    "\n",
    "Dari Model yang sudah dibuat, Model sudah cukup baik dimana accuracy scorenya sudah cukup tinggi dan bagus. Data termasuk data yang bagus, karena tidak ada missing values.\n",
    "\n",
    "Langkah awal sebelum melakukan prediksi adalah dengan melihat pola hidup dan perilaku dari seseorang tersebut sebagai langkah awalnya. Dapat disimpulkan bahwa Rata - rata seseorang mulai termasuk obesitas jika melakukan pola hidup tidak sehat seperti jarang beraktivitas, konsumsi makanan berkalori tinggi, makan dengan porsi besar dan sering dalam sehari, kurang minum air putih, sering konsumsi gula dengan kadar tinggi seperti pada alkohol dan faktor pendukung lainnya jika memiliki riwayat keturunan obesitas juga."
   ]
  },
  {
   "cell_type": "markdown",
   "metadata": {},
   "source": [
    "### Conceptual Problems"
   ]
  },
  {
   "cell_type": "markdown",
   "metadata": {},
   "source": [
    "\n",
    "Jawab pertanyaan berikut:\n",
    "\n",
    "1. Jelaskan latar belakang adanya bagging dan cara kerja bagging!\n",
    "\n",
    "2. Jelaskan perbedaan cara kerja algoritma Random Forest dengan algoritma boosting yang Anda pilih!\n",
    "\n",
    "3.  Jelaskan apa yang dimaksud dengan Cross Validation!\n",
    "\n"
   ]
  },
  {
   "cell_type": "markdown",
   "metadata": {},
   "source": [
    "1. Latar Belakang Bagging (Bootstrap Aggregating): Bagging adalah metode dalam machine learning yang dirancang untuk mengatasi masalah variabilitas dalam model. Variabilitas dalam model bisa muncul jika model terlalu kompleks dan cenderung overfitting, atau jika model sangat sensitif terhadap variasi dalam data pelatihan.\n",
    "Cara Kerja Bagging: Bagging bekerja dengan membagi data pelatihan menjadi beberapa bagian kecil secara acak dengan pengembalian. Setiap bagian ini digunakan untuk melatih model (biasanya model yang sama, seperti pohon keputusan) secara terpisah. Setelah semua model dilatih, hasil prediksi dari masing-masing model digabungkan, misalnya dengan mengambil rata-rata (untuk regresi) atau dengan melakukan pemungutan suara mayoritas (untuk klasifikasi). Dengan menggabungkan hasil dari berbagai model ini, variabilitas berkurang, dan hasilnya cenderung menjadi model ensemble yang lebih stabil dan akurat.\n",
    "Perbedaan Cara Kerja Algoritma Random Forest dan Boosting:\n",
    "\n",
    "2. Random Forest: Random Forest juga menggunakan pohon keputusan, tetapi dengan pendekatan yang berbeda. Ia membagi data pelatihan menjadi banyak subset secara acak dan juga memilih subset fitur secara acak saat membangun setiap pohon keputusan. Hasil dari berbagai pohon ini kemudian digabungkan melalui pemungutan suara mayoritas atau mengambil rata-rata untuk membuat prediksi akhir. Setiap pohon dalam Random Forest bekerja secara independen.\n",
    "Boosting: Algoritma Boosting seperti AdaBoost atau XGBoost membangun model secara berurutan. Setiap model berusaha untuk memperbaiki kesalahan model sebelumnya. Data pelatihan diberi bobot, dan setiap model fokus pada sampel yang salah diberi bobot lebih besar. Prediksi dari setiap model ditimbang ketika menghasilkan prediksi akhir.\n",
    "Cross Validation (Validasi Silang):\n",
    "\n",
    "3. Cross Validation adalah teknik penting dalam mengevaluasi performa model machine learning. Ini digunakan untuk mengukur sejauh mana model dapat menggeneralisasi dari data pelatihan ke data yang belum pernah dilihat sebelumnya.\n",
    "Cara Kerja Cross Validation:\n",
    "Data pelatihan dibagi menjadi beberapa bagian (fold) sebanyak k tertentu.\n",
    "Model dilatih k kali, setiap kali menggunakan k-1 fold sebagai data pelatihan dan 1 fold sebagai data validasi.\n",
    "Kinerja model diukur pada setiap iterasi, dan nilai-nilai kinerja ini diambil rata-rata untuk memberikan perkiraan kinerja model.\n",
    "Cross Validation membantu mencegah overfitting dan memberikan perkiraan yang lebih konsisten tentang sejauh mana model akan bekerja pada data yang belum pernah dilihat sebelumnya."
   ]
  },
  {
   "cell_type": "markdown",
   "metadata": {},
   "source": []
  }
 ],
 "metadata": {
  "kernelspec": {
   "display_name": "base",
   "language": "python",
   "name": "python3"
  },
  "language_info": {
   "codemirror_mode": {
    "name": "ipython",
    "version": 3
   },
   "file_extension": ".py",
   "mimetype": "text/x-python",
   "name": "python",
   "nbconvert_exporter": "python",
   "pygments_lexer": "ipython3",
   "version": "3.11.4"
  }
 },
 "nbformat": 4,
 "nbformat_minor": 2
}
